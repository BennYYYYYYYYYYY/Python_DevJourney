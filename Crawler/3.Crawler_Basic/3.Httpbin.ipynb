{
 "cells": [
  {
   "cell_type": "markdown",
   "metadata": {},
   "source": [
    "# httpbin\n",
    "`httpbin` 是一個提供多種 HTTP 測試功能的開源服務，通常用來測試 HTTP 請求。它提供許多端點，能讓使用者查看伺服器如何處理請求，例如 GET、POST、PUT、DELETE 等方法的處理，並可以檢查 Headers、Cookies、參數、認證等資訊。\n",
    "\n",
    "- **用途**：主要用來測試 HTTP 客戶端和學習 HTTP 協議的細節，尤其適合剛接觸 API 測試的初學者。\n",
    "- **常見端點**：\n",
    "  - `/get`：回傳所接收的 GET 請求內容，用來檢查 GET 請求的 URL 和參數。\n",
    "  - `/post`：回傳 POST 請求的內容，用來測試數據在 POST 請求中的傳遞。\n",
    "  - `/headers`：回傳請求的 Headers，讓使用者確認請求頭的正確性。\n",
    "  - `/status/{code}`：模擬不同的 HTTP 狀態碼，讓使用者測試不同的錯誤情況，例如 404 或 500。\n",
    "  - `/delay/{n}`：延遲 `n` 秒再回應，模擬網路延遲。\n",
    "  \n",
    "舉例來說，發送一個 GET 請求到 `httpbin.org/get`，伺服器會回應一個 JSON 結構，包含我們所發送的 URL、查詢參數、Header 等資訊，這讓我們可以輕鬆確認請求是否正確發送。\n",
    "___\n"
   ]
  },
  {
   "cell_type": "markdown",
   "metadata": {},
   "source": [
    "# GET \n",
    "GET 請求的資料通常附加在 URL 後面，以查詢字串 (Query String) 的形式傳遞。\n",
    "這樣的傳遞方式會將資料直接顯示在 URL 中，適合用於傳遞非敏感、簡短的資料。"
   ]
  },
  {
   "cell_type": "code",
   "execution_count": null,
   "metadata": {},
   "outputs": [
    {
     "name": "stdout",
     "output_type": "stream",
     "text": [
      "<class 'requests.models.Response'>\n",
      "https://httpbin.org/get?gender=M&page=1\n"
     ]
    }
   ],
   "source": [
    "import requests\n",
    "\n",
    "url = r\"https://httpbin.org/get\" # /get\n",
    "\n",
    "# 用字典設定請求登入網頁的參數\n",
    "form_data = {\n",
    "    \"gender\":\"M\",\n",
    "    \"page\":1\n",
    "}\n",
    "\n",
    "r = requests.get(url, params=form_data) # 設定表單資料\n",
    "print(type(r))\n",
    "print(r.url)"
   ]
  },
  {
   "cell_type": "markdown",
   "metadata": {},
   "source": [
    "# POST \n",
    "POST 請求會將資料放在請求的主體（Body）中，而不是在 URL 中。\n",
    "這樣的方式可以隱藏資料，不會直接顯示在 URL 中，適合傳遞大量或敏感的資料，通常用於提交表單資料，因為它可以傳遞更複雜和大容量的資料。"
   ]
  },
  {
   "cell_type": "code",
   "execution_count": null,
   "metadata": {},
   "outputs": [
    {
     "name": "stdout",
     "output_type": "stream",
     "text": [
      "https://httpbin.org/post\n",
      "{\n",
      "  \"args\": {}, \n",
      "  \"data\": \"\", \n",
      "  \"files\": {}, \n",
      "  \"form\": {\n",
      "    \"gender\": \"M\", \n",
      "    \"page\": \"1\"\n",
      "  }, \n",
      "  \"headers\": {\n",
      "    \"Accept\": \"*/*\", \n",
      "    \"Accept-Encoding\": \"gzip, deflate, br\", \n",
      "    \"Content-Length\": \"15\", \n",
      "    \"Content-Type\": \"application/x-www-form-urlencoded\", \n",
      "    \"Host\": \"httpbin.org\", \n",
      "    \"User-Agent\": \"python-requests/2.32.3\", \n",
      "    \"X-Amzn-Trace-Id\": \"Root=1-672c32d6-26923f94640e1eba57ac9eeb\"\n",
      "  }, \n",
      "  \"json\": null, \n",
      "  \"origin\": \"223.136.210.113\", \n",
      "  \"url\": \"https://httpbin.org/post\"\n",
      "}\n",
      "\n"
     ]
    }
   ],
   "source": [
    "url = r\"https://httpbin.org/post\"\n",
    "r = requests.post(url, data=form_data) # POST請求\n",
    "print(r.url) # 不會顯示 form data\n",
    "print(r.text)"
   ]
  },
  {
   "cell_type": "code",
   "execution_count": 21,
   "metadata": {},
   "outputs": [
    {
     "name": "stdout",
     "output_type": "stream",
     "text": [
      "{\n",
      "  \"args\": {}, \n",
      "  \"data\": \"{\\\"gender\\\": \\\"M\\\", \\\"page\\\": 1}\", \n",
      "  \"files\": {}, \n",
      "  \"form\": {}, \n",
      "  \"headers\": {\n",
      "    \"Accept\": \"*/*\", \n",
      "    \"Accept-Encoding\": \"gzip, deflate, br\", \n",
      "    \"Content-Length\": \"26\", \n",
      "    \"Content-Type\": \"application/json\", \n",
      "    \"Host\": \"httpbin.org\", \n",
      "    \"User-Agent\": \"python-requests/2.32.3\", \n",
      "    \"X-Amzn-Trace-Id\": \"Root=1-672c3313-079e5dd149f8140c63b19b36\"\n",
      "  }, \n",
      "  \"json\": {\n",
      "    \"gender\": \"M\", \n",
      "    \"page\": 1\n",
      "  }, \n",
      "  \"origin\": \"223.136.210.113\", \n",
      "  \"url\": \"https://httpbin.org/post\"\n",
      "}\n",
      "\n"
     ]
    }
   ],
   "source": [
    "url = r\"https://httpbin.org/post\"\n",
    "# 傳入 json 格式\n",
    "r = requests.post(url, json=form_data) # json 參數會自動將字典轉成 Json\n",
    "print(r.text)"
   ]
  },
  {
   "cell_type": "markdown",
   "metadata": {},
   "source": [
    "# header"
   ]
  },
  {
   "cell_type": "code",
   "execution_count": null,
   "metadata": {},
   "outputs": [
    {
     "name": "stdout",
     "output_type": "stream",
     "text": [
      "<class 'requests.models.Response'>\n",
      "https://httpbin.org/\n",
      "{'User-Agent': 'Mozilla/5.0 (Windows NT 10.0; Win64; x64) AppleWebKit/537.36 (KHTML, like Gecko) Chrome/130.0.0.0 Safari/537.36', 'Accept-Encoding': 'gzip, deflate, br', 'Accept': '*/*', 'Connection': 'keep-alive', 'Content-Length': '26', 'Content-Type': 'application/json'}\n",
      "{'Date': 'Thu, 07 Nov 2024 02:46:03 GMT', 'Content-Type': 'text/html', 'Content-Length': '178', 'Connection': 'keep-alive', 'Server': 'gunicorn/19.9.0', 'Allow': 'GET, HEAD, OPTIONS', 'Access-Control-Allow-Origin': '*', 'Access-Control-Allow-Credentials': 'true'}\n",
      "405 METHOD NOT ALLOWED\n",
      "ISO-8859-1\n"
     ]
    }
   ],
   "source": [
    "url = r\"https://httpbin.org/post\"\n",
    "headers = {\n",
    "    \"User-Agent\":\"Mozilla/5.0 (Windows NT 10.0; Win64; x64) AppleWebKit/537.36 (KHTML, like Gecko) Chrome/130.0.0.0 Safari/537.36\"\n",
    "}\n",
    "\n",
    "r = requests.post(url, json=form_data, headers=headers) # Response object\n",
    "print(type(r))\n",
    "print(r.url)\n",
    "print(r.request.headers) # 發送請求時的標頭\n",
    "print(r.headers) # 伺服器回應的標頭"
   ]
  },
  {
   "cell_type": "code",
   "execution_count": null,
   "metadata": {},
   "outputs": [
    {
     "name": "stdout",
     "output_type": "stream",
     "text": [
      "utf-8\n",
      "<!DOCTYPE html>\n",
      "<html>\n",
      "  <head>\n",
      "  </head>\n",
      "  <body>\n",
      "      <h1>Herman Melville - Moby-Dick</h1>\n",
      "\n",
      "      <div>\n",
      "        <p>\n",
      "          Availing himself of the mild, summer-cool weather that now reigned in these latitudes, and in preparation for the peculiarly active pursuits shortly to be anticipated, Perth, the begrimed, blistered old blacksmith, had not removed his portable forge to the hold again, after concluding his contributory work for Ahab's leg, but still retained it on deck, fast lashed to ringbolts by the foremast; being now almost incessantly invoked by the headsmen, and harpooneers, and bowsmen to do some little job for them; altering, or repairing, or new shaping their various weapons and boat furniture. Often he would be surrounded by an eager circle, all waiting to be served; holding boat-spades, pike-heads, harpoons, and lances, and jealously watching his every sooty movement, as he toiled. Nevertheless, this old man's was a patient hammer wielded by a patient arm. No murmur, no impatience, no petulance did come from him. Silent, slow, and solemn; bowing over still further his chronically broken back, he toiled away, as if toil were life itself, and the heavy beating of his hammer the heavy beating of his heart. And so it was.—Most miserable! A peculiar walk in this old man, a certain slight but painful appearing yawing in his gait, had at an early period of the voyage excited the curiosity of the mariners. And to the importunity of their persisted questionings he had finally given in; and so it came to pass that every one now knew the shameful story of his wretched fate. Belated, and not innocently, one bitter winter's midnight, on the road running between two country towns, the blacksmith half-stupidly felt the deadly numbness stealing over him, and sought refuge in a leaning, dilapidated barn. The issue was, the loss of the extremities of both feet. Out of this revelation, part by part, at last came out the four acts of the gladness, and the one long, and as yet uncatastrophied fifth act of the grief of his life's drama. He was an old man, who, at the age of nearly sixty, had postponedly encountered that thing in sorrow's technicals called ruin. He had been an artisan of famed excellence, and with plenty to do; owned a house and garden; embraced a youthful, daughter-like, loving wife, and three blithe, ruddy children; every Sunday went to a cheerful-looking church, planted in a grove. But one night, under cover of darkness, and further concealed in a most cunning disguisement, a desperate burglar slid into his happy home, and robbed them all of everything. And darker yet to tell, the blacksmith himself did ignorantly conduct this burglar into his family's heart. It was the Bottle Conjuror! Upon the opening of that fatal cork, forth flew the fiend, and shrivelled up his home. Now, for prudent, most wise, and economic reasons, the blacksmith's shop was in the basement of his dwelling, but with a separate entrance to it; so that always had the young and loving healthy wife listened with no unhappy nervousness, but with vigorous pleasure, to the stout ringing of her young-armed old husband's hammer; whose reverberations, muffled by passing through the floors and walls, came up to her, not unsweetly, in her nursery; and so, to stout Labor's iron lullaby, the blacksmith's infants were rocked to slumber. Oh, woe on woe! Oh, Death, why canst thou not sometimes be timely? Hadst thou taken this old blacksmith to thyself ere his full ruin came upon him, then had the young widow had a delicious grief, and her orphans a truly venerable, legendary sire to dream of in their after years; and all of them a care-killing competency.\n",
      "        </p>\n",
      "      </div>\n",
      "  </body>\n",
      "</html>\n"
     ]
    }
   ],
   "source": [
    "url = r\"https://httpbin.org/html\"\n",
    "r = requests.get(url)\n",
    "\n",
    "# Encoding\n",
    "print(r.encoding)\n",
    " \n",
    "print(r.text)"
   ]
  },
  {
   "cell_type": "code",
   "execution_count": null,
   "metadata": {},
   "outputs": [
    {
     "name": "stdout",
     "output_type": "stream",
     "text": [
      "200 OK\n",
      "application/json\n",
      "{'args': {}, 'headers': {'Accept': '*/*', 'Accept-Encoding': 'gzip, deflate, br', 'Host': 'httpbin.org', 'User-Agent': 'python-requests/2.32.3', 'X-Amzn-Trace-Id': 'Root=1-672c33d2-0f16e5955faae3de3644a02f'}, 'origin': '223.136.210.113', 'url': 'https://httpbin.org/get'}\n"
     ]
    }
   ],
   "source": [
    "url = r\"https://httpbin.org/get\"\n",
    "r = requests.get(url)\n",
    "\n",
    "# 伺服器正常回應時 200 與 ok\n",
    "print(r.status_code ,r.reason) \n",
    "\n",
    "# 伺服器回傳的資料格式\n",
    "print(r.headers.get(\"content-type\"))\n",
    "\n",
    "# 若伺服器回傳內容為 json, 可以將 json 轉 Python 物件\n",
    "print(r.json()) "
   ]
  },
  {
   "cell_type": "code",
   "execution_count": 26,
   "metadata": {},
   "outputs": [],
   "source": [
    "url = r\"https://httpbin.org/image/jpeg\"\n",
    "r = requests.get(url)\n",
    "\n",
    "\n",
    "# 如果下載的是影音、圖片，則會獲得二進位格式內容，可以用 content 取得內容\n",
    "img = r.content\n",
    "path = 'test.jpg'\n",
    "with open(path, \"wb\") as f:\n",
    "    f.write(img)"
   ]
  },
  {
   "cell_type": "markdown",
   "metadata": {},
   "source": [
    "# Cookie\n",
    "Cookie 是由網站存放在用戶瀏覽器中的小型數據檔案，用於記錄用戶的特定資訊。這些資訊通常包含用戶的會話ID、偏好設定、追蹤資訊等，主要目的在於提升網站使用體驗和便於伺服器辨識用戶。\n",
    "\n",
    "### Cookie 的主要用途\n",
    "1. **身份驗證**：Cookie 可以存儲用戶的登入資訊，當用戶再次訪問網站時，伺服器可以通過 Cookie 辨識身份，避免重複登入。\n",
    "   \n",
    "2. **追蹤與分析**：Cookie 可以儲存用戶的瀏覽行為（例如點擊記錄、訪問時間），幫助網站進行流量分析和使用者行為分析，以優化網站內容。\n",
    "\n",
    "3. **個性化體驗**：Cookie 能記住用戶的偏好，例如語言設定、字體大小等。這樣，用戶下次訪問時，網站會根據這些偏好自動設定介面。\n",
    "\n",
    "### Cookie 的特性\n",
    "- **有效期**：Cookie 可以設置有效期。會話性 Cookie（Session Cookie）會在瀏覽器關閉後自動刪除，而持久性 Cookie（Persistent Cookie）則會根據設定的有效期持續存在。\n",
    "  \n",
    "- **作用域**：Cookie 通常僅能在其所屬的域名或子域名中使用，防止跨站共享 Cookie（以保護用戶隱私）。\n",
    "\n",
    "- **安全性**：一些 Cookie 可以設置為「HttpOnly」和「Secure」。HttpOnly Cookie 僅能在伺服器端訪問，無法通過 JavaScript 調用；Secure Cookie 則只能在 HTTPS 連線下傳輸，以增強安全性。\n",
    "\n",
    "### Cookie 的限制\n",
    "- **儲存大小**：每個 Cookie 的大小通常限制在 4 KB 左右，且每個域名下的 Cookie 數量有限。\n",
    "  \n",
    "- **隱私問題**：由於 Cookie 可以用來追蹤用戶行為，隱私問題受到關注。許多瀏覽器提供管理 Cookie 的功能，並允許用戶選擇拒絕或刪除特定 Cookie。\n",
    "\n"
   ]
  },
  {
   "cell_type": "code",
   "execution_count": 27,
   "metadata": {},
   "outputs": [
    {
     "name": "stdout",
     "output_type": "stream",
     "text": [
      "{\n",
      "  \"cookies\": {\n",
      "    \"key1\": \"value1\"\n",
      "  }\n",
      "}\n",
      "\n"
     ]
    }
   ],
   "source": [
    "# 在 Python requests libary，Cookie 通常以字典形式表示。\n",
    "url = r\"https://httpbin.org/cookies\"\n",
    "cookies = {\"key1\":\"value1\"}\n",
    "r = requests.get(url, cookies=cookies)\n",
    "print(r.text)\n"
   ]
  },
  {
   "cell_type": "markdown",
   "metadata": {},
   "source": [
    "# Proxy\n",
    "在網路爬蟲，**代理 IP** 是指使用一個中介的 IP 位址來發送請求，而非直接使用真實 IP 位址。代理 IP 能夠幫助爬蟲隱藏其來源，繞過 IP 封鎖，並模擬不同的用戶來進行高頻次或大量的數據請求。\n",
    "\n",
    "### 為什麼使用代理 IP？\n",
    "1. **避免 IP 被封鎖**：當我們在短時間內對某個網站發送大量請求時，網站的防爬蟲機制可能會識別並封鎖我們的 IP 位址。使用代理 IP 可以分散請求來源，減少被封鎖的風險。\n",
    "  \n",
    "2. **提高隱私性**：代理 IP 可以隱藏真實 IP 位址，增強爬蟲的隱私性。特別是當我們不希望被目標網站識別真實來源時，代理 IP 會顯得非常有用。\n",
    "\n",
    "3. **繞過地區限制**：有些網站只允許特定地區的 IP 位址訪問內容。透過使用不同地區的代理 IP，可以獲取不同地區的內容或繞過區域性限制。\n",
    "\n",
    "4. **模擬不同用戶**：對於一些設置限制的網站，使用代理 IP 可以模擬多個用戶的瀏覽行為，例如隨機代理 IP 讓請求來源看起來更自然。\n",
    "\n",
    "### 如何在 Python 中設置代理 IP？\n",
    "在 Python 的 `requests` 庫中，可以透過 `proxies` 參數來設置代理 IP。`proxies` 參數接收一個字典，指定 `http` 或 `https` 協議所使用的代理 IP 位址。\n"
   ]
  },
  {
   "cell_type": "code",
   "execution_count": null,
   "metadata": {},
   "outputs": [],
   "source": [
    "# 範例，從 free proxy IP list\n",
    "proxies = {\n",
    "    \"http\":\"http://203.83.182.86:8080\"\n",
    "}\n",
    "\n",
    "r = requests.get(url, proxies=proxies)"
   ]
  }
 ],
 "metadata": {
  "kernelspec": {
   "display_name": "base",
   "language": "python",
   "name": "python3"
  },
  "language_info": {
   "codemirror_mode": {
    "name": "ipython",
    "version": 3
   },
   "file_extension": ".py",
   "mimetype": "text/x-python",
   "name": "python",
   "nbconvert_exporter": "python",
   "pygments_lexer": "ipython3",
   "version": "3.11.5"
  }
 },
 "nbformat": 4,
 "nbformat_minor": 2
}
