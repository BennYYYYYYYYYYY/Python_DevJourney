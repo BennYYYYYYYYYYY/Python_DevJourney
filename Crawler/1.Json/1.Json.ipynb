{
 "cells": [
  {
   "cell_type": "code",
   "execution_count": 1,
   "metadata": {},
   "outputs": [
    {
     "name": "stdout",
     "output_type": "stream",
     "text": [
      "{\"James Harden\": \"Houston Rockets\", \"Kevin Durant\": \"Golden State Warriors\", \"Lebron James\": \"Cleveland Cavaliers\", \"Paul Gasol\": \"San Antonio Spurs\", \"Stephen Curry\": \"Golden State Warriors\"}\n"
     ]
    }
   ],
   "source": [
    "import json\n",
    "\n",
    "# 轉 JSON 格式\n",
    "players = {'Stephen Curry':'Golden State Warriors',\n",
    "           'Kevin Durant':'Golden State Warriors',\n",
    "           'Lebron James':'Cleveland Cavaliers',\n",
    "           'James Harden':'Houston Rockets',\n",
    "           'Paul Gasol':'San Antonio Spurs',\n",
    "          }\n",
    "jsonObj = json.dumps(players, sort_keys=True)  # 按照json的sort方式\n",
    "print(jsonObj)\n"
   ]
  },
  {
   "cell_type": "code",
   "execution_count": 2,
   "metadata": {},
   "outputs": [
    {
     "name": "stdout",
     "output_type": "stream",
     "text": [
      "{\n",
      "    \"James Harden\": \"Houston Rockets\",\n",
      "    \"Kevin Durant\": \"Golden State Warriors\",\n",
      "    \"Lebron James\": \"Cleveland Cavaliers\",\n",
      "    \"Paul Gasol\": \"San Antonio Spurs\",\n",
      "    \"Stephen Curry\": \"Golden State Warriors\"\n",
      "}\n"
     ]
    }
   ],
   "source": [
    "players = {'Stephen Curry':'Golden State Warriors',\n",
    "           'Kevin Durant':'Golden State Warriors',\n",
    "           'Lebron James':'Cleveland Cavaliers',\n",
    "           'James Harden':'Houston Rockets',\n",
    "           'Paul Gasol':'San Antonio Spurs',\n",
    "          }\n",
    "jsonObj = json.dumps(players, sort_keys=True, indent=4)  # 縮排\n",
    "print(jsonObj)"
   ]
  },
  {
   "cell_type": "code",
   "execution_count": 3,
   "metadata": {},
   "outputs": [
    {
     "name": "stdout",
     "output_type": "stream",
     "text": [
      "{'b': 80, 'a': 25, 'c': 60}\n",
      "<class 'dict'>\n"
     ]
    }
   ],
   "source": [
    "jsonObj = '{\"b\":80, \"a\":25, \"c\":60}'    # json object 在 python 是 str\n",
    "dictObj = json.loads(jsonObj)           \n",
    "\n",
    "print(dictObj)\n",
    "print(type(dictObj)) # json 轉到 python 中變為 dict"
   ]
  },
  {
   "cell_type": "markdown",
   "metadata": {},
   "source": [
    "#### 最高層次(頂層)的 JSON 文件中只能有一個物件\n",
    "### `{\"key\":這邊放一堆東西都可以}`"
   ]
  },
  {
   "cell_type": "code",
   "execution_count": 9,
   "metadata": {},
   "outputs": [
    {
     "name": "stdout",
     "output_type": "stream",
     "text": [
      "{'Asia': [{'Japan': 'Tokyo'}, {'China': 'Beijing'}]}\n",
      "[{'Japan': 'Tokyo'}, {'China': 'Beijing'}]\n",
      "<class 'list'>\n",
      "{'China': 'Beijing'}\n",
      "<class 'dict'>\n",
      "Beijing\n",
      "<class 'str'>\n"
     ]
    }
   ],
   "source": [
    "obj = '{\"Asia\":[{\"Japan\":\"Tokyo\"},{\"China\":\"Beijing\"}]}'\n",
    "json_obj = json.loads(obj)\n",
    "print(json_obj) \n",
    "print(json_obj[\"Asia\"]) \n",
    "print(type(json_obj[\"Asia\"]))\n",
    "print(json_obj[\"Asia\"][1])\n",
    "print(type(json_obj[\"Asia\"][1]))\n",
    "print(json_obj[\"Asia\"][1][\"China\"])\n",
    "print(type(json_obj[\"Asia\"][1][\"China\"]))"
   ]
  },
  {
   "cell_type": "code",
   "execution_count": 5,
   "metadata": {},
   "outputs": [
    {
     "name": "stdout",
     "output_type": "stream",
     "text": [
      "{'Asia': [{'Japan': 'Tokyo'}, {'China': 'Beijing'}]}\n",
      "[{'Japan': 'Tokyo'}, {'China': 'Beijing'}]\n",
      "{'Japan': 'Tokyo'}\n",
      "{'China': 'Beijing'}\n",
      "Tokyo\n",
      "Beijing\n"
     ]
    }
   ],
   "source": [
    "obj = '{\"Asia\":\\\n",
    "        [{\"Japan\":\"Tokyo\"},\\\n",
    "         {\"China\":\"Beijing\"}]\\\n",
    "       }'\n",
    "\n",
    "json_obj = json.loads(obj)\n",
    "print(json_obj)\n",
    "print(json_obj[\"Asia\"])\n",
    "print(json_obj[\"Asia\"][0])\n",
    "print(json_obj[\"Asia\"][1])\n",
    "print(json_obj[\"Asia\"][0][\"Japan\"])\n",
    "print(json_obj[\"Asia\"][1][\"China\"])"
   ]
  },
  {
   "cell_type": "code",
   "execution_count": 11,
   "metadata": {},
   "outputs": [],
   "source": [
    "objlist = [{\"日本\":\"Japan\", \"首都\":\"Tykyo\"},\n",
    "           {\"美州\":\"USA\", \"首都\":\"Washington\"}]\n",
    "\n",
    "path = 'newfile.json'\n",
    "with open(path, 'w', encoding='utf-8') as fnObj: \n",
    "    json.dump(objlist, fnObj, indent=2, ensure_ascii=False) # 不使用 ascii encoding, input file object"
   ]
  },
  {
   "cell_type": "code",
   "execution_count": 17,
   "metadata": {},
   "outputs": [
    {
     "name": "stdout",
     "output_type": "stream",
     "text": [
      "<class '_io.TextIOWrapper'>\n",
      "[{'日本': 'Japan', '首都': 'Tykyo'}, {'美州': 'USA', '首都': 'Washington'}]\n"
     ]
    }
   ],
   "source": [
    "from pathlib import Path\n",
    "\n",
    "with open(Path(path).resolve(), mode=\"r\") as f: # resolve() \"解析\"出絕對路徑\n",
    "    data = json.load(f) # input file object\n",
    "\n",
    "print(type(f))\n",
    "print(data)"
   ]
  }
 ],
 "metadata": {
  "kernelspec": {
   "display_name": "base",
   "language": "python",
   "name": "python3"
  },
  "language_info": {
   "codemirror_mode": {
    "name": "ipython",
    "version": 3
   },
   "file_extension": ".py",
   "mimetype": "text/x-python",
   "name": "python",
   "nbconvert_exporter": "python",
   "pygments_lexer": "ipython3",
   "version": "3.11.5"
  }
 },
 "nbformat": 4,
 "nbformat_minor": 2
}
