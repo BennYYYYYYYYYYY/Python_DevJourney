{
 "cells": [
  {
   "cell_type": "code",
   "execution_count": 7,
   "metadata": {},
   "outputs": [
    {
     "name": "stdout",
     "output_type": "stream",
     "text": [
      "<_csv.reader object at 0x00000185EF927E80>\n",
      "[['Name', 'Year', 'Product', 'Price', 'Quantity', 'Revenue', 'Location'], ['Diana', '2015', 'Black Tea', '10', '600', '6000', 'New York'], ['Diana', '2015', 'Green Tea', '7', '660', '4620', 'New York'], ['Diana', '2016', 'Black Tea', '10', '750', '7500', 'New York'], ['Diana', '2016', 'Green Tea', '7', '900', '6300', 'New York'], ['Julia', '2015', 'Black Tea', '10', '1200', '12000', 'New York'], ['Julia', '2016', 'Black Tea', '10', '1260', '12600', 'New York'], ['Steve', '2015', 'Black Tea', '10', '1170', '11700', 'Chicago'], ['Steve', '2015', 'Green Tea', '7', '1260', '8820', 'Chicago'], ['Steve', '2016', 'Black Tea', '10', '1350', '13500', 'Chicago'], ['Steve', '2016', 'Green Tea', '7', '1440', '10080', 'Chicago']]\n"
     ]
    }
   ],
   "source": [
    "import csv\n",
    "\n",
    "path = r\"C:\\Users\\user\\Desktop\\Python\\Crawler\\2.Csv\\Report.csv\"\n",
    "with open(path) as f:\n",
    "    data = csv.reader(f)  # reader object\n",
    "    print(data)\n",
    "    print(list(data))\n",
    "\n",
    " "
   ]
  },
  {
   "cell_type": "code",
   "execution_count": 8,
   "metadata": {},
   "outputs": [
    {
     "name": "stdout",
     "output_type": "stream",
     "text": [
      "['Name', 'Year', 'Product', 'Price', 'Quantity', 'Revenue', 'Location']\n",
      "['Diana', '2015', 'Black Tea', '10', '600', '6000', 'New York']\n",
      "['Diana', '2015', 'Green Tea', '7', '660', '4620', 'New York']\n",
      "['Diana', '2016', 'Black Tea', '10', '750', '7500', 'New York']\n",
      "['Diana', '2016', 'Green Tea', '7', '900', '6300', 'New York']\n",
      "['Julia', '2015', 'Black Tea', '10', '1200', '12000', 'New York']\n",
      "['Julia', '2016', 'Black Tea', '10', '1260', '12600', 'New York']\n",
      "['Steve', '2015', 'Black Tea', '10', '1170', '11700', 'Chicago']\n",
      "['Steve', '2015', 'Green Tea', '7', '1260', '8820', 'Chicago']\n",
      "['Steve', '2016', 'Black Tea', '10', '1350', '13500', 'Chicago']\n",
      "['Steve', '2016', 'Green Tea', '7', '1440', '10080', 'Chicago']\n"
     ]
    }
   ],
   "source": [
    "path = r\"C:\\Users\\user\\Desktop\\Python\\Crawler\\2.Csv\\Report.csv\"\n",
    "with open(path) as f:\n",
    "    data = csv.reader(f)  # reader object\n",
    "    for item in data: # return \"row\" in each iteration\n",
    "        print(item)"
   ]
  }
 ],
 "metadata": {
  "kernelspec": {
   "display_name": "base",
   "language": "python",
   "name": "python3"
  },
  "language_info": {
   "codemirror_mode": {
    "name": "ipython",
    "version": 3
   },
   "file_extension": ".py",
   "mimetype": "text/x-python",
   "name": "python",
   "nbconvert_exporter": "python",
   "pygments_lexer": "ipython3",
   "version": "3.11.5"
  }
 },
 "nbformat": 4,
 "nbformat_minor": 2
}
