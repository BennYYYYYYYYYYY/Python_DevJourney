{
 "cells": [
  {
   "cell_type": "markdown",
   "metadata": {},
   "source": [
    "使用 @property 這個 decorator 時，是將一個 method 轉換成了像 attribute (property) 一樣的行為。\n",
    "意味著，即使原來定義的是一個 method ，通過 @property 修飾後，可以像普通變量一樣進行訪問，而不需要使用括號來調用它。\n",
    "\n",
    "@property.setter 是 @property 的對應 setter，允許控制 attribute 的\"設置邏輯\"。\n",
    "目的是，如果想要對某個 attribute 賦值，又需要在賦值的過程中加入一些檢查或處理，可以使用 @property.setter 來定義這種行為。\n",
    "\n",
    "@property： \"程式碼的使用者可以像訪問普通變量一樣使用這個方法，但它背後卻可以執行一些邏輯運算。\"\n",
    "@property.setter： 控制在設置屬性時發生的事情 (如驗證輸入，或計算相關數值)。"
   ]
  },
  {
   "cell_type": "code",
   "execution_count": null,
   "metadata": {},
   "outputs": [],
   "source": [
    "class Employee:\n",
    "    def __init__(self):\n",
    "        self.income = 0\n",
    "        self.__tax = 0 # private property\n",
    "\n",
    "    def earn_money(self, money):\n",
    "        self.income += money\n",
    "        self.__tax = self.income * 0.05 # 計算 tax\n",
    "\n",
    "    def get_tax(self):\n",
    "        return self.__tax\n",
    "    \n",
    "Benny = Employee()\n",
    "Benny.earn_money(100)\n",
    "# print(Benny.get_tax()) # 我必須使用.() method 才能得到答案。但我其實不必定義 self.__tax， 因為 self.income 可以直接做轉換。"
   ]
  },
  {
   "cell_type": "markdown",
   "metadata": {},
   "source": [
    "@property 提供了一個從 income 派生出來的只讀屬性 tax_amount，方便根據收入查詢稅額。\n",
    "\n",
    "@tax_amount.setter 則提供了從 tax_amount 反推收入的能力。\n",
    "\n",
    "這樣，無論知道 income 還是 tax_amount，都可以操作對應的數據。"
   ]
  },
  {
   "cell_type": "code",
   "execution_count": 3,
   "metadata": {},
   "outputs": [
    {
     "name": "stdout",
     "output_type": "stream",
     "text": [
      "4000\n"
     ]
    }
   ],
   "source": [
    "class Employee:\n",
    "    def __init__(self):\n",
    "        self.income = 0\n",
    "\n",
    "    def earn_money(self, money):\n",
    "        self.income += money\n",
    "\n",
    "    @property # 創造一個\"visual porperty\", 他可以把我等等 def 的 method 用 attribute 的方式呈現\n",
    "    def tax_amount(self):\n",
    "        return self.income * 0.05  # 使用 self.income property 進行 method 運算\n",
    "    \n",
    "    @tax_amount.setter # 讓 tax 可以回推 income 的關係\n",
    "    def tax_amount(self, tax_number):\n",
    "        self.income = tax_number * 20\n",
    "\n",
    "Benny = Employee()\n",
    "Benny.tax_amount = 200   \n",
    "print(Benny.income) \n",
    "\n",
    "    "
   ]
  }
 ],
 "metadata": {
  "kernelspec": {
   "display_name": "base",
   "language": "python",
   "name": "python3"
  },
  "language_info": {
   "codemirror_mode": {
    "name": "ipython",
    "version": 3
   },
   "file_extension": ".py",
   "mimetype": "text/x-python",
   "name": "python",
   "nbconvert_exporter": "python",
   "pygments_lexer": "ipython3",
   "version": "3.11.5"
  }
 },
 "nbformat": 4,
 "nbformat_minor": 2
}
