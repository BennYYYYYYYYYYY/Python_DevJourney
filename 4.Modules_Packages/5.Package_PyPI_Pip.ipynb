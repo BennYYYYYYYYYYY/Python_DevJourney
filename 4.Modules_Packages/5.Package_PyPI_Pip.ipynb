{
 "cells": [
  {
   "cell_type": "markdown",
   "metadata": {},
   "source": [
    "## Package\n",
    "A package is a directory(folder) that can contain multiple Python modules. There are tons of Python packages written by people worldwide, we can freely download them online.\n"
   ]
  },
  {
   "cell_type": "markdown",
   "metadata": {},
   "source": [
    "## PyPI \n",
    "PyPI (stands for Python Package Index) is an online software repository that deals with python packages. PyPI is hosted by Python Software Foundation. \n",
    "\n"
   ]
  },
  {
   "cell_type": "markdown",
   "metadata": {},
   "source": [
    "## Pip\n",
    "Pip is a package-management software installed in computer (with Python) that is connected to PyPI; we can use the pip command to download and install packages directly from PyPI. \n",
    "\n",
    "### For example, if we want to install numpy, then we do:\n",
    "\n",
    "pip install numpy\n",
    "\n",
    "### Later, if numpy publish a new version, we can do:\n",
    "\n",
    "pip install –upgrade numpy\n",
    "\n",
    "### Or, if we want to install a specific version of numpy, we can do:\n",
    "\n",
    "pip install numpy==1.22.2\n",
    "\n",
    "### Or, if we want to install numpy that is greater than a specific version, we can do:\n",
    "\n",
    "pip install numpy>=1.22.2\n",
    "\n",
    "### If we want to check version of ALL python modules, we can do:\n",
    "\n",
    "pip freeze\n"
   ]
  }
 ],
 "metadata": {
  "language_info": {
   "name": "python"
  }
 },
 "nbformat": 4,
 "nbformat_minor": 2
}
