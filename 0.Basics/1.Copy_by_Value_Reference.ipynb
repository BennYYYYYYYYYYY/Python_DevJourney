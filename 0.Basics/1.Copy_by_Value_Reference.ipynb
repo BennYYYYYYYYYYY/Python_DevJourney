{
 "cells": [
  {
   "cell_type": "markdown",
   "metadata": {},
   "source": [
    "## Copy by Value or Reference\n",
    "In Python, the value assigned to a variable is either copied by value or by reference.\n",
    "\n",
    "\n",
    "Copy by value means copying the value and getting a whole new object; then, the object is put into the variable. On the other side, copy by reference means we copy the reference of the object in the memory, and the reference is put into the variable.\n",
    "\n",
    "1. copied by value: Integers, floats, booleans, strings \n",
    "2. copied by reference: Sets, tuples, lists, dictionaries\n"
   ]
  },
  {
   "cell_type": "markdown",
   "metadata": {},
   "source": [
    "## Sort and Sorted\n",
    "How can we sort immutable data types in Python? We only know that list has a built-in method called “sort” that sorts the list ( and it will modify the list in memory directly, since list is mutable). \n",
    "\n",
    "Python introduced a new built-in method called “sorted()” that builds a new sorted list from an iterable without modifying the original data. \n",
    "\n",
    "If you want to sort a list without modifying the original one, use sorted() method.\n"
   ]
  },
  {
   "cell_type": "markdown",
   "metadata": {},
   "source": [
    "### Built-in String Methods "
   ]
  },
  {
   "cell_type": "code",
   "execution_count": 26,
   "metadata": {},
   "outputs": [
    {
     "name": "stdout",
     "output_type": "stream",
     "text": [
      "Replace Python by Javascript: Hello Javascript\n",
      "Splite by space: ['Hello', 'Python']\n",
      "List: ['H', 'e', 'l', 'l', 'o', ' ', 'P', 'y', 't', 'h', 'o', 'n']\n",
      "Find 'P': 6\n",
      "Startswith H: True\n",
      "Endswith n: True\n"
     ]
    }
   ],
   "source": [
    "x = \"Hello Python\"\n",
    "\n",
    "print(f\"Replace Python by Javascript: {x.replace('Python', 'Javascript')}\")\n",
    "print(f\"Splite by space: {x.split()}\")\n",
    "print(f\"List: {list(x)}\")\n",
    "print(f\"Find 'P': {x.find('P')}\")\n",
    "print(f'Startswith H: {x.startswith(\"H\")}')\n",
    "print(f'Endswith n: {x.endswith(\"n\")}')"
   ]
  },
  {
   "cell_type": "markdown",
   "metadata": {},
   "source": [
    "### Built-in List Methods "
   ]
  },
  {
   "cell_type": "code",
   "execution_count": 23,
   "metadata": {},
   "outputs": [
    {
     "name": "stdout",
     "output_type": "stream",
     "text": [
      "Insert: ['k', 0, 1, 2, 3, 4, 5, 6, 7, 8, 9, 10]\n",
      "Clear: []\n",
      "The original list: [0, 3, 3, 6, 4, 3, 5, 8, 7, 5, 7]\n",
      "The sorted list: [0, 3, 3, 3, 4, 5, 5, 6, 7, 7, 8]\n",
      "The reversed list: [8, 7, 7, 6, 5, 5, 4, 3, 3, 3, 0]\n",
      "Remove by value 0: [8, 7, 7, 6, 5, 5, 4, 3, 3, 3]\n",
      "Pop by index 0: [7, 7, 6, 5, 5, 4, 3, 3, 3, 0]\n"
     ]
    }
   ],
   "source": [
    "x = [0, 1, 2, 3, 4, 5, 6, 7, 8, 9, 10]\n",
    "\n",
    "x.insert(0, \"k\")\n",
    "print(f\"Insert: {x}\")\n",
    "\n",
    "x.clear()\n",
    "print(f\"Clear: {x}\")\n",
    "\n",
    "import random\n",
    "x = [0]\n",
    "for i in range(10):\n",
    "    i = random.randint(0, 10)\n",
    "    x.append(i)\n",
    "print(f\"The original list: {x}\")\n",
    "\n",
    "x.sort()\n",
    "print(f\"The sorted list: {x}\")\n",
    "\n",
    "x.reverse()\n",
    "print(f\"The reversed list: {x}\")\n",
    "\n",
    "import copy\n",
    "y = copy.deepcopy(x) # Since list is copy by reference\n",
    "\n",
    "x.remove(0) \n",
    "print(f\"Remove by value 0: {x}\")\n",
    "\n",
    "y.pop(0)\n",
    "print(f\"Pop by index 0: {y}\")\n",
    "\n",
    "\n"
   ]
  },
  {
   "cell_type": "markdown",
   "metadata": {},
   "source": [
    "### Build-in Dictionaries Methods"
   ]
  },
  {
   "cell_type": "code",
   "execution_count": 42,
   "metadata": {},
   "outputs": [
    {
     "name": "stdout",
     "output_type": "stream",
     "text": [
      "dict_keys(['name', 'age'])\n",
      "dict_values(['Benny', 24])\n",
      "dict_items([('name', 'Benny'), ('age', 24)])\n"
     ]
    }
   ],
   "source": [
    "dic = {\"name\":\"Benny\", \"age\":24}\n",
    "\n",
    "print(dic.keys())\n",
    "print(dic.values())\n",
    "print(dic.items())"
   ]
  },
  {
   "cell_type": "markdown",
   "metadata": {},
   "source": [
    "### Build-in Sets Methods"
   ]
  },
  {
   "cell_type": "code",
   "execution_count": 18,
   "metadata": {},
   "outputs": [
    {
     "name": "stdout",
     "output_type": "stream",
     "text": [
      "{0, 1, 2, 3, 4, 5}\n",
      "set()\n",
      "{1, 2, 3, 4}\n",
      "Difference: {1, 2, 3, 4}\n",
      "Intersection: {5}\n"
     ]
    }
   ],
   "source": [
    "x = {1, 2, 3, 4, 5}\n",
    "\n",
    "x.add(0)\n",
    "print(x)\n",
    "\n",
    "x.clear()\n",
    "print(x)\n",
    "\n",
    "x = {1, 2, 3, 4, 5}\n",
    "x.discard(5)\n",
    "print(x)\n",
    "\n",
    "x = {1, 2, 3, 4, 5}\n",
    "y = {5, 6, 7, 8, 9}\n",
    "print(f\"Difference: {x.difference(y)}\")\n",
    "print(f\"Intersection: {x.intersection(y)}\")\n"
   ]
  }
 ],
 "metadata": {
  "kernelspec": {
   "display_name": "base",
   "language": "python",
   "name": "python3"
  },
  "language_info": {
   "codemirror_mode": {
    "name": "ipython",
    "version": 3
   },
   "file_extension": ".py",
   "mimetype": "text/x-python",
   "name": "python",
   "nbconvert_exporter": "python",
   "pygments_lexer": "ipython3",
   "version": "3.11.5"
  }
 },
 "nbformat": 4,
 "nbformat_minor": 2
}
