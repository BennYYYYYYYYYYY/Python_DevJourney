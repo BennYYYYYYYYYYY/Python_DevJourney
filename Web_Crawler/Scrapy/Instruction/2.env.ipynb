{
 "cells": [
  {
   "cell_type": "markdown",
   "metadata": {},
   "source": [
    "# 虛擬環境\n",
    "使用 conda 進行管理\n",
    "\n",
    "---"
   ]
  },
  {
   "cell_type": "markdown",
   "metadata": {},
   "source": [
    "## 檢查虛擬環境\n",
    "```\n",
    "conda env list \n",
    "```\n",
    "---\n",
    "## 建立虛擬環境\n",
    "```\n",
    "conda create --name myenv python=3.6\n",
    "```\n",
    "---\n",
    "## 啟動虛擬環境\n",
    "```\n",
    "activate myenv \n",
    "```\n",
    "---\n",
    "## 查看虛擬環境套件情況\n",
    "```\n",
    "conda list\n",
    "```\n",
    "---\n",
    "## 停用虛擬環境\n",
    "```\n",
    "conda deactivate\n",
    "```\n",
    "---\n",
    "## 刪除套件或虛擬環境\n",
    "```\n",
    "conda remove --name myenv matplotlib\n",
    "``` \n",
    "```\n",
    "conda env remove --name myenv\n",
    "```\n",
    "---"
   ]
  },
  {
   "cell_type": "markdown",
   "metadata": {},
   "source": [
    "# vscode 改 env\n",
    "```\n",
    "ctrl + shift + p \n",
    "```"
   ]
  }
 ],
 "metadata": {
  "kernelspec": {
   "display_name": "base",
   "language": "python",
   "name": "python3"
  },
  "language_info": {
   "name": "python",
   "version": "3.11.5"
  }
 },
 "nbformat": 4,
 "nbformat_minor": 2
}
