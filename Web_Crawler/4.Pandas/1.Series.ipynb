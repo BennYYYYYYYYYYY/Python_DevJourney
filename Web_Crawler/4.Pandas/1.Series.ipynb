{
 "cells": [
  {
   "cell_type": "markdown",
   "metadata": {},
   "source": [
    "# Series\n",
    "`Series` 是一種一維的數據結構，可以理解為帶有索引的一組數據。`Series` 是 Pandas 的基礎數據結構之一，用來表示一組標量數據（如整數、浮點數、字串等）或是多個元素組成的序列。\n",
    "\n",
    "## Series 的結構\n",
    "`Series` 可以想像成一列標記過的資料（類似於一維的資料表或 Excel 中的一行），每個值都有一個對應的標籤（index）。這些索引可以讓我們更靈活地查詢、選擇和管理數據。例如，我們可以透過標籤直接找到某個值，也可以進行條件篩選。\n",
    "\n",
    "## Series 的特性\n",
    "1. **單一數據類型**：每個 `Series` 中的元素都具有相同的數據類型。這是因為 `Series` 是基於 NumPy 的一維數組（ndarray），因此也繼承了 NumPy 的特性。\n",
    "   \n",
    "2. **索引（Index）**：`Series` 的每個元素都有唯一的索引，默認情況下是從 0 開始的整數序列，但可以自定義索引。這些索引讓 `Series` 更像一個具備標籤的數組，方便快速檢索和定位資料。\n",
    "\n",
    "3. **自動對齊**：在處理多個 `Series` 時，它們的索引會自動對齊。例如，兩個 `Series` 相加時，即使索引不同，Pandas 也會根據索引來自動配對並進行運算，不配對的索引會返回 NaN。\n",
    "\n",
    "4. **支持多種資料來源**：可以從多種不同來源建立 `Series`，如列表、字典、NumPy 數組、標量值等。這讓它在數據處理中非常靈活。\n",
    "\n"
   ]
  },
  {
   "cell_type": "code",
   "execution_count": 2,
   "metadata": {},
   "outputs": [
    {
     "name": "stdout",
     "output_type": "stream",
     "text": [
      "尼    中正\n",
      "租    成功\n",
      "dtype: object\n",
      "中正\n"
     ]
    }
   ],
   "source": [
    "# 使用字典，key 會視為索引，value 視為 Series Object 的值\n",
    "import pandas as pd\n",
    "\n",
    "dic = {\n",
    "    \"尼\":\"中正\",\n",
    "    \"租\":\"成功\"\n",
    "}\n",
    "\n",
    "s = pd.Series(dic)\n",
    "print(s)\n",
    "print(s[\"尼\"])"
   ]
  },
  {
   "cell_type": "code",
   "execution_count": 4,
   "metadata": {},
   "outputs": [
    {
     "name": "stdout",
     "output_type": "stream",
     "text": [
      "0    24\n",
      "1    23\n",
      "dtype: int64\n",
      "班尼    24\n",
      "租租    23\n",
      "dtype: int64\n",
      "Index(['班尼', '租租'], dtype='object')\n",
      "[24 23]\n"
     ]
    }
   ],
   "source": [
    "# 建立自行定義的索引\n",
    "my_index = [\"班尼\", \"租租\"]\n",
    "age = [24, 23]\n",
    "\n",
    "s = pd.Series(age) # Default index\n",
    "print(s)\n",
    "\n",
    "s1 = pd.Series(age, index=my_index) # tailored index\n",
    "print(s1)\n",
    "\n",
    "# Series' attribute\n",
    "print(s1.index)\n",
    "print(s1.values)\n"
   ]
  },
  {
   "cell_type": "code",
   "execution_count": 5,
   "metadata": {},
   "outputs": [
    {
     "name": "stdout",
     "output_type": "stream",
     "text": [
      "1    NaN\n",
      "2    1.0\n",
      "3    1.0\n",
      "4    NaN\n",
      "dtype: float64\n"
     ]
    }
   ],
   "source": [
    "# Series 索引不同時，運算會出現 NaN (Not a Number)\n",
    "index1 = [1, 2, 3]\n",
    "index2 = [2, 3, 4]\n",
    "\n",
    "s1 = pd.Series([1, 1, 1], index=index1)\n",
    "s2 = pd.Series([0, 0, 0], index=index2)\n",
    "\n",
    "s = s1 + s2\n",
    "print(s)"
   ]
  },
  {
   "cell_type": "code",
   "execution_count": 7,
   "metadata": {},
   "outputs": [
    {
     "name": "stdout",
     "output_type": "stream",
     "text": [
      "apple     30\n",
      "grava     40\n",
      "orange    50\n",
      "dtype: int64 \n",
      "\n",
      "apple     0.912945\n",
      "grava    -0.988032\n",
      "orange    0.745113\n",
      "dtype: float64\n"
     ]
    }
   ],
   "source": [
    "# 將純量與函數運用在 Series\n",
    "import numpy as np\n",
    "\n",
    "fruits = ['apple', 'grava', \"orange\"]\n",
    "s = pd.Series([20, 30, 40], index=fruits)\n",
    "print(s+10,\"\\n\")\n",
    "print(np.sin(s))"
   ]
  }
 ],
 "metadata": {
  "kernelspec": {
   "display_name": "base",
   "language": "python",
   "name": "python3"
  },
  "language_info": {
   "codemirror_mode": {
    "name": "ipython",
    "version": 3
   },
   "file_extension": ".py",
   "mimetype": "text/x-python",
   "name": "python",
   "nbconvert_exporter": "python",
   "pygments_lexer": "ipython3",
   "version": "3.11.5"
  }
 },
 "nbformat": 4,
 "nbformat_minor": 2
}
