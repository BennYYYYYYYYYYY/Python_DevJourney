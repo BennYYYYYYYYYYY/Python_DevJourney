{
 "cells": [
  {
   "cell_type": "markdown",
   "metadata": {},
   "source": [
    "# 四則運算"
   ]
  },
  {
   "cell_type": "code",
   "execution_count": null,
   "metadata": {},
   "outputs": [
    {
     "name": "stdout",
     "output_type": "stream",
     "text": [
      "0    5\n",
      "1    7\n",
      "2    9\n",
      "dtype: int64\n",
      "0   -3\n",
      "1   -3\n",
      "2   -3\n",
      "dtype: int64\n"
     ]
    }
   ],
   "source": [
    "import pandas as pd\n",
    "\n",
    "s1 = pd.Series([1, 2, 3])\n",
    "s2 = pd.Series([4, 5, 6])\n",
    "\n",
    "# add()\n",
    "print(s1.add(s2))\n",
    "\n",
    "# sub()\n",
    "print(s1.sub(s2))"
   ]
  },
  {
   "cell_type": "code",
   "execution_count": 5,
   "metadata": {},
   "outputs": [
    {
     "name": "stdout",
     "output_type": "stream",
     "text": [
      "    a    b\n",
      "0  10   40\n",
      "1  90  160\n",
      "      a     b\n",
      "0  10.0  10.0\n",
      "1  10.0  10.0\n"
     ]
    }
   ],
   "source": [
    "df1 = pd.DataFrame({\n",
    "    \"a\":[10, 30],\n",
    "    \"b\":[20, 40]\n",
    "})\n",
    "\n",
    "df2 = pd.DataFrame({\n",
    "    \"a\":[1, 3],\n",
    "    \"b\":[2, 4]\n",
    "})\n",
    "\n",
    "# mul()\n",
    "print(df1.mul(df2))\n",
    "\n",
    "# div()\n",
    "print(df1.div(df2))"
   ]
  },
  {
   "cell_type": "markdown",
   "metadata": {},
   "source": [
    "# 邏輯運算"
   ]
  },
  {
   "cell_type": "code",
   "execution_count": 10,
   "metadata": {},
   "outputs": [
    {
     "name": "stdout",
     "output_type": "stream",
     "text": [
      "0    False\n",
      "1    False\n",
      "2    False\n",
      "dtype: bool\n",
      "0    True\n",
      "1    True\n",
      "2    True\n",
      "dtype: bool\n",
      "0    False\n",
      "1    False\n",
      "2    False\n",
      "dtype: bool\n",
      "0    True\n",
      "1    True\n",
      "2    True\n",
      "dtype: bool\n",
      "0    False\n",
      "1    False\n",
      "2    False\n",
      "dtype: bool\n",
      "0    True\n",
      "1    True\n",
      "2    True\n",
      "dtype: bool\n"
     ]
    }
   ],
   "source": [
    "# greater than: gt()  \n",
    "print(s1.gt(s2))\n",
    "\n",
    "# less than: lt()\n",
    "print(s1.lt(s2))\n",
    "\n",
    "# greater equal: ge()\n",
    "print(s1.ge(s2))\n",
    "\n",
    "# less equal: le()\n",
    "print(s1.le(s2))\n",
    "\n",
    "# equal: eq()\n",
    "print(s1.eq(s2))\n",
    "\n",
    "# not equal: ne()\n",
    "print(s1.ne(s2))"
   ]
  },
  {
   "cell_type": "markdown",
   "metadata": {},
   "source": [
    "# 應用 Numpy 函數"
   ]
  },
  {
   "cell_type": "code",
   "execution_count": null,
   "metadata": {},
   "outputs": [
    {
     "name": "stdout",
     "output_type": "stream",
     "text": [
      "0    1\n",
      "1    4\n",
      "2    9\n",
      "dtype: int64 <class 'pandas.core.series.Series'>\n"
     ]
    }
   ],
   "source": [
    "import numpy as np\n",
    "s = pd.Series([1, 2, 3])\n",
    "\n",
    "# np.square()\n",
    "x = np.square(s)\n",
    "\n",
    "print(x, type(x))"
   ]
  },
  {
   "cell_type": "code",
   "execution_count": null,
   "metadata": {},
   "outputs": [
    {
     "data": {
      "text/html": [
       "<div>\n",
       "<style scoped>\n",
       "    .dataframe tbody tr th:only-of-type {\n",
       "        vertical-align: middle;\n",
       "    }\n",
       "\n",
       "    .dataframe tbody tr th {\n",
       "        vertical-align: top;\n",
       "    }\n",
       "\n",
       "    .dataframe thead th {\n",
       "        text-align: right;\n",
       "    }\n",
       "</style>\n",
       "<table border=\"1\" class=\"dataframe\">\n",
       "  <thead>\n",
       "    <tr style=\"text-align: right;\">\n",
       "      <th></th>\n",
       "      <th>Benny</th>\n",
       "      <th>Juno</th>\n",
       "    </tr>\n",
       "  </thead>\n",
       "  <tbody>\n",
       "    <tr>\n",
       "      <th>first</th>\n",
       "      <td>76</td>\n",
       "      <td>79</td>\n",
       "    </tr>\n",
       "    <tr>\n",
       "      <th>second</th>\n",
       "      <td>76</td>\n",
       "      <td>60</td>\n",
       "    </tr>\n",
       "  </tbody>\n",
       "</table>\n",
       "</div>"
      ],
      "text/plain": [
       "        Benny  Juno\n",
       "first      76    79\n",
       "second     76    60"
      ]
     },
     "execution_count": 17,
     "metadata": {},
     "output_type": "execute_result"
    }
   ],
   "source": [
    "# np.random.randint()\n",
    "\n",
    "name = ['Benny', 'Juno']\n",
    "score = [\"first\", \"second\"]\n",
    "df = pd.DataFrame(\n",
    "    np.random.randint(60,100,size=(2,2)),  # ndarray 可以直接填入 DataFrame 的表格結構中。\n",
    "    columns=name,\n",
    "    index=score\n",
    ")\n",
    "\n",
    "df\n"
   ]
  },
  {
   "cell_type": "markdown",
   "metadata": {},
   "source": [
    "# NaN 的處理"
   ]
  },
  {
   "cell_type": "code",
   "execution_count": 18,
   "metadata": {},
   "outputs": [
    {
     "name": "stdout",
     "output_type": "stream",
     "text": [
      "0     NaN\n",
      "1     NaN\n",
      "2    10.0\n",
      "dtype: float64\n"
     ]
    }
   ],
   "source": [
    "# 對 NaN 的運算結果也為 NaN\n",
    "s1 = pd.Series([1, np.nan, 5])\n",
    "s2 = pd.Series([np.nan, 2, 5])\n",
    "\n",
    "print(s1.add(s2))"
   ]
  },
  {
   "cell_type": "code",
   "execution_count": 23,
   "metadata": {},
   "outputs": [
    {
     "name": "stdout",
     "output_type": "stream",
     "text": [
      "0    1.0\n",
      "2    5.0\n",
      "dtype: float64\n",
      "0    1.0\n",
      "1      補\n",
      "2    5.0\n",
      "dtype: object\n",
      "0    False\n",
      "1     True\n",
      "2    False\n",
      "dtype: bool\n",
      "0     True\n",
      "1    False\n",
      "2     True\n",
      "dtype: bool\n"
     ]
    }
   ],
   "source": [
    "# dropna() 刪除 NaN 並回傳新 Series or DataFrame\n",
    "print(s1.dropna())\n",
    "\n",
    "# fillna(value) 將 NaN 取代成指定 value 並回傳新 Series or DataFrame\n",
    "print(s1.fillna(\"補\"))\n",
    "\n",
    "# isna() 回傳 boolean\n",
    "print(s1.isna())\n",
    "\n",
    "# notna() 回傳 boolean\n",
    "print(s1.notna())"
   ]
  },
  {
   "cell_type": "markdown",
   "metadata": {},
   "source": [
    "# 基礎統計\n",
    "**累積(Cumulative)** : 即對於每一行（或列）的位置都會考慮之前的數據，並進行累積，常用於需要跟踪隨時間變化的最大值，比如股票價格或其他隨時間變化的數據。"
   ]
  },
  {
   "cell_type": "code",
   "execution_count": 30,
   "metadata": {},
   "outputs": [
    {
     "name": "stdout",
     "output_type": "stream",
     "text": [
      "A    1\n",
      "B    2\n",
      "C    5\n",
      "Name: 0, dtype: int64 \n",
      "\n",
      "5\n"
     ]
    }
   ],
   "source": [
    "df = pd.DataFrame({'A': [1, 3, 2, 5, 4], \"B\": [2, 1, 1, 1, 1], \"C\": [5, 1, 1, 1, 1]})\n",
    "\n",
    "# cummax() \n",
    "print(df.iloc[0,].cummax(),\"\\n\")\n",
    "\n",
    "# max()\n",
    "print(df.iloc[0,].max())"
   ]
  },
  {
   "cell_type": "code",
   "execution_count": 32,
   "metadata": {},
   "outputs": [
    {
     "name": "stdout",
     "output_type": "stream",
     "text": [
      "0    1\n",
      "1    1\n",
      "2    1\n",
      "3    1\n",
      "4    1\n",
      "Name: A, dtype: int64 \n",
      "\n",
      "1\n"
     ]
    }
   ],
   "source": [
    "# cummin()\n",
    "print(df[\"A\"].cummin(),\"\\n\")\n",
    "\n",
    "# min()\n",
    "print(df[\"A\"].min())"
   ]
  },
  {
   "cell_type": "code",
   "execution_count": 33,
   "metadata": {},
   "outputs": [
    {
     "name": "stdout",
     "output_type": "stream",
     "text": [
      "0     1\n",
      "1     4\n",
      "2     6\n",
      "3    11\n",
      "4    15\n",
      "Name: A, dtype: int64 \n",
      "\n",
      "15\n"
     ]
    }
   ],
   "source": [
    "# cumsum()\n",
    "print(df[\"A\"].cumsum(),\"\\n\")\n",
    "\n",
    "# sum()\n",
    "print(df[\"A\"].sum())"
   ]
  },
  {
   "cell_type": "code",
   "execution_count": 34,
   "metadata": {},
   "outputs": [
    {
     "name": "stdout",
     "output_type": "stream",
     "text": [
      "3.0 \n",
      "\n",
      "3.0 \n",
      "\n",
      "1.5811388300841898\n"
     ]
    }
   ],
   "source": [
    "# mean()\n",
    "print(df[\"A\"].mean(),\"\\n\")\n",
    "\n",
    "# median()\n",
    "print(df[\"A\"].median(),\"\\n\")\n",
    "\n",
    "# std()\n",
    "print(df[\"A\"].std())"
   ]
  },
  {
   "cell_type": "markdown",
   "metadata": {},
   "source": [
    "# 增加 index"
   ]
  },
  {
   "cell_type": "code",
   "execution_count": 47,
   "metadata": {},
   "outputs": [
    {
     "name": "stdout",
     "output_type": "stream",
     "text": [
      "   Eng  Math  Social  Total\n",
      "0    4     3       2      9\n",
      "1    4     3       2      9\n",
      "2    4     3       2      9 \n",
      "\n",
      "Eng       4.0\n",
      "Math      3.0\n",
      "Social    2.0\n",
      "Total     9.0\n",
      "dtype: float64 \n",
      "\n",
      "         Eng  Math  Social  Total\n",
      "0        4.0   3.0     2.0    9.0\n",
      "1        4.0   3.0     2.0    9.0\n",
      "2        4.0   3.0     2.0    9.0\n",
      "Average  4.0   3.0     2.0    9.0 \n",
      "\n",
      "   Eng  Math  Social  Total\n",
      "0  4.0   3.0     2.0    9.0\n",
      "1  4.0   3.0     2.0    9.0\n",
      "2  4.0   3.0     2.0    9.0\n"
     ]
    }
   ],
   "source": [
    "eng = [4, 3, 2]\n",
    "math = [4, 3, 2]\n",
    "social = [4, 3, 2]\n",
    "\n",
    "df = pd.DataFrame(\n",
    "    [eng, math, social],\n",
    "    columns=[\"Eng\", \"Math\", \"Social\"],\n",
    "    index = range(3)   \n",
    ")\n",
    "\n",
    "total = [df.iloc[i].sum() for i in range(3)] # list\n",
    "df[\"Total\"] = total\n",
    "print(df,\"\\n\")\n",
    "\n",
    "ave = df.mean() # default axis = 0\n",
    "print(ave,\"\\n\")\n",
    "\n",
    "df.loc[\"Average\"] = ave\n",
    "print(df,\"\\n\")\n",
    "\n",
    "\n",
    "# drop 刪除 index \n",
    "df.drop(index=[\"Average\"], inplace=True)\n",
    "print(df)\n"
   ]
  },
  {
   "cell_type": "markdown",
   "metadata": {},
   "source": [
    "# 排序"
   ]
  },
  {
   "cell_type": "code",
   "execution_count": 61,
   "metadata": {},
   "outputs": [
    {
     "name": "stdout",
     "output_type": "stream",
     "text": [
      "         Eng      Math    Social      Total\n",
      "0        6.0  2.000000  9.000000  17.000000\n",
      "1        9.0  1.000000  9.000000  19.000000\n",
      "2        9.0  2.000000  8.000000  19.000000\n",
      "Average  8.0  1.666667  8.666667  18.333333 \n",
      "\n",
      "   Eng  Math  Social  Total  Rank\n",
      "1  9.0   1.0     9.0   19.0     1\n",
      "2  9.0   2.0     8.0   19.0     1\n",
      "0  6.0   2.0     9.0   17.0     2 \n",
      "\n",
      "   Eng  Math  Social  Total  Rank\n",
      "0  6.0   2.0     9.0   17.0     2\n",
      "1  9.0   1.0     9.0   19.0     1\n",
      "2  9.0   2.0     8.0   19.0     1\n"
     ]
    }
   ],
   "source": [
    "a = [6, 2, 9]\n",
    "b = [9, 1, 9]\n",
    "c = [9, 2, 8]\n",
    "\n",
    "df = pd.DataFrame(\n",
    "    [a, b, c],\n",
    "    columns=[\"Eng\", \"Math\", \"Social\"],\n",
    "    index = range(3)   \n",
    ")\n",
    "\n",
    "total = [df.iloc[i].sum() for i in range(3)] # list\n",
    "df[\"Total\"] = total\n",
    "\n",
    "ave = df.mean() # default axis = 0\n",
    "df.loc[\"Average\"] = ave\n",
    "\n",
    "print(df,\"\\n\")\n",
    "\n",
    "df.sort_values(by='Total', ascending=False, inplace=True)\n",
    "df.drop(index=[\"Average\"], inplace=True)\n",
    "df['Rank'] = df['Total'].rank(method='dense', ascending=False).astype(int) # method=\"dense\" 相同的值會獲得相同的排名，並且後續的排名不會跳過。\n",
    "\n",
    "print(df,\"\\n\") \n",
    "\n",
    "df.sort_index(inplace=True)\n",
    "print(df)\n"
   ]
  }
 ],
 "metadata": {
  "kernelspec": {
   "display_name": "base",
   "language": "python",
   "name": "python3"
  },
  "language_info": {
   "codemirror_mode": {
    "name": "ipython",
    "version": 3
   },
   "file_extension": ".py",
   "mimetype": "text/x-python",
   "name": "python",
   "nbconvert_exporter": "python",
   "pygments_lexer": "ipython3",
   "version": "3.11.5"
  }
 },
 "nbformat": 4,
 "nbformat_minor": 2
}
