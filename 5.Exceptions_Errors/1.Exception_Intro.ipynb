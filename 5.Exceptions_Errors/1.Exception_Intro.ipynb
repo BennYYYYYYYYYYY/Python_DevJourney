{
 "cells": [
  {
   "cell_type": "markdown",
   "metadata": {},
   "source": [
    "## Exception\n",
    "Exceptions – this happens when there’s no syntax error nor bugs in our codes, but accidents just happen. For example, our program wants to read a file by using the open() function, but the file doesn’t exist; or we are asking the user to input their age (should be an integer), but they type words, such as “I am ten years old.”\n",
    "\n",
    "\n",
    "#### There are 2 approaches to handle exceptions. \n",
    "1.  LBYL (Look Before You Leap)\n",
    "2.  EAFP (Easier to Ask Forgiveness than Permission).\n",
    "\n",
    "In Python, we do EAFP approach to handle exceptions.\n",
    "\n"
   ]
  },
  {
   "cell_type": "code",
   "execution_count": null,
   "metadata": {},
   "outputs": [],
   "source": [
    "# LBYL (Look Before You Leap)\n",
    "def safe_divide(x, y):\n",
    "    if y == 0:\n",
    "        print(\"Could not divide.\")\n",
    "        return None\n",
    "    else:\n",
    "        return x / y\n",
    "\n",
    "\n",
    "# EAFP (Easier to Ask Forgiveness than Permission).\n",
    "def safe_divide2(x, y):\n",
    "    try:\n",
    "        return x / y\n",
    "    except ZeroDivisionError:\n",
    "        print(\"Could not divide.\")\n",
    "        return None"
   ]
  },
  {
   "cell_type": "code",
   "execution_count": null,
   "metadata": {},
   "outputs": [],
   "source": [
    "# Example situation (This is just a sample code)\n",
    "def save_preference():\n",
    "    pass \n",
    "def save_text():\n",
    "    pass\n",
    "def save_format():\n",
    "    pass"
   ]
  },
  {
   "cell_type": "markdown",
   "metadata": {},
   "source": [
    "## Benefits of using EAFP\n",
    "1. If we use LBYL, then most of our codes are doing error handling. This decreases the readability of codes.\n",
    "\n",
    "2. EAFP is usually faster than LBYL, since we don’t need to stop and check all the conditions and possible problems before we execute codes.\n",
    "\n",
    "3. EAFP can avoid errors during condition checking and the actual execution of codes. \n",
    "\n",
    "For example, we have LBYL codes:\n",
    "```\n",
    "If (a file exists):\n",
    "    open the file and read the content\n",
    "```\n",
    "Then, after we check the file exists, before we open the file and read the content, there’s a chance that other programs go ahead and delete the file. Therefore, even if we check the file exists, we still cannot avoid getting it during execution, and the whole program might just crush.\n",
    "\n",
    "On the other hand, if we do EAFP, then we would do:\n",
    "```\n",
    "try:\n",
    "    open the file and read the content\n",
    "except:\n",
    "    # some error handling codes here\n",
    "```\n",
    "Then, we open the file directly. If we get some problems, we can handle that exception during execution, and the program won’t just crush.\n"
   ]
  },
  {
   "cell_type": "code",
   "execution_count": null,
   "metadata": {},
   "outputs": [],
   "source": [
    "# EAFP\n",
    "def save_a_file():\n",
    "    try:\n",
    "        save_preference()\n",
    "        save_text()\n",
    "        save_format()\n",
    "    except:\n",
    "        print(\"Something went wrong...\")"
   ]
  },
  {
   "cell_type": "markdown",
   "metadata": {},
   "source": [
    "## Benefits of using LBYL\n",
    "1. We are doing a task that is computationally heavy and time consuming. Then, if we execute the code first, and handle exceptions later, that would cost more time to finish running the codes. It would be better to check everything is fine before we run the code.\n",
    "\n",
    "2. If we are doing an important task that is costly to trace back, we should do LBYL instead of EAFP."
   ]
  },
  {
   "cell_type": "code",
   "execution_count": null,
   "metadata": {},
   "outputs": [],
   "source": [
    "# LBYL approach \n",
    "def save_a_file():\n",
    "    result = save_preference()\n",
    "    if result == 'error':\n",
    "        print(\"Preference not saved.\")\n",
    "        return\n",
    "    result = save_text()\n",
    "    if result == 'error':\n",
    "        print(\"Not enough memory.\")\n",
    "        return\n",
    "    result = save_format()\n",
    "    if result == 'error':\n",
    "        print(\"Format not saved.\")\n",
    "        return "
   ]
  }
 ],
 "metadata": {
  "kernelspec": {
   "display_name": "base",
   "language": "python",
   "name": "python3"
  },
  "language_info": {
   "name": "python",
   "version": "3.11.5"
  }
 },
 "nbformat": 4,
 "nbformat_minor": 2
}
