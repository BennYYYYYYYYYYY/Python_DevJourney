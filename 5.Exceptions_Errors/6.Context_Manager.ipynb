{
 "cells": [
  {
   "cell_type": "markdown",
   "metadata": {},
   "source": [
    "### Context Manager\n",
    "When we learned about I/O in Python, we talked about the syntax `with`; right now, we will learn the true meaning behind it.\n",
    "\n",
    "Traditionally, if we are working with files, we have to put open in try block (otherwise we might get FileNotFoundError). The code will look like:\n",
    "```\n",
    "try:\n",
    "    file = open(\"hello.txt\")\n",
    "    data = file.read()\n",
    "    file.close()\n",
    "except FileNotFoundError:\n",
    "    print(\"file not  found..\")\n",
    "```\n",
    "This is how Java and many other programming languages deal with I/O. But in Python 3, Context Manager is introduced with a better way to do this. When we use the keyword with to mark an object, after we leave the with block, Context Manager will execute the action to close the object.\n",
    "\n",
    "That’s is why we recommend using with keyword when working with files. Context Manager is very useful to work with I/O, database, and working with resources.\n"
   ]
  }
 ],
 "metadata": {
  "kernelspec": {
   "display_name": "base",
   "language": "python",
   "name": "python3"
  },
  "language_info": {
   "name": "python",
   "version": "3.11.5"
  }
 },
 "nbformat": 4,
 "nbformat_minor": 2
}
