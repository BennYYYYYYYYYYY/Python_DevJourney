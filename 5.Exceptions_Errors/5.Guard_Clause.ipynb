{
 "cells": [
  {
   "cell_type": "markdown",
   "metadata": {},
   "source": [
    "## Guard Clauses and Exception Handling\n",
    "When we are writing a function, we might encounter this situation:\n",
    "```\n",
    "def function():\n",
    "    if thing A is right:\n",
    "        do thing A\n",
    "        if thing B is right:\n",
    "            do thing B\n",
    "            if thing C is right:\n",
    "                do thing C\n",
    "                …\n",
    "```\n",
    "\n",
    "Multiple layers of if statement makes the code look messy and complex. This structure is known as the “guard clauses.” We can improve the structure and readability of the codes by using Exception Handling. \n",
    "```\n",
    "def function():\n",
    "    if thing A is not right:\n",
    "        raise Exception1\n",
    "    do thing A\n",
    "    if thing B is not right:\n",
    "         raise Exception2\n",
    "    do thing B\n",
    "    …\n",
    "```"
   ]
  },
  {
   "cell_type": "markdown",
   "metadata": {},
   "source": [
    "### Guard Clause example"
   ]
  },
  {
   "cell_type": "code",
   "execution_count": 1,
   "metadata": {},
   "outputs": [
    {
     "name": "stdout",
     "output_type": "stream",
     "text": [
      "The second argument cannot be 0.\n",
      "Invalid argument type.\n",
      "2.0\n"
     ]
    }
   ],
   "source": [
    "def divide(x, y):\n",
    "    if type(x) == int and type(y) == int:\n",
    "        if y != 0:\n",
    "            return x / y\n",
    "        else:\n",
    "            return \"The second argument cannot be 0.\"\n",
    "    else:\n",
    "        return \"Invalid argument type.\"\n",
    "    \n",
    "print(divide(2, 0))\n",
    "print(divide(\"five\", 10))\n",
    "print(divide(10, 5))"
   ]
  },
  {
   "cell_type": "markdown",
   "metadata": {},
   "source": [
    "### Improve the readability by using Exception Handling. "
   ]
  },
  {
   "cell_type": "code",
   "execution_count": 3,
   "metadata": {},
   "outputs": [
    {
     "name": "stdout",
     "output_type": "stream",
     "text": [
      "Second number cannot be 0.\n",
      "Not vaild type given.\n",
      "1.0\n"
     ]
    }
   ],
   "source": [
    "def divide(x, y):\n",
    "    if type(x) != int or type(y) != int:\n",
    "        raise ValueError(\"Not vaild type given.\")   \n",
    "    if y == 0:\n",
    "        raise ZeroDivisionError(\"Second number cannot be 0.\")   \n",
    "    return x/y\n",
    "\n",
    "\n",
    "num = [(5,0), (\"five\",5), (5,5)]\n",
    "for x,y in num:\n",
    "    try:\n",
    "        print(divide(x,y))\n",
    "    except Exception as e: # Exception class is the paraent class of any other exception type.\n",
    "        print(e)\n"
   ]
  }
 ],
 "metadata": {
  "kernelspec": {
   "display_name": "base",
   "language": "python",
   "name": "python3"
  },
  "language_info": {
   "codemirror_mode": {
    "name": "ipython",
    "version": 3
   },
   "file_extension": ".py",
   "mimetype": "text/x-python",
   "name": "python",
   "nbconvert_exporter": "python",
   "pygments_lexer": "ipython3",
   "version": "3.11.5"
  }
 },
 "nbformat": 4,
 "nbformat_minor": 2
}
