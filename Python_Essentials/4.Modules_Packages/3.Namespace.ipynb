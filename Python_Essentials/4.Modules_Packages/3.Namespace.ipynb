{
 "cells": [
  {
   "cell_type": "markdown",
   "metadata": {},
   "source": [
    "### Namespace\n",
    "A namespace is a collection(like a dictonary) of currently defined names along with information about the object that each name references.\n",
    "\n",
    "A scope defines which namespaces will be looked in and in what order.\n",
    "The scope of any reference always starts in the local namespace and moves outwards until it reachs the module's global namespace, before moving on to the builtins, which is the end of the search."
   ]
  },
  {
   "cell_type": "markdown",
   "metadata": {},
   "source": [
    "### There are three main type of namespaces in Python.\n",
    "\n",
    "1. build-in namespace: dir(`__buildints__`) \n",
    "2. global namespace: globals()\n",
    "3. local namespace: locals()\n",
    "\n",
    "Python provides build-in functions called globals() and locals() that allow you to access global and local namespace dictionaries.  "
   ]
  },
  {
   "cell_type": "markdown",
   "metadata": {},
   "source": [
    "### The LEGB(Local、Enclosing、Global、Built-in) rules in Python is: \n",
    "1. Check the local namespace\n",
    "2. Check the global namespace\n",
    "3. Check build-in namespace\n",
    "4. Nothing found, throw NameError exception."
   ]
  },
  {
   "cell_type": "code",
   "execution_count": 3,
   "metadata": {},
   "outputs": [
    {
     "name": "stdout",
     "output_type": "stream",
     "text": [
      "<module 'builtins' (built-in)>\n",
      "17\n",
      "['ArithmeticError', 'AssertionError', 'AttributeError', 'BaseException', 'BaseExceptionGroup', 'BlockingIOError', 'BrokenPipeError', 'BufferError', 'BytesWarning', 'ChildProcessError', 'ConnectionAbortedError', 'ConnectionError', 'ConnectionRefusedError', 'ConnectionResetError', 'DeprecationWarning', 'EOFError', 'Ellipsis', 'EncodingWarning', 'EnvironmentError', 'Exception', 'ExceptionGroup', 'False', 'FileExistsError', 'FileNotFoundError', 'FloatingPointError', 'FutureWarning', 'GeneratorExit', 'IOError', 'ImportError', 'ImportWarning', 'IndentationError', 'IndexError', 'InterruptedError', 'IsADirectoryError', 'KeyError', 'KeyboardInterrupt', 'LookupError', 'MemoryError', 'ModuleNotFoundError', 'NameError', 'None', 'NotADirectoryError', 'NotImplemented', 'NotImplementedError', 'OSError', 'OverflowError', 'PendingDeprecationWarning', 'PermissionError', 'ProcessLookupError', 'RecursionError', 'ReferenceError', 'ResourceWarning', 'RuntimeError', 'RuntimeWarning', 'StopAsyncIteration', 'StopIteration', 'SyntaxError', 'SyntaxWarning', 'SystemError', 'SystemExit', 'TabError', 'TimeoutError', 'True', 'TypeError', 'UnboundLocalError', 'UnicodeDecodeError', 'UnicodeEncodeError', 'UnicodeError', 'UnicodeTranslateError', 'UnicodeWarning', 'UserWarning', 'ValueError', 'Warning', 'WindowsError', 'ZeroDivisionError', '__IPYTHON__', '__build_class__', '__debug__', '__doc__', '__import__', '__loader__', '__name__', '__package__', '__spec__', 'abs', 'aiter', 'all', 'anext', 'any', 'ascii', 'bin', 'bool', 'breakpoint', 'bytearray', 'bytes', 'callable', 'chr', 'classmethod', 'compile', 'complex', 'copyright', 'credits', 'delattr', 'dict', 'dir', 'display', 'divmod', 'enumerate', 'eval', 'exec', 'execfile', 'filter', 'float', 'format', 'frozenset', 'get_ipython', 'getattr', 'globals', 'hasattr', 'hash', 'help', 'hex', 'id', 'input', 'int', 'isinstance', 'issubclass', 'iter', 'len', 'license', 'list', 'locals', 'map', 'max', 'memoryview', 'min', 'next', 'object', 'oct', 'open', 'ord', 'pow', 'print', 'property', 'range', 'repr', 'reversed', 'round', 'runfile', 'set', 'setattr', 'slice', 'sorted', 'staticmethod', 'str', 'sum', 'super', 'tuple', 'type', 'vars', 'zip']\n"
     ]
    }
   ],
   "source": [
    "### Build-in namespace\n",
    "# Each time we execute our Python code, the Python interpreter will automatically import a \"__builtin__\" module.\n",
    "# This module contains Python bulid-in function, such as len(), int(), range(), str(), and so on.\n",
    "\n",
    "# Python automatically import __builtin__ # __builtin__ is also an object\n",
    "print(__builtins__) \n",
    "\n",
    "x = \"This is a string.\"\n",
    "print(__builtins__.len(x)) \n",
    "\n",
    "print(dir(__builtins__)) # Check all the build-in function"
   ]
  },
  {
   "cell_type": "code",
   "execution_count": 4,
   "metadata": {},
   "outputs": [
    {
     "name": "stdout",
     "output_type": "stream",
     "text": [
      "{'__name__': '__main__', '__doc__': 'Automatically created module for IPython interactive environment', '__package__': None, '__loader__': None, '__spec__': None, '__builtin__': <module 'builtins' (built-in)>, '__builtins__': <module 'builtins' (built-in)>, '_ih': ['', '### Build-in namespace\\n# Each time we execute our Python code, the Python interpreter will automatically import a \"__builtin__\" module.\\n# This module contains Python bulid-in function, such as len(), int(), range(), str(), and so on.\\n\\n# Python automatically import __builtin__ # __builtin__ is also an object\\nprint(__builtins__)', '### Build-in namespace\\n# Each time we execute our Python code, the Python interpreter will automatically import a \"__builtin__\" module.\\n# This module contains Python bulid-in function, such as len(), int(), range(), str(), and so on.\\n\\n# Python automatically import __builtin__ # __builtin__ is also an object\\nprint(__builtins__) \\n\\nx = \"This is a string.\"\\nprint(__builtins__.len(x))', '### Build-in namespace\\n# Each time we execute our Python code, the Python interpreter will automatically import a \"__builtin__\" module.\\n# This module contains Python bulid-in function, such as len(), int(), range(), str(), and so on.\\n\\n# Python automatically import __builtin__ # __builtin__ is also an object\\nprint(__builtins__) \\n\\nx = \"This is a string.\"\\nprint(__builtins__.len(x)) \\n\\nprint(dir(__builtins__)) # Check all the build-in function', '### Global namespace\\n\\nprint(globals()) # Check all the global function\\n\\nimport sys\\nx = 10\\ndef hello():\\n    print(\"Hello\")\\n\\nprint(globals()) '], '_oh': {}, '_dh': [WindowsPath('c:/Users/user/Desktop/Python/Python_Dev/4.Modules_Packages')], 'In': ['', '### Build-in namespace\\n# Each time we execute our Python code, the Python interpreter will automatically import a \"__builtin__\" module.\\n# This module contains Python bulid-in function, such as len(), int(), range(), str(), and so on.\\n\\n# Python automatically import __builtin__ # __builtin__ is also an object\\nprint(__builtins__)', '### Build-in namespace\\n# Each time we execute our Python code, the Python interpreter will automatically import a \"__builtin__\" module.\\n# This module contains Python bulid-in function, such as len(), int(), range(), str(), and so on.\\n\\n# Python automatically import __builtin__ # __builtin__ is also an object\\nprint(__builtins__) \\n\\nx = \"This is a string.\"\\nprint(__builtins__.len(x))', '### Build-in namespace\\n# Each time we execute our Python code, the Python interpreter will automatically import a \"__builtin__\" module.\\n# This module contains Python bulid-in function, such as len(), int(), range(), str(), and so on.\\n\\n# Python automatically import __builtin__ # __builtin__ is also an object\\nprint(__builtins__) \\n\\nx = \"This is a string.\"\\nprint(__builtins__.len(x)) \\n\\nprint(dir(__builtins__)) # Check all the build-in function', '### Global namespace\\n\\nprint(globals()) # Check all the global function\\n\\nimport sys\\nx = 10\\ndef hello():\\n    print(\"Hello\")\\n\\nprint(globals()) '], 'Out': {}, 'get_ipython': <bound method InteractiveShell.get_ipython of <ipykernel.zmqshell.ZMQInteractiveShell object at 0x000001FB1EDD5E50>>, 'exit': <IPython.core.autocall.ZMQExitAutocall object at 0x000001FB1EE04650>, 'quit': <IPython.core.autocall.ZMQExitAutocall object at 0x000001FB1EE04650>, 'open': <function open at 0x000001FB1CD6F2E0>, '_': '', '__': '', '___': '', '__vsc_ipynb_file__': 'c:\\\\Users\\\\user\\\\Desktop\\\\Python\\\\Python_Dev\\\\4.Modules_Packages\\\\3.Namespace.ipynb', '_i': '### Build-in namespace\\n# Each time we execute our Python code, the Python interpreter will automatically import a \"__builtin__\" module.\\n# This module contains Python bulid-in function, such as len(), int(), range(), str(), and so on.\\n\\n# Python automatically import __builtin__ # __builtin__ is also an object\\nprint(__builtins__) \\n\\nx = \"This is a string.\"\\nprint(__builtins__.len(x)) \\n\\nprint(dir(__builtins__)) # Check all the build-in function', '_ii': '### Build-in namespace\\n# Each time we execute our Python code, the Python interpreter will automatically import a \"__builtin__\" module.\\n# This module contains Python bulid-in function, such as len(), int(), range(), str(), and so on.\\n\\n# Python automatically import __builtin__ # __builtin__ is also an object\\nprint(__builtins__) \\n\\nx = \"This is a string.\"\\nprint(__builtins__.len(x))', '_iii': '### Build-in namespace\\n# Each time we execute our Python code, the Python interpreter will automatically import a \"__builtin__\" module.\\n# This module contains Python bulid-in function, such as len(), int(), range(), str(), and so on.\\n\\n# Python automatically import __builtin__ # __builtin__ is also an object\\nprint(__builtins__)', '_i1': '### Build-in namespace\\n# Each time we execute our Python code, the Python interpreter will automatically import a \"__builtin__\" module.\\n# This module contains Python bulid-in function, such as len(), int(), range(), str(), and so on.\\n\\n# Python automatically import __builtin__ # __builtin__ is also an object\\nprint(__builtins__)', '_i2': '### Build-in namespace\\n# Each time we execute our Python code, the Python interpreter will automatically import a \"__builtin__\" module.\\n# This module contains Python bulid-in function, such as len(), int(), range(), str(), and so on.\\n\\n# Python automatically import __builtin__ # __builtin__ is also an object\\nprint(__builtins__) \\n\\nx = \"This is a string.\"\\nprint(__builtins__.len(x))', 'x': 'This is a string.', '_i3': '### Build-in namespace\\n# Each time we execute our Python code, the Python interpreter will automatically import a \"__builtin__\" module.\\n# This module contains Python bulid-in function, such as len(), int(), range(), str(), and so on.\\n\\n# Python automatically import __builtin__ # __builtin__ is also an object\\nprint(__builtins__) \\n\\nx = \"This is a string.\"\\nprint(__builtins__.len(x)) \\n\\nprint(dir(__builtins__)) # Check all the build-in function', '_i4': '### Global namespace\\n\\nprint(globals()) # Check all the global function\\n\\nimport sys\\nx = 10\\ndef hello():\\n    print(\"Hello\")\\n\\nprint(globals()) '}\n",
      "{'__name__': '__main__', '__doc__': 'Automatically created module for IPython interactive environment', '__package__': None, '__loader__': None, '__spec__': None, '__builtin__': <module 'builtins' (built-in)>, '__builtins__': <module 'builtins' (built-in)>, '_ih': ['', '### Build-in namespace\\n# Each time we execute our Python code, the Python interpreter will automatically import a \"__builtin__\" module.\\n# This module contains Python bulid-in function, such as len(), int(), range(), str(), and so on.\\n\\n# Python automatically import __builtin__ # __builtin__ is also an object\\nprint(__builtins__)', '### Build-in namespace\\n# Each time we execute our Python code, the Python interpreter will automatically import a \"__builtin__\" module.\\n# This module contains Python bulid-in function, such as len(), int(), range(), str(), and so on.\\n\\n# Python automatically import __builtin__ # __builtin__ is also an object\\nprint(__builtins__) \\n\\nx = \"This is a string.\"\\nprint(__builtins__.len(x))', '### Build-in namespace\\n# Each time we execute our Python code, the Python interpreter will automatically import a \"__builtin__\" module.\\n# This module contains Python bulid-in function, such as len(), int(), range(), str(), and so on.\\n\\n# Python automatically import __builtin__ # __builtin__ is also an object\\nprint(__builtins__) \\n\\nx = \"This is a string.\"\\nprint(__builtins__.len(x)) \\n\\nprint(dir(__builtins__)) # Check all the build-in function', '### Global namespace\\n\\nprint(globals()) # Check all the global function\\n\\nimport sys\\nx = 10\\ndef hello():\\n    print(\"Hello\")\\n\\nprint(globals()) '], '_oh': {}, '_dh': [WindowsPath('c:/Users/user/Desktop/Python/Python_Dev/4.Modules_Packages')], 'In': ['', '### Build-in namespace\\n# Each time we execute our Python code, the Python interpreter will automatically import a \"__builtin__\" module.\\n# This module contains Python bulid-in function, such as len(), int(), range(), str(), and so on.\\n\\n# Python automatically import __builtin__ # __builtin__ is also an object\\nprint(__builtins__)', '### Build-in namespace\\n# Each time we execute our Python code, the Python interpreter will automatically import a \"__builtin__\" module.\\n# This module contains Python bulid-in function, such as len(), int(), range(), str(), and so on.\\n\\n# Python automatically import __builtin__ # __builtin__ is also an object\\nprint(__builtins__) \\n\\nx = \"This is a string.\"\\nprint(__builtins__.len(x))', '### Build-in namespace\\n# Each time we execute our Python code, the Python interpreter will automatically import a \"__builtin__\" module.\\n# This module contains Python bulid-in function, such as len(), int(), range(), str(), and so on.\\n\\n# Python automatically import __builtin__ # __builtin__ is also an object\\nprint(__builtins__) \\n\\nx = \"This is a string.\"\\nprint(__builtins__.len(x)) \\n\\nprint(dir(__builtins__)) # Check all the build-in function', '### Global namespace\\n\\nprint(globals()) # Check all the global function\\n\\nimport sys\\nx = 10\\ndef hello():\\n    print(\"Hello\")\\n\\nprint(globals()) '], 'Out': {}, 'get_ipython': <bound method InteractiveShell.get_ipython of <ipykernel.zmqshell.ZMQInteractiveShell object at 0x000001FB1EDD5E50>>, 'exit': <IPython.core.autocall.ZMQExitAutocall object at 0x000001FB1EE04650>, 'quit': <IPython.core.autocall.ZMQExitAutocall object at 0x000001FB1EE04650>, 'open': <function open at 0x000001FB1CD6F2E0>, '_': '', '__': '', '___': '', '__vsc_ipynb_file__': 'c:\\\\Users\\\\user\\\\Desktop\\\\Python\\\\Python_Dev\\\\4.Modules_Packages\\\\3.Namespace.ipynb', '_i': '### Build-in namespace\\n# Each time we execute our Python code, the Python interpreter will automatically import a \"__builtin__\" module.\\n# This module contains Python bulid-in function, such as len(), int(), range(), str(), and so on.\\n\\n# Python automatically import __builtin__ # __builtin__ is also an object\\nprint(__builtins__) \\n\\nx = \"This is a string.\"\\nprint(__builtins__.len(x)) \\n\\nprint(dir(__builtins__)) # Check all the build-in function', '_ii': '### Build-in namespace\\n# Each time we execute our Python code, the Python interpreter will automatically import a \"__builtin__\" module.\\n# This module contains Python bulid-in function, such as len(), int(), range(), str(), and so on.\\n\\n# Python automatically import __builtin__ # __builtin__ is also an object\\nprint(__builtins__) \\n\\nx = \"This is a string.\"\\nprint(__builtins__.len(x))', '_iii': '### Build-in namespace\\n# Each time we execute our Python code, the Python interpreter will automatically import a \"__builtin__\" module.\\n# This module contains Python bulid-in function, such as len(), int(), range(), str(), and so on.\\n\\n# Python automatically import __builtin__ # __builtin__ is also an object\\nprint(__builtins__)', '_i1': '### Build-in namespace\\n# Each time we execute our Python code, the Python interpreter will automatically import a \"__builtin__\" module.\\n# This module contains Python bulid-in function, such as len(), int(), range(), str(), and so on.\\n\\n# Python automatically import __builtin__ # __builtin__ is also an object\\nprint(__builtins__)', '_i2': '### Build-in namespace\\n# Each time we execute our Python code, the Python interpreter will automatically import a \"__builtin__\" module.\\n# This module contains Python bulid-in function, such as len(), int(), range(), str(), and so on.\\n\\n# Python automatically import __builtin__ # __builtin__ is also an object\\nprint(__builtins__) \\n\\nx = \"This is a string.\"\\nprint(__builtins__.len(x))', 'x': 10, '_i3': '### Build-in namespace\\n# Each time we execute our Python code, the Python interpreter will automatically import a \"__builtin__\" module.\\n# This module contains Python bulid-in function, such as len(), int(), range(), str(), and so on.\\n\\n# Python automatically import __builtin__ # __builtin__ is also an object\\nprint(__builtins__) \\n\\nx = \"This is a string.\"\\nprint(__builtins__.len(x)) \\n\\nprint(dir(__builtins__)) # Check all the build-in function', '_i4': '### Global namespace\\n\\nprint(globals()) # Check all the global function\\n\\nimport sys\\nx = 10\\ndef hello():\\n    print(\"Hello\")\\n\\nprint(globals()) ', 'sys': <module 'sys' (built-in)>, 'hello': <function hello at 0x000001FB1EFDF6A0>}\n"
     ]
    }
   ],
   "source": [
    "### Global namespace\n",
    "\n",
    "print(globals()) # Check all the global function\n",
    "\n",
    "import sys\n",
    "x = 10\n",
    "def hello():\n",
    "    print(\"Hello\")\n",
    "\n",
    "print(globals()) # 多了 ->  'sys': <module 'sys' (built-in)>, 'hello': <function hello at 0x000001FB1EFDF6A0>}"
   ]
  },
  {
   "cell_type": "code",
   "execution_count": 7,
   "metadata": {},
   "outputs": [
    {
     "name": "stdout",
     "output_type": "stream",
     "text": [
      "{'x': 5}\n",
      "Hello\n"
     ]
    }
   ],
   "source": [
    "### Local namespace\n",
    "\n",
    "def hello():\n",
    "    x = 5\n",
    "    print(locals()) # Check all the local function \n",
    "    print(\"Hello\")\n",
    "\n",
    "hello()"
   ]
  }
 ],
 "metadata": {
  "kernelspec": {
   "display_name": "base",
   "language": "python",
   "name": "python3"
  },
  "language_info": {
   "codemirror_mode": {
    "name": "ipython",
    "version": 3
   },
   "file_extension": ".py",
   "mimetype": "text/x-python",
   "name": "python",
   "nbconvert_exporter": "python",
   "pygments_lexer": "ipython3",
   "version": "3.11.5"
  }
 },
 "nbformat": 4,
 "nbformat_minor": 2
}
