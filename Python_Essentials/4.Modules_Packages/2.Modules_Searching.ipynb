{
 "cells": [
  {
   "cell_type": "markdown",
   "metadata": {},
   "source": [
    "### Module Searching\n",
    "When we start executing a Python code, one of the things it creates automatically is a list that contain all of the directories(folder) it will use to search for modules when importing. This list is available in a variable named \"sys.path\"."
   ]
  },
  {
   "cell_type": "code",
   "execution_count": 1,
   "metadata": {},
   "outputs": [
    {
     "name": "stdout",
     "output_type": "stream",
     "text": [
      "['c:\\\\Users\\\\user\\\\Desktop\\\\Python\\\\Python修練區\\\\4.Modules_Packages', 'c:\\\\Users\\\\user\\\\anaconda3\\\\python311.zip', 'c:\\\\Users\\\\user\\\\anaconda3\\\\DLLs', 'c:\\\\Users\\\\user\\\\anaconda3\\\\Lib', 'c:\\\\Users\\\\user\\\\anaconda3', '', 'c:\\\\Users\\\\user\\\\anaconda3\\\\Lib\\\\site-packages', 'c:\\\\Users\\\\user\\\\anaconda3\\\\Lib\\\\site-packages\\\\dlib-19.24.99-py3.11-win-amd64.egg', 'c:\\\\Users\\\\user\\\\anaconda3\\\\Lib\\\\site-packages\\\\win32', 'c:\\\\Users\\\\user\\\\anaconda3\\\\Lib\\\\site-packages\\\\win32\\\\lib', 'c:\\\\Users\\\\user\\\\anaconda3\\\\Lib\\\\site-packages\\\\Pythonwin']\n"
     ]
    }
   ],
   "source": [
    "import sys\n",
    "\n",
    "print(sys.path) # show all the path (string) in a list."
   ]
  },
  {
   "cell_type": "markdown",
   "metadata": {},
   "source": [
    "### Where to put our self-defined modules? \n",
    "We could do:\n",
    "1. Put modules in one of the directories of sys.path\n",
    "2. Put modules in the main program. \n",
    "3. Change sys.path so that it contains the directory of our self-made modules."
   ]
  },
  {
   "cell_type": "code",
   "execution_count": 3,
   "metadata": {},
   "outputs": [],
   "source": [
    "# Put modules in one of the directories of sys.path\n",
    "\n",
    "# 穩"
   ]
  },
  {
   "cell_type": "code",
   "execution_count": 6,
   "metadata": {},
   "outputs": [],
   "source": [
    "# Put modules in the main program. \n",
    "\n",
    "# 不推薦，因為這樣只有自己的程式能使用"
   ]
  },
  {
   "cell_type": "code",
   "execution_count": null,
   "metadata": {},
   "outputs": [],
   "source": [
    "# Change sys.path so that it contains the directory of our self-made modules.\n",
    "\n",
    "import sys\n",
    "sys.path.append(\"C:\\\\......\") # 但每次要改路徑都要手動去改，麻煩。\n",
    "\n",
    "# 先去任意 sys.path 中，然後新增一個 \"sitecustomize.py\"\n",
    "# 並在這個 sitecustomize.py 中新增一個要增加的 path.\n",
    "\n",
    "import site\n",
    "site.addsitedir(\"C:\\\\......\")"
   ]
  }
 ],
 "metadata": {
  "kernelspec": {
   "display_name": "base",
   "language": "python",
   "name": "python3"
  },
  "language_info": {
   "codemirror_mode": {
    "name": "ipython",
    "version": 3
   },
   "file_extension": ".py",
   "mimetype": "text/x-python",
   "name": "python",
   "nbconvert_exporter": "python",
   "pygments_lexer": "ipython3",
   "version": "3.11.5"
  }
 },
 "nbformat": 4,
 "nbformat_minor": 2
}
