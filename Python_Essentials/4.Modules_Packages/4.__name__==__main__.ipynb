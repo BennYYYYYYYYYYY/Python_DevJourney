{
 "cells": [
  {
   "cell_type": "markdown",
   "metadata": {},
   "source": [
    "## if `__name__` == '`__main__`'\n",
    "In real life Python codes, it's very often to see\n",
    "    \n",
    "    if `__name__` == '`__main__`'\n",
    "\n",
    "People use this block to allow or prevent parts od code from being run when the module are being imported.\n",
    "Also, this is very convenient for development purpose.\n",
    "\n",
    "When the Python interpreter reads a file, the  `__name__` variable in the global namespace dictionary is set as:\n",
    "\n",
    "1. `__main__` if the code is being run directly.\n",
    "2. the module's name if it is imported."
   ]
  },
  {
   "cell_type": "code",
   "execution_count": 1,
   "metadata": {},
   "outputs": [
    {
     "name": "stdout",
     "output_type": "stream",
     "text": [
      "We are running codes in one.py now.\n",
      "one.py is imported\n",
      "one\n",
      "We are running 4.__name__==__main__.py directly.\n",
      "__main__\n",
      "one\n"
     ]
    }
   ],
   "source": [
    "import one # 當 import module 時，會直接把該 module run 過一輪 \n",
    "# -> \"We are running codes in one.py now.\"\n",
    "# -> \"one.py is imported\" \n",
    "# -> __name__\" one (module name)\n",
    "\n",
    "def get_name():\n",
    "    print(__name__)\n",
    "\n",
    "if __name__ == \"__main__\":\n",
    "    print(\"We are running 4.__name__==__main__.py directly.\") # We are running 4.__name__==__main__.py directly.\n",
    "    get_name() # __main__\n",
    "    one.get_name() # one"
   ]
  },
  {
   "cell_type": "code",
   "execution_count": 2,
   "metadata": {},
   "outputs": [
    {
     "name": "stdout",
     "output_type": "stream",
     "text": [
      "We are running 4.__name__==__main__.py directly.\n",
      "Do some stuff here...\n"
     ]
    }
   ],
   "source": [
    "import two # 在 two.py 中用 __name__ == \"__main__\" 避免被 import 時直接執行。\n",
    "\n",
    "if __name__ == \"__main__\":\n",
    "    print(\"We are running 4.__name__==__main__.py directly.\") # We are running 4.__name__==__main__.py directly.\n",
    "    two.another_function() # Do some stuff here..."
   ]
  }
 ],
 "metadata": {
  "kernelspec": {
   "display_name": "base",
   "language": "python",
   "name": "python3"
  },
  "language_info": {
   "codemirror_mode": {
    "name": "ipython",
    "version": 3
   },
   "file_extension": ".py",
   "mimetype": "text/x-python",
   "name": "python",
   "nbconvert_exporter": "python",
   "pygments_lexer": "ipython3",
   "version": "3.11.5"
  }
 },
 "nbformat": 4,
 "nbformat_minor": 2
}
