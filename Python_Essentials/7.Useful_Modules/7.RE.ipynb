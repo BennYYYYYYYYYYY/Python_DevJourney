{
 "cells": [
  {
   "cell_type": "markdown",
   "metadata": {},
   "source": [
    "# Regular Expression\n",
    "A regular expression (aka regex) is a sequence of characters that specifies a search pattern in texts. \n",
    "\n",
    "___\n"
   ]
  },
  {
   "cell_type": "markdown",
   "metadata": {},
   "source": [
    "#### `.` Dot matches any character except a newline.\n",
    "\n"
   ]
  },
  {
   "cell_type": "code",
   "execution_count": 2,
   "metadata": {},
   "outputs": [
    {
     "name": "stdout",
     "output_type": "stream",
     "text": [
      "['heo']\n"
     ]
    }
   ],
   "source": [
    "import re\n",
    "text = \"hello, he, hakko, heo\"\n",
    "print(re.findall(r\"h.o\", text))"
   ]
  },
  {
   "cell_type": "markdown",
   "metadata": {},
   "source": [
    "### `[]` indicate a set of characters. \n"
   ]
  },
  {
   "cell_type": "code",
   "execution_count": 3,
   "metadata": {},
   "outputs": [
    {
     "name": "stdout",
     "output_type": "stream",
     "text": [
      "['a', 'b']\n"
     ]
    }
   ],
   "source": [
    "text = \"a, b, /, ?, A\"\n",
    "print(re.findall(r\"[a-z]\", text))"
   ]
  },
  {
   "cell_type": "markdown",
   "metadata": {},
   "source": [
    "### `\\d` Matches any character which is a decimal digit. \n",
    "### `\\D` Matches any character which is not a decimal digit. \n"
   ]
  },
  {
   "cell_type": "code",
   "execution_count": 10,
   "metadata": {},
   "outputs": [
    {
     "name": "stdout",
     "output_type": "stream",
     "text": [
      "['4', '5', '6']\n",
      "['a', ' ', 'b', ' ', 'A', ' ', 'B', ' ', '?', ' ', ',', ' ', ' ', ' ']\n"
     ]
    }
   ],
   "source": [
    "text = \"a b A B ? , 4 5 6\"\n",
    "print(re.findall(r\"\\d\", text)) \n",
    "print(re.findall(r\"\\D\", text)) \n"
   ]
  },
  {
   "cell_type": "markdown",
   "metadata": {},
   "source": [
    "### `\\w` Matches any alphanumeric characters. (字母數字)\n",
    "### `\\W` Matches any non alphanumeric characters, such as +, ?, !\n"
   ]
  },
  {
   "cell_type": "code",
   "execution_count": 11,
   "metadata": {},
   "outputs": [
    {
     "name": "stdout",
     "output_type": "stream",
     "text": [
      "['a', 'b', 'A', 'B', '4', '5', '6']\n",
      "[' ', ' ', ' ', ' ', '?', ' ', ',', ' ', ' ', ' ']\n"
     ]
    }
   ],
   "source": [
    "text = \"a b A B ? , 4 5 6\"\n",
    "print(re.findall(r\"\\w\", text)) \n",
    "print(re.findall(r\"\\W\", text)) "
   ]
  },
  {
   "cell_type": "markdown",
   "metadata": {},
   "source": [
    "### `\\s` Matches the whitespaces.\n",
    "### `\\s` Matches the non whitespaces."
   ]
  },
  {
   "cell_type": "code",
   "execution_count": 12,
   "metadata": {},
   "outputs": [
    {
     "name": "stdout",
     "output_type": "stream",
     "text": [
      "[' ', ' ', ' ']\n",
      "['a', 'b', 'A', 'B', '?', ',', '4', '5', '6']\n"
     ]
    }
   ],
   "source": [
    "text = \"a bAB ?,4 56\"\n",
    "print(re.findall(r\"\\s\", text))  \n",
    "print(re.findall(r\"\\S\", text)) "
   ]
  },
  {
   "cell_type": "markdown",
   "metadata": {},
   "source": [
    "### `*` Matches 0 or more occurrence of something. \n",
    "### `+` Matches 1 or more occurrence of something. "
   ]
  },
  {
   "cell_type": "code",
   "execution_count": 13,
   "metadata": {},
   "outputs": [
    {
     "name": "stdout",
     "output_type": "stream",
     "text": [
      "['a', 'ab', 'abbb', 'abbbb']\n",
      "['ab', 'abbb', 'abbbb']\n"
     ]
    }
   ],
   "source": [
    "text = \"a ab abbb abbbb\"\n",
    "print(re.findall(r\"ab*\", text))\n",
    "print(re.findall(r\"ab+\", text))"
   ]
  },
  {
   "cell_type": "markdown",
   "metadata": {},
   "source": [
    "### `{m}` Specifies that exactly m copies of RE. \n",
    "### `{m,n}` Specifies that from m to n copies of RE. \n",
    "### `{m,}` Specifies m or more copies of RE."
   ]
  },
  {
   "cell_type": "code",
   "execution_count": 15,
   "metadata": {},
   "outputs": [
    {
     "name": "stdout",
     "output_type": "stream",
     "text": [
      "['hello1', 'hello1', 'hello1', 'hello1']\n",
      "['hello1', 'hello12', 'hello123', 'hello123']\n",
      "['hello1', 'hello12', 'hello123', 'hello123456789']\n"
     ]
    }
   ],
   "source": [
    "text = \"hello1 hello12 hello123 hello123456789\"\n",
    "print(re.findall(r\"hello\\d{1}\", text))\n",
    "print(re.findall(r\"hello\\d{1,3}\", text))\n",
    "print(re.findall(r\"hello\\d{1,}\", text))"
   ]
  },
  {
   "cell_type": "markdown",
   "metadata": {},
   "source": [
    "### `\\.` Since dot has a special meaning in RE, use \\. to find dot in a string.\n"
   ]
  },
  {
   "cell_type": "code",
   "execution_count": 16,
   "metadata": {},
   "outputs": [
    {
     "name": "stdout",
     "output_type": "stream",
     "text": [
      "['.']\n"
     ]
    }
   ],
   "source": [
    "text = \"a b c d 1 2 3 4 . ! ?\"\n",
    "print(re.findall(r\"\\.\", text))"
   ]
  },
  {
   "cell_type": "markdown",
   "metadata": {},
   "source": [
    "### `\\b` matches the empty string at the beginning or end of a word."
   ]
  },
  {
   "cell_type": "code",
   "execution_count": 19,
   "metadata": {},
   "outputs": [
    {
     "name": "stdout",
     "output_type": "stream",
     "text": [
      "['is', 'is']\n",
      "['is', 'is', 'is']\n",
      "['is']\n"
     ]
    }
   ],
   "source": [
    "text = \"this island is good isn't it?\"\n",
    "print(re.findall(r\"is\\b\", text))\n",
    "print(re.findall(r\"\\bis\", text))\n",
    "print(re.findall(r\"\\bis\\b\", text))"
   ]
  }
 ],
 "metadata": {
  "kernelspec": {
   "display_name": "base",
   "language": "python",
   "name": "python3"
  },
  "language_info": {
   "codemirror_mode": {
    "name": "ipython",
    "version": 3
   },
   "file_extension": ".py",
   "mimetype": "text/x-python",
   "name": "python",
   "nbconvert_exporter": "python",
   "pygments_lexer": "ipython3",
   "version": "3.11.5"
  }
 },
 "nbformat": 4,
 "nbformat_minor": 2
}
