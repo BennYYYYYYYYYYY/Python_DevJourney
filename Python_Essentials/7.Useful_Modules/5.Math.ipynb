{
 "cells": [
  {
   "cell_type": "markdown",
   "metadata": {},
   "source": [
    "# Math\n",
    "The Python math module provides access to the mathematical functions and constants.\n"
   ]
  },
  {
   "cell_type": "code",
   "execution_count": 4,
   "metadata": {},
   "outputs": [
    {
     "name": "stdout",
     "output_type": "stream",
     "text": [
      "3.141592653589793\n",
      "2.718281828459045\n",
      "inf\n",
      "----------------------------------\n",
      "11\n",
      "10\n",
      "----------------------------------\n",
      "False\n",
      "16.0\n",
      "2.0\n",
      "1.3862943611198906\n",
      "2.0\n"
     ]
    }
   ],
   "source": [
    "import math\n",
    "\n",
    "print(math.pi)\n",
    "print(math.e)\n",
    "print(math.inf) # infinity\n",
    "\n",
    "print(\"----------------------------------\")\n",
    "\n",
    "x = 10.5\n",
    "print(math.ceil(x)) \n",
    "print(math.floor(x))\n",
    "\n",
    "print(\"----------------------------------\")\n",
    "\n",
    "x = 4\n",
    "y = 2\n",
    "print(math.isnan(x)) # is not a number?\n",
    "print(math.pow(x, y)) # power \n",
    "print(math.sqrt(x)) # square root\n",
    "print(math.log(x)) # With one argument, return the natural logarithm of x (to base e). \n",
    "print(math.log(x, y))  # y=base\n",
    "\n",
    "\n"
   ]
  }
 ],
 "metadata": {
  "kernelspec": {
   "display_name": "base",
   "language": "python",
   "name": "python3"
  },
  "language_info": {
   "codemirror_mode": {
    "name": "ipython",
    "version": 3
   },
   "file_extension": ".py",
   "mimetype": "text/x-python",
   "name": "python",
   "nbconvert_exporter": "python",
   "pygments_lexer": "ipython3",
   "version": "3.11.5"
  }
 },
 "nbformat": 4,
 "nbformat_minor": 2
}
