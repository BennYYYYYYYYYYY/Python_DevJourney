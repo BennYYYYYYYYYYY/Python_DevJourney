{
 "cells": [
  {
   "cell_type": "markdown",
   "metadata": {},
   "source": [
    "## pathlib\n",
    "pathlib 是 Python 3.4 引入的模組，專門用來處理路徑操作，並且相較於傳統的 os 和 os.path，提供了更直觀、面向對象的接口。"
   ]
  },
  {
   "cell_type": "markdown",
   "metadata": {},
   "source": [
    "\n",
    "### `Path(path)` return a Path object."
   ]
  },
  {
   "cell_type": "code",
   "execution_count": 1,
   "metadata": {},
   "outputs": [],
   "source": [
    "from pathlib import Path\n",
    "p = Path('/home/user/documents')  # 絕對路徑\n",
    "p2 = Path('documents/project')    # 相對路徑"
   ]
  },
  {
   "cell_type": "markdown",
   "metadata": {},
   "source": [
    "### `Path.cwd()` return cuurent working directory\n"
   ]
  },
  {
   "cell_type": "code",
   "execution_count": 2,
   "metadata": {},
   "outputs": [
    {
     "name": "stdout",
     "output_type": "stream",
     "text": [
      "c:\\Users\\user\\Desktop\\Python\\Python_Essentials\\7.Useful_Modules\n"
     ]
    }
   ],
   "source": [
    "print(Path.cwd())"
   ]
  },
  {
   "cell_type": "markdown",
   "metadata": {},
   "source": [
    "### `Path.home()` return cuurent user's home directory"
   ]
  },
  {
   "cell_type": "code",
   "execution_count": 3,
   "metadata": {},
   "outputs": [
    {
     "name": "stdout",
     "output_type": "stream",
     "text": [
      "C:\\Users\\user\n"
     ]
    }
   ],
   "source": [
    "print(Path.home())"
   ]
  },
  {
   "cell_type": "markdown",
   "metadata": {},
   "source": [
    "### `Path join` use \"/\" to join the paths."
   ]
  },
  {
   "cell_type": "code",
   "execution_count": 4,
   "metadata": {},
   "outputs": [
    {
     "name": "stdout",
     "output_type": "stream",
     "text": [
      "\\utils\\document\\hello.txt\n"
     ]
    }
   ],
   "source": [
    "new_path = Path('/utils') / \"document\" / \"hello.txt\"\n",
    "print(new_path)"
   ]
  },
  {
   "cell_type": "markdown",
   "metadata": {},
   "source": [
    "### `exists()` retrun boolean."
   ]
  },
  {
   "cell_type": "code",
   "execution_count": 6,
   "metadata": {},
   "outputs": [
    {
     "name": "stdout",
     "output_type": "stream",
     "text": [
      "True\n"
     ]
    }
   ],
   "source": [
    "p = Path(r\"C:\\Users\\user\\Desktop\\Python\\Python_Essentials\\7.Useful_Modules\\2.Pathlib.ipynb\")\n",
    "print(p.exists())"
   ]
  },
  {
   "cell_type": "markdown",
   "metadata": {},
   "source": [
    "### `is_file()` return boolean.\n",
    "### `is_dir()` return boolean."
   ]
  },
  {
   "cell_type": "code",
   "execution_count": 8,
   "metadata": {},
   "outputs": [
    {
     "name": "stdout",
     "output_type": "stream",
     "text": [
      "True\n",
      "False\n"
     ]
    }
   ],
   "source": [
    "print(p.is_file())\n",
    "print(p.is_dir())\n"
   ]
  },
  {
   "cell_type": "markdown",
   "metadata": {},
   "source": [
    "### `iterdir()` iter files and dir under dir (same as glob)"
   ]
  },
  {
   "cell_type": "code",
   "execution_count": 20,
   "metadata": {},
   "outputs": [
    {
     "name": "stdout",
     "output_type": "stream",
     "text": [
      "<class 'generator'>\n",
      "C:\\Users\\user\\Desktop\\Python\\Python_Essentials\\7.Useful_Modules\\1.OS_Module.ipynb\n",
      "C:\\Users\\user\\Desktop\\Python\\Python_Essentials\\7.Useful_Modules\\2.Pathlib.ipynb\n",
      "C:\\Users\\user\\Desktop\\Python\\Python_Essentials\\7.Useful_Modules\\test\n",
      "C:\\Users\\user\\Desktop\\Python\\Python_Essentials\\7.Useful_Modules\\test.txt\n"
     ]
    }
   ],
   "source": [
    "p = Path(r\"C:\\Users\\user\\Desktop\\Python\\Python_Essentials\\7.Useful_Modules\")\n",
    "\n",
    "print(type(p.iterdir()))\n",
    "\n",
    "for i in p.iterdir():\n",
    "    print(i)\n"
   ]
  },
  {
   "cell_type": "markdown",
   "metadata": {},
   "source": [
    "### `glob(pattern)` 用來根據模式匹配目錄下的項目，retrun generator."
   ]
  },
  {
   "cell_type": "code",
   "execution_count": 25,
   "metadata": {},
   "outputs": [
    {
     "name": "stdout",
     "output_type": "stream",
     "text": [
      "C:\\Users\\user\\Desktop\\Python\\Python_Essentials\\7.Useful_Modules\\test.txt <class 'pathlib.WindowsPath'>\n"
     ]
    }
   ],
   "source": [
    "# glob 模式的匹配通常會使用像  *(匹配任意數量的字符)、 ?(匹配單個字符)這樣的通配符來進行。\n",
    "p = Path(r\"C:\\Users\\user\\Desktop\\Python\\Python_Essentials\\7.Useful_Modules\")\n",
    "for item in p.glob('*.txt'):\n",
    "    print(item, type(item))"
   ]
  },
  {
   "cell_type": "markdown",
   "metadata": {},
   "source": [
    "### `rglob(pattern)` 遞迴匹配模式，遍歷子目錄下的所有文件和目錄。"
   ]
  },
  {
   "cell_type": "code",
   "execution_count": 29,
   "metadata": {},
   "outputs": [
    {
     "name": "stdout",
     "output_type": "stream",
     "text": [
      "C:\\Users\\user\\Desktop\\dir_1\\1.txt\n",
      "C:\\Users\\user\\Desktop\\dir_1\\dir_2\\2.txt\n",
      "C:\\Users\\user\\Desktop\\dir_1\\dir_2\\3.txt\n",
      "C:\\Users\\user\\Desktop\\dir_1\\dir_2\\dir4\\4.txt\n",
      "C:\\Users\\user\\Desktop\\dir_1\\dir_3\\5.txt\n"
     ]
    }
   ],
   "source": [
    "p = Path(r\"C:\\\\Users\\\\user\\\\Desktop\\\\dir_1\")\n",
    "for i in p.rglob(\"*.txt\"):\n",
    "    print(i)"
   ]
  },
  {
   "cell_type": "markdown",
   "metadata": {},
   "source": [
    "### `Path Property`"
   ]
  },
  {
   "cell_type": "code",
   "execution_count": 31,
   "metadata": {},
   "outputs": [
    {
     "name": "stdout",
     "output_type": "stream",
     "text": [
      "test.txt\n",
      ".txt\n",
      "test\n",
      "C:\\Users\\user\\Desktop\\Python\\Python_Essentials\\7.Useful_Modules\n",
      "('C:\\\\', 'Users', 'user', 'Desktop', 'Python', 'Python_Essentials', '7.Useful_Modules', 'test.txt')\n"
     ]
    }
   ],
   "source": [
    "p= Path(r'C:\\Users\\user\\Desktop\\Python\\Python_Essentials\\7.Useful_Modules\\test.txt')\n",
    "print(p.name)\n",
    "print(p.suffix)\n",
    "print(p.stem)\n",
    "print(p.parent)\n",
    "print(p.parts)"
   ]
  },
  {
   "cell_type": "markdown",
   "metadata": {},
   "source": [
    "### `mkdir()` 建立目錄，exist_ok=True 表示如果目錄已存在，則不會拋出異常。\n"
   ]
  },
  {
   "cell_type": "code",
   "execution_count": 33,
   "metadata": {},
   "outputs": [],
   "source": [
    "p = Path('test_folder')\n",
    "p.mkdir(exist_ok=True)"
   ]
  },
  {
   "cell_type": "markdown",
   "metadata": {},
   "source": [
    "### `unlink()` 刪除檔案。"
   ]
  },
  {
   "cell_type": "code",
   "execution_count": 43,
   "metadata": {},
   "outputs": [
    {
     "name": "stdout",
     "output_type": "stream",
     "text": [
      "1:  [WindowsPath('C:/Users/user/Desktop/dir_1/1.txt'), WindowsPath('C:/Users/user/Desktop/dir_1/dir_2/2.txt'), WindowsPath('C:/Users/user/Desktop/dir_1/dir_2/dir4/3.txt'), WindowsPath('C:/Users/user/Desktop/dir_1/dir_3/4.txt')]\n",
      "2:  []\n"
     ]
    }
   ],
   "source": [
    "p = Path(r\"C:\\\\Users\\\\user\\\\Desktop\\\\dir_1\")\n",
    "\n",
    "\n",
    "print(\"1: \", list(p.rglob(\"*.txt\")))\n",
    "\n",
    "for i in p.rglob(\"*.txt\"):\n",
    "    i.unlink()\n",
    "\n",
    "print(\"2: \", list(p.rglob(\"*.txt\")))"
   ]
  },
  {
   "cell_type": "markdown",
   "metadata": {},
   "source": [
    "### `resolve()` 將相對路徑轉換為絕對路徑。"
   ]
  },
  {
   "cell_type": "code",
   "execution_count": 35,
   "metadata": {},
   "outputs": [
    {
     "name": "stdout",
     "output_type": "stream",
     "text": [
      "C:\\Users\\user\\Desktop\\Python\\Python_Essentials\\7.Useful_Modules\\Python_Essentials\u0007.Useful_Modules\test.txt\n"
     ]
    }
   ],
   "source": [
    "p = Path('Python_Essentials\\7.Useful_Modules\\test.txt')\n",
    "abs_path = p.resolve()\n",
    "print(abs_path)"
   ]
  },
  {
   "cell_type": "markdown",
   "metadata": {},
   "source": [
    "### `rename()` 移動或重命名檔案或目錄。"
   ]
  },
  {
   "cell_type": "code",
   "execution_count": 38,
   "metadata": {},
   "outputs": [
    {
     "data": {
      "text/plain": [
       "WindowsPath('new_name.txt')"
      ]
     },
     "execution_count": 38,
     "metadata": {},
     "output_type": "execute_result"
    }
   ],
   "source": [
    "p = Path(r'C:\\Users\\user\\Desktop\\Python\\Python_Essentials\\7.Useful_Modules\\test.txt')\n",
    "p.rename('new_name.txt')"
   ]
  }
 ],
 "metadata": {
  "kernelspec": {
   "display_name": "base",
   "language": "python",
   "name": "python3"
  },
  "language_info": {
   "codemirror_mode": {
    "name": "ipython",
    "version": 3
   },
   "file_extension": ".py",
   "mimetype": "text/x-python",
   "name": "python",
   "nbconvert_exporter": "python",
   "pygments_lexer": "ipython3",
   "version": "3.11.5"
  }
 },
 "nbformat": 4,
 "nbformat_minor": 2
}
