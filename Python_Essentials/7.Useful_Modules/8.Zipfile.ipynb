{
 "cells": [
  {
   "cell_type": "markdown",
   "metadata": {},
   "source": [
    "# Zip Files and Folders\n",
    "The zipfile module is the Python standard zip file module; it supports lossless data compression. By lossless compression, we mean that the compression algorithm allows the original data to be perfectly reconstructed from the compressed data.\n"
   ]
  },
  {
   "cell_type": "code",
   "execution_count": 3,
   "metadata": {},
   "outputs": [],
   "source": [
    "import zipfile\n",
    "from pathlib import Path\n",
    "\n",
    "zip_file = zipfile.ZipFile(r\"result.zip\", \"w\") # ZipFile object\n",
    "zip_file.write(r\"test1.txt\", compress_type=zipfile.ZIP_DEFLATED)\n",
    "zip_file.write(r\"test2.txt\", compress_type=zipfile.ZIP_DEFLATED)\n",
    "zip_file.close()"
   ]
  },
  {
   "cell_type": "code",
   "execution_count": 4,
   "metadata": {},
   "outputs": [],
   "source": [
    "zipped_obj = zipfile.ZipFile(r\"result.zip\", \"r\")\n",
    "zipped_obj.extractall(r\"result\") # folder path\n",
    "zipped_obj.close()"
   ]
  },
  {
   "cell_type": "markdown",
   "metadata": {},
   "source": [
    "一次壓縮一堆檔案"
   ]
  },
  {
   "cell_type": "code",
   "execution_count": 7,
   "metadata": {},
   "outputs": [
    {
     "data": {
      "text/plain": [
       "'C:\\\\Users\\\\user\\\\Desktop\\\\Python\\\\output.zip'"
      ]
     },
     "execution_count": 7,
     "metadata": {},
     "output_type": "execute_result"
    }
   ],
   "source": [
    "import shutil\n",
    "\n",
    "folder_we_want_to_zip = r\"C:\\Users\\user\\Desktop\\Python\\Python_Essentials\\7.Useful_Modules\"\n",
    "output_name = r\"C:\\Users\\user\\Desktop\\Python\\output\"\n",
    "\n",
    "shutil.make_archive(output_name, \"zip\", folder_we_want_to_zip) \n"
   ]
  },
  {
   "cell_type": "code",
   "execution_count": 9,
   "metadata": {},
   "outputs": [],
   "source": [
    "something_we_wnat_to_unzip = r\"C:\\Users\\user\\Desktop\\Python\\output.zip\"\n",
    "unzipped_folder_name = r\"C:\\Users\\user\\Desktop\\Python\\Python_Essentials\"\n",
    "\n",
    "shutil.unpack_archive(something_we_wnat_to_unzip, unzipped_folder_name, \"zip\")"
   ]
  }
 ],
 "metadata": {
  "kernelspec": {
   "display_name": "base",
   "language": "python",
   "name": "python3"
  },
  "language_info": {
   "codemirror_mode": {
    "name": "ipython",
    "version": 3
   },
   "file_extension": ".py",
   "mimetype": "text/x-python",
   "name": "python",
   "nbconvert_exporter": "python",
   "pygments_lexer": "ipython3",
   "version": "3.11.5"
  }
 },
 "nbformat": 4,
 "nbformat_minor": 2
}
