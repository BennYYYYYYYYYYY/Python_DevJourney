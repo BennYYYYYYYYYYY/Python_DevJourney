{
 "cells": [
  {
   "cell_type": "markdown",
   "metadata": {},
   "source": [
    "# Random Module\n",
    "The Python random module implements pseudo-random number generators for various distributions. Any random number generator in the world is pseudo, which means it’s not completely random; this is because human beings have not yet figured out an actual algorithm to generate random numbers.\n",
    "____\n"
   ]
  },
  {
   "cell_type": "markdown",
   "metadata": {},
   "source": [
    "### `random.random()` \n"
   ]
  },
  {
   "cell_type": "code",
   "execution_count": 6,
   "metadata": {},
   "outputs": [
    {
     "name": "stdout",
     "output_type": "stream",
     "text": [
      "0.7198295560865886\n"
     ]
    }
   ],
   "source": [
    "import random \n",
    "\n",
    "print(random.random())"
   ]
  },
  {
   "cell_type": "markdown",
   "metadata": {},
   "source": [
    "### `random.randrange(start, stop[, step])` "
   ]
  },
  {
   "cell_type": "code",
   "execution_count": 7,
   "metadata": {},
   "outputs": [
    {
     "name": "stdout",
     "output_type": "stream",
     "text": [
      "8\n"
     ]
    }
   ],
   "source": [
    "print(random.randrange(0, 10)) # 0,1,2,3,4,5,6,7,8,9 follow the rule from range(), inclusive, exclusive, optional"
   ]
  },
  {
   "cell_type": "markdown",
   "metadata": {},
   "source": [
    "### `random.randint(a, b)`"
   ]
  },
  {
   "cell_type": "code",
   "execution_count": 10,
   "metadata": {},
   "outputs": [
    {
     "name": "stdout",
     "output_type": "stream",
     "text": [
      "1\n"
     ]
    }
   ],
   "source": [
    "print(random.randint(0,1)) # Alias for randrange(a, b+1)."
   ]
  },
  {
   "cell_type": "markdown",
   "metadata": {},
   "source": [
    "### `seed()`\n",
    "The `seed()` function is used to save the state of a random function, so that it can generate the same random numbers on multiple executions of the code on the same machine or different machines (for a specific seed value).\n",
    "\n",
    "This function is helpful for testing codes. For example, we would randomly choose some data to compare with our prediction in machine learning algorithms. We would use the seed() function to make the randomly chosen data consistent.\n"
   ]
  },
  {
   "cell_type": "code",
   "execution_count": 16,
   "metadata": {},
   "outputs": [
    {
     "name": "stdout",
     "output_type": "stream",
     "text": [
      "0.5714025946899135\n",
      "0.4288890546751146\n",
      "0.5780913011344704\n",
      "0.20609823213950174\n",
      "0.81332125135732\n"
     ]
    }
   ],
   "source": [
    "random.seed(10)\n",
    "\n",
    "# the answer will always be the same everytime we run this program.\n",
    "for i in range(5):\n",
    "    i = random.random()\n",
    "    print(i)\n"
   ]
  },
  {
   "cell_type": "markdown",
   "metadata": {},
   "source": [
    "\n",
    "##### `random.choice(seq)` returns a random element from the non-empty sequence seq. If seq is empty, raises IndexError.\n",
    "##### `random.choices(sequence, weights=None, cum_weights=None, k=1)` returns k sized list of elements chosen from the sequence with replacement. If the sequence is empty, raises IndexError. Weights, cum_weights, and k are all optional. We can just choose one from weights and cum_weights; cum_weights is accumulated.\n"
   ]
  },
  {
   "cell_type": "code",
   "execution_count": 32,
   "metadata": {},
   "outputs": [
    {
     "name": "stdout",
     "output_type": "stream",
     "text": [
      "Nini\n",
      "['Jubo', 'Jubo', 'Nibo', 'Benny', 'Jubo', 'Jubo', 'Jubo', 'Jubo', 'Jubo', 'Jubo']\n"
     ]
    }
   ],
   "source": [
    "name = [\"Benny\", \"Nini\", \"Nibo\", \"Juno\", \"Juju\", \"Jubo\"]\n",
    "print(random.choice(name))\n",
    "\n",
    "print(random.choices(name, weights=[1, 1, 1, 1, 1, 50], k=10))"
   ]
  },
  {
   "cell_type": "markdown",
   "metadata": {},
   "source": [
    "#### `random.sample(sequence, k)` returns a k length list of unique elements chosen from the population sequence or set. Used for random sampling without replacement. k cannot be negative or more than the size of the sequence.\n"
   ]
  },
  {
   "cell_type": "code",
   "execution_count": 35,
   "metadata": {},
   "outputs": [
    {
     "name": "stdout",
     "output_type": "stream",
     "text": [
      "['Nini', 'Jubo', 'Juno', 'Benny']\n"
     ]
    }
   ],
   "source": [
    "print(random.sample(name, k=4))"
   ]
  },
  {
   "cell_type": "markdown",
   "metadata": {},
   "source": [
    "#### `random.shuffle(x)` shuffle the sequence x in place. Sequence x has to be mutable. The shuffle() function changes the sequence x \"permanently\".\n"
   ]
  },
  {
   "cell_type": "code",
   "execution_count": 36,
   "metadata": {},
   "outputs": [
    {
     "name": "stdout",
     "output_type": "stream",
     "text": [
      "Before: ['Benny', 'Nini', 'Nibo', 'Juno', 'Juju', 'Jubo']\n",
      "After: ['Nibo', 'Juju', 'Nini', 'Juno', 'Jubo', 'Benny']\n"
     ]
    }
   ],
   "source": [
    "print(f\"Before: {name}\")\n",
    "random.shuffle(name)\n",
    "print(f\"After: {name}\") # And it's a permanently change."
   ]
  }
 ],
 "metadata": {
  "kernelspec": {
   "display_name": "base",
   "language": "python",
   "name": "python3"
  },
  "language_info": {
   "codemirror_mode": {
    "name": "ipython",
    "version": 3
   },
   "file_extension": ".py",
   "mimetype": "text/x-python",
   "name": "python",
   "nbconvert_exporter": "python",
   "pygments_lexer": "ipython3",
   "version": "3.11.5"
  }
 },
 "nbformat": 4,
 "nbformat_minor": 2
}
