{
 "cells": [
  {
   "cell_type": "markdown",
   "metadata": {},
   "source": [
    "# Datetime\n",
    "The datetime module provides useful methods to work with time in Python. While date and time arithmetic is supported, the focus of the implementation is on efficient attribute extraction for output formatting and manipulation.\n",
    "\n",
    "Under the datetime module, different classes are used for their purposes. We will look at 2 classes – datetime and timedelta.\n",
    "___\n"
   ]
  },
  {
   "cell_type": "markdown",
   "metadata": {},
   "source": [
    "## Datetime Class\n",
    "A datetime class is used to work with datetime object. The datetime object contains all the information of both date and time. Year, month, day, hour, minute, second, and microsecond are all available in a datetime object.\n",
    "\n",
    "To get the current time, we can use the static\n",
    "`datetime.now()`\n",
    "method from datetime class. This method will return a datetime object representing the current time.\n",
    "\n",
    "\n",
    "To create datetime object, we can just call the constructor of the datetime class:\n",
    "```\n",
    "datetime.datetime(year, month, day, hour=0, minute=0, second=0, microsecond=0, tzinfo=None, *, fold=0)\n",
    "```\n",
    "The year, month and day arguments are required. The rest are optional.\n",
    "\n",
    "For each datetime object, The `strftime(format)` method is used to extract certain information to its string representation. (strftime stands for string from time)"
   ]
  },
  {
   "cell_type": "code",
   "execution_count": 14,
   "metadata": {},
   "outputs": [
    {
     "name": "stdout",
     "output_type": "stream",
     "text": [
      "<class 'datetime.datetime'>\n",
      "2024-10-22 00:38:55.205063\n",
      "2024\n",
      "10\n",
      "22\n",
      "0\n",
      "38\n",
      "55\n",
      "205063\n",
      "-------------------------------------------\n",
      "8729 days, 0:38:55.205063\n",
      "-------------------------------------------\n",
      "Tuesday <class 'str'>\n",
      "2024 <class 'str'>\n",
      "10 <class 'str'>\n"
     ]
    }
   ],
   "source": [
    "import datetime\n",
    "\n",
    "print(type(datetime.datetime.now())) # datetime object\n",
    "\n",
    "x = datetime.datetime.now()\n",
    "print(x)\n",
    "print(x.year)\n",
    "print(x.month)\n",
    "print(x.day)\n",
    "print(x.hour)\n",
    "print(x.minute)\n",
    "print(x.second)\n",
    "print(x.microsecond)\n",
    "\n",
    "print(\"-------------------------------------------\")\n",
    "\n",
    "y = datetime.datetime(2000, 11, 28)\n",
    "print(x - y)\n",
    "\n",
    "print(\"-------------------------------------------\")\n",
    "\n",
    "# string from time\n",
    "print(x.strftime(\"%A\"), type(x.strftime(\"%A\")))\n",
    "print(x.strftime(\"%Y\"), type(x.strftime(\"%Y\")))\n",
    "print(x.strftime(\"%m\"), type(x.strftime(\"%m\")))\n",
    "\n"
   ]
  },
  {
   "cell_type": "markdown",
   "metadata": {},
   "source": [
    "## Timedelta Class\n",
    "Each timedelta object represents a duration, the difference between two dates or times.\n",
    "\n",
    "Normally, we would use a read-only instance attribute `days` and one instance method `total_seconds()` to get the day or second difference between 2 datetime objects.\n",
    "\n"
   ]
  },
  {
   "cell_type": "code",
   "execution_count": 19,
   "metadata": {},
   "outputs": [
    {
     "name": "stdout",
     "output_type": "stream",
     "text": [
      "<class 'datetime.timedelta'>\n",
      "8729\n",
      "754188321.205555\n",
      "----------------------------------\n",
      "<class 'datetime.timedelta'>\n",
      "<class 'datetime.datetime'> 2024-10-23 00:45:21.205555\n"
     ]
    }
   ],
   "source": [
    "x = datetime.datetime.now()\n",
    "y = datetime.datetime(2000, 11, 28)\n",
    "diff = x - y\n",
    "print(type(diff)) # timedelta object\n",
    "\n",
    "print(diff.days) # attribute\n",
    "print(diff.total_seconds()) # method\n",
    "\n",
    "print(\"----------------------------------\")\n",
    "\n",
    "gap = datetime.timedelta(1) \n",
    "print(type(gap)) # timedelta object\n",
    "print(type(x + gap), x + gap) # timedelta + datetime = datetime \n"
   ]
  }
 ],
 "metadata": {
  "kernelspec": {
   "display_name": "base",
   "language": "python",
   "name": "python3"
  },
  "language_info": {
   "codemirror_mode": {
    "name": "ipython",
    "version": 3
   },
   "file_extension": ".py",
   "mimetype": "text/x-python",
   "name": "python",
   "nbconvert_exporter": "python",
   "pygments_lexer": "ipython3",
   "version": "3.11.5"
  }
 },
 "nbformat": 4,
 "nbformat_minor": 2
}
