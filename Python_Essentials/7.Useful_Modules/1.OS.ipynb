{
 "cells": [
  {
   "cell_type": "markdown",
   "metadata": {},
   "source": [
    "## OS Module\n",
    "When working with files, we would want to work with File systems as well; then, we will be able to rename, move or create new files. The OS module in Python gives us the ability to write Python codes compatible with any operating system.\n",
    "\n",
    "Different OS has different syntax in naming the file paths:\n",
    "* In Linux/UNIX and macOS, they use / to separate directory.\n",
    "* In Windows, they use \\ .\n",
    "\n",
    "In order to fix the difference between the operating system, the Python OS module provides some functions to specify file paths. Therefore, we can make sure our Python code can run in any file system by using the built-in functions.\n"
   ]
  },
  {
   "cell_type": "markdown",
   "metadata": {},
   "source": [
    "### `os.getcwd()`  \n",
    "returns a string representing the current working directory.\n"
   ]
  },
  {
   "cell_type": "code",
   "execution_count": 1,
   "metadata": {},
   "outputs": [
    {
     "name": "stdout",
     "output_type": "stream",
     "text": [
      "c:\\Users\\user\\Desktop\\Python\\Python_Essentials\\7.Useful_Modules\n"
     ]
    }
   ],
   "source": [
    "import os\n",
    "print(os.getcwd())"
   ]
  },
  {
   "cell_type": "markdown",
   "metadata": {},
   "source": [
    "### `os.listdir(path=‘.’)` \n",
    "returns a list containing the names of the entries in the directory given by path. <br>Notice that the default argument of `os.listdir()` is a dot. In both Windows and Linux/UNIX, a dot represents the current directory."
   ]
  },
  {
   "cell_type": "code",
   "execution_count": 5,
   "metadata": {},
   "outputs": [
    {
     "name": "stdout",
     "output_type": "stream",
     "text": [
      "['1.OS_Module.ipynb', 'test.txt']\n"
     ]
    }
   ],
   "source": [
    "print(os.listdir())"
   ]
  },
  {
   "cell_type": "markdown",
   "metadata": {},
   "source": [
    "### `os.curdir`\n",
    "`os.curdir` is a constant representing the current directory. For example, it is \".\" on Linux, Windows, and OS X. It is, however, \":\" on old Mac OS 9 systems.\n"
   ]
  },
  {
   "cell_type": "code",
   "execution_count": 6,
   "metadata": {},
   "outputs": [
    {
     "name": "stdout",
     "output_type": "stream",
     "text": [
      "['1.OS_Module.ipynb', 'test.txt']\n",
      ".\n"
     ]
    }
   ],
   "source": [
    "print(os.listdir(os.curdir))\n",
    "print(os.curdir)"
   ]
  },
  {
   "cell_type": "markdown",
   "metadata": {},
   "source": [
    "### `os.pardir` \n",
    "`os.pardir` is a constant representing the parent directory."
   ]
  },
  {
   "cell_type": "code",
   "execution_count": 7,
   "metadata": {},
   "outputs": [
    {
     "name": "stdout",
     "output_type": "stream",
     "text": [
      "['0.Basic', '1.ControlFlow_Func_Methods', '2.IO_with_File_in_Python', '3.OOP', '4.Modules_Packages', '5.Exceptions_Errors', '6.Advanced_Functions', '7.Useful_Modules']\n"
     ]
    }
   ],
   "source": [
    "print(os.listdir(os.pardir))"
   ]
  },
  {
   "cell_type": "markdown",
   "metadata": {},
   "source": [
    "### `os.path.join(path1, path2)` \n",
    "Join one or more path components intelligently.\n",
    "\n",
    "Some reasons why we use os.path.join() instead of simple concatenation:\n",
    "* _Portable_ - this code can work with any OS.\n",
    "* _Smart_ - We no longer need to worry if that directory path had a trailing slash or not. os.path.join will add it if it needs to.\n",
    "* _Clear_ - It’s simple to read it. Using `os.path.join()` makes it obvious to other people reading your code that you are working with filepaths. People can quickly scan through the code and discover it's a filepath intrinsically.\n",
    "\n"
   ]
  },
  {
   "cell_type": "code",
   "execution_count": 8,
   "metadata": {},
   "outputs": [
    {
     "name": "stdout",
     "output_type": "stream",
     "text": [
      "utils\\hello.html\n"
     ]
    }
   ],
   "source": [
    "print(os.path.join(\"utils\", \"hello.html\"))"
   ]
  },
  {
   "cell_type": "markdown",
   "metadata": {},
   "source": [
    "### `os.path.split(path)` \n",
    "splits the basename and the directory name into a tuple.\n"
   ]
  },
  {
   "cell_type": "code",
   "execution_count": 24,
   "metadata": {},
   "outputs": [
    {
     "name": "stdout",
     "output_type": "stream",
     "text": [
      "('C:\\\\Users\\\\user\\\\Desktop\\\\Python', 'demo.ipynbs') <class 'tuple'>\n",
      "C:\\Users\\user\\Desktop\\Python\n"
     ]
    }
   ],
   "source": [
    "path = r\"C:\\Users\\user\\Desktop\\Python\\demo.ipynbs\"\n",
    "print(os.path.split(path), type(os.path.split(path)))\n",
    "directory_name, basename = os.path.split(path)\n",
    "print(directory_name)"
   ]
  },
  {
   "cell_type": "markdown",
   "metadata": {},
   "source": [
    "### `os.path.splitext(path)` \n",
    "returns a tuple that splits the file type from path.\n",
    "\n"
   ]
  },
  {
   "cell_type": "code",
   "execution_count": 34,
   "metadata": {},
   "outputs": [
    {
     "name": "stdout",
     "output_type": "stream",
     "text": [
      "('C:\\\\Users\\\\user\\\\Desktop\\\\Python\\\\Thesis\\\\NLP_update\\\\LM_v2', '.ipynb') <class 'tuple'>\n",
      ".ipynb\n"
     ]
    }
   ],
   "source": [
    "path = r\"C:\\Users\\user\\Desktop\\Python\\Thesis\\NLP_update\\LM_v2.ipynb\"\n",
    "print(os.path.splitext(path),type(os.path.splitext(path)))\n",
    "path, file_type = os.path.splitext(path)\n",
    "print(file_type)"
   ]
  },
  {
   "cell_type": "markdown",
   "metadata": {},
   "source": [
    "### `os.path.abspath(path)` \n",
    "returns the absolute path of the given path.\n"
   ]
  },
  {
   "cell_type": "code",
   "execution_count": 30,
   "metadata": {},
   "outputs": [
    {
     "name": "stdout",
     "output_type": "stream",
     "text": [
      "c:\\Users\\user\\Desktop\\Python\\Python_Essentials\\7.Useful_Modules\\Thesis\\NLP_update\\LM_v2.ipynb\n"
     ]
    }
   ],
   "source": [
    "print(os.path.abspath(r\"Thesis\\NLP_update\\LM_v2.ipynb\"))"
   ]
  },
  {
   "cell_type": "markdown",
   "metadata": {},
   "source": [
    "#### `os.path.isfile(path)` \n",
    "returns a boolean value indicating if the path is a file.\n",
    "#### `os.path.isdir(path)` \n",
    "returns a boolean value indicating if the path is a directory.\n",
    "#### `os.path.exists(path)` \n",
    "returns a boolean value indicating if the path (file or directory) exists.\n"
   ]
  },
  {
   "cell_type": "code",
   "execution_count": 36,
   "metadata": {},
   "outputs": [
    {
     "name": "stdout",
     "output_type": "stream",
     "text": [
      "False\n",
      "True\n",
      "True\n"
     ]
    }
   ],
   "source": [
    "path = r\"C:\\Users\\user\\Desktop\\Python\\Python_Essentials\\3.OOP\"\n",
    "print(os.path.isfile(path))\n",
    "print(os.path.isdir(path))\n",
    "print(os.path.exists(path))\n"
   ]
  },
  {
   "cell_type": "markdown",
   "metadata": {},
   "source": [
    "### `os.walk(path)`\n",
    "`os.walk(path)` method generates the file names in a directory tree by walking the tree either top-down or bottom-up. For each directory in the tree rooted at directory top (including top itself), it yields a 3-tuple (dirpath, dirnames, filenames).\n",
    "\n",
    "The `os.walk(path)` method uses depth-first tree traversal algorithm to decide the order of listing out the folder, subfolder, and files information in a directory.\n",
    "\n",
    "`os.walk()` is useful when renaming all files or removing some specific files in a directory. It will be a lot faster to use `os.walk()` to travel through all subdirectories and files. If we were doing this manually, then it would be very annoying."
   ]
  },
  {
   "cell_type": "code",
   "execution_count": 46,
   "metadata": {},
   "outputs": [
    {
     "name": "stdout",
     "output_type": "stream",
     "text": [
      "<generator object _walk at 0x000001CE3FA72710>\n",
      "c:\\Users\\user\\Desktop\\Python\\Python_Essentials\\7.Useful_Modules [] ['1.OS_Module.ipynb', 'test.txt']\n",
      "<class 'tuple'>\n"
     ]
    }
   ],
   "source": [
    "os.walk(os.getcwd()) \n",
    "f = os.walk(os.getcwd()) \n",
    "print(f)\n",
    "\n",
    "for path, dir, file in f:\n",
    "    print(path, dir, file)\n",
    "\n",
    "for i in os.walk(os.getcwd()):\n",
    "    print(type(i))"
   ]
  }
 ],
 "metadata": {
  "kernelspec": {
   "display_name": "base",
   "language": "python",
   "name": "python3"
  },
  "language_info": {
   "codemirror_mode": {
    "name": "ipython",
    "version": 3
   },
   "file_extension": ".py",
   "mimetype": "text/x-python",
   "name": "python",
   "nbconvert_exporter": "python",
   "pygments_lexer": "ipython3",
   "version": "3.11.5"
  }
 },
 "nbformat": 4,
 "nbformat_minor": 2
}
