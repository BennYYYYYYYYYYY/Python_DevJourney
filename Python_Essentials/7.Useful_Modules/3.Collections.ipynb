{
 "cells": [
  {
   "cell_type": "markdown",
   "metadata": {},
   "source": [
    "# Collections\n",
    "Python Collections module implements specialized container datatypes providing alternatives to Python’s general purpose built-in containers, dict, list, set, and tuple.\n",
    "___"
   ]
  },
  {
   "cell_type": "markdown",
   "metadata": {},
   "source": [
    "## Counter\n",
    "A Counter is a dict subclass for counting hashable objects. (This is why the first letter C is capitalized.) It is a collection where elements are stored as dictionary keys, and their counts are stored as dictionary values."
   ]
  },
  {
   "cell_type": "code",
   "execution_count": 3,
   "metadata": {},
   "outputs": [
    {
     "name": "stdout",
     "output_type": "stream",
     "text": [
      "Counter({'a': 17, 'b': 16, 'c': 15, 's': 10, 'v': 8})\n",
      "[('a', 17), ('b', 16)]\n"
     ]
    }
   ],
   "source": [
    "from collections import Counter\n",
    "letter = \"aaaaaaaabbbbbbbbbccccccccssssssssssvvvvvvvvcccccccaaaaaaaaabbbbbbb\"\n",
    "c = Counter(letter)\n",
    "print(c)\n",
    "print(c.most_common(2))"
   ]
  },
  {
   "cell_type": "markdown",
   "metadata": {},
   "source": [
    "## defaultdict\n",
    "Just like functions in Python has default argument, we can make dictionaries in Python have default values as well.\n",
    "defaultdict is a sub-class of the dictionary class that returns a dictionary-like object. \n",
    "\n",
    "The functionality of both dictionaries and defualtdict are almost same except for the fact that defualtdict never raises a KeyError. It provides a default value for the key that does not exists.\n",
    "\n",
    "Why is defaultdict lowercase? This is just not following the guidelines of Python. Will they fix it? We don’t know, but people already submitted requests to change the name to be Defaultdict. Hopefully, they will change it sooner or later.\n"
   ]
  },
  {
   "cell_type": "code",
   "execution_count": 4,
   "metadata": {},
   "outputs": [
    {
     "name": "stdout",
     "output_type": "stream",
     "text": [
      "Wrong key!\n"
     ]
    }
   ],
   "source": [
    "from collections import defaultdict\n",
    "\n",
    "# factory function is a function returning the default value for the dictionary defined. \n",
    "Harry = defaultdict(lambda: \"Wrong key!\") # default value, when use not exist key.\n",
    "\n",
    "Harry[\"name\"] = \"Harry Potter\"\n",
    "Harry[\"age\"] = 15\n",
    "\n",
    "print(Harry[\"school\"]) # \"KeyError\" in normal dictionary"
   ]
  },
  {
   "cell_type": "markdown",
   "metadata": {},
   "source": [
    "## Named Tuple\n",
    "Named tuples are basically easy-to-create, lightweight object types. Named tuple are giving tuples keys so things in a tuple can be accessed through either key or index. This is like a hybrid of dict and tuple.\n",
    "\n",
    "You should use named tuples instead of tuples anywhere we think object notation will make our code more pythonic and more easily readable. Furthermore, we can also replace ordinary immutable classes that have no functions with named tuples.\n"
   ]
  },
  {
   "cell_type": "code",
   "execution_count": 13,
   "metadata": {},
   "outputs": [
    {
     "name": "stdout",
     "output_type": "stream",
     "text": [
      "3.8078865529319543\n",
      "3.8078865529319543\n",
      "<class '__main__.Student'>\n",
      "70000\n",
      "70000\n"
     ]
    }
   ],
   "source": [
    "from collections import namedtuple\n",
    "from math import sqrt\n",
    "\n",
    "pt1 = (1.0, 5.0)\n",
    "pt2 = (2.5, 1.5)\n",
    "\n",
    "# without using namedtuple\n",
    "line_length = sqrt((pt1[0]-pt2[0])**2 + (pt1[1]-pt2[1])**2)\n",
    "print(line_length)\n",
    "\n",
    "\n",
    "# using namedtuple\n",
    "Point = namedtuple(\"Point\", ['x','y']) # creat a new data container named \"Point\", \"Point\" has two attribute \"x\" and \"y\".\n",
    "p1 = Point(1.0, 5.0)\n",
    "p2 = Point(x=2.5, y=1.5)\n",
    "\n",
    "line_length = sqrt((p1.x-p2.x)**2 + (p1.y-p2.y)**2)\n",
    "print(line_length)\n",
    "\n",
    "\n",
    "Student = namedtuple(\"Student\", [\"skill\", \"salary\", \"workplace\"])\n",
    "Benny = Student(\"Python\", 70000, \"Taiwan\")\n",
    "\n",
    "print(type(Benny)) # show the name \"Student\"\n",
    "print(Benny.salary) # more pythonic\n",
    "print(Benny[1])\n",
    "\n"
   ]
  }
 ],
 "metadata": {
  "kernelspec": {
   "display_name": "base",
   "language": "python",
   "name": "python3"
  },
  "language_info": {
   "codemirror_mode": {
    "name": "ipython",
    "version": 3
   },
   "file_extension": ".py",
   "mimetype": "text/x-python",
   "name": "python",
   "nbconvert_exporter": "python",
   "pygments_lexer": "ipython3",
   "version": "3.11.5"
  }
 },
 "nbformat": 4,
 "nbformat_minor": 2
}
