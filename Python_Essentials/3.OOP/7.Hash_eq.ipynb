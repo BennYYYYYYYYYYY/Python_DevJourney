{
 "cells": [
  {
   "cell_type": "markdown",
   "metadata": {},
   "source": [
    "Hash: 是一個將對象映射為固定長度的整數值的過程。這個過程使用了hash函數，通常用來快速比較和查找對象。\n",
    "\n",
    "Hashable: Hash 對象的值在其生命周期內必須保持不變，這樣它可以作為字典的鍵或集合中的元素。\n",
    "\n",
    "在 Python 中，不可變的對象通常是 hashable 的，因為它們的值不會變化。\n",
    "integer、float、string、tuple(當元組中的所有元素也是 hashable 時)"
   ]
  },
  {
   "cell_type": "code",
   "execution_count": 2,
   "metadata": {},
   "outputs": [
    {
     "name": "stdout",
     "output_type": "stream",
     "text": [
      "100 -6865713742499119920 1 1 8794083829423\n"
     ]
    }
   ],
   "source": [
    "a = 100\n",
    "b = 'This is a string'\n",
    "c = 1.0\n",
    "d = True\n",
    "e = None\n",
    "\n",
    "print(hash(a), hash(b), hash(c), hash(d), hash(e))\n",
    "# 100, 亂碼, 1.0, 1, 亂碼\n",
    "# 故常用 hash 的會是 str  "
   ]
  },
  {
   "cell_type": "markdown",
   "metadata": {},
   "source": [
    "同一 run 中 hash 同樣東西會得到同樣的值\n",
    "\n",
    "但不同 run 中 hash 的值會不一樣\n",
    "\n",
    "這是為了避免 reverse engineering (資安問題)\n",
    "\n",
    "並且，即使只有差一點點， hash 出來的值都會差很多，這是為了避免 collision\n",
    "(即不同的 input 產生同個 output)"
   ]
  },
  {
   "cell_type": "code",
   "execution_count": 3,
   "metadata": {},
   "outputs": [
    {
     "name": "stdout",
     "output_type": "stream",
     "text": [
      "-8863767901706960610\n",
      "3668063738057149799\n",
      "-3822401342925972907\n",
      "do something here\n",
      "-8863767901706960610\n",
      "-8863767901706960610\n"
     ]
    }
   ],
   "source": [
    "print(hash(\"Hi\"))  # 會跟下面一樣 \n",
    "print(hash(\"Hi!\"))  # 值會差很多\n",
    "print(hash(\"Hi!!\"))  # 值差很多\n",
    "def do():\n",
    "    print(\"do something here\")\n",
    "do()\n",
    "\n",
    "for i in range(10):\n",
    "    pass\n",
    "\n",
    "print(hash(\"Hi\"))  # 一樣\n",
    "print(hash(\"Hi\"))  # 一樣"
   ]
  },
  {
   "cell_type": "markdown",
   "metadata": {},
   "source": [
    "__hash__() 是用來返回對象的hash值的特殊方法。如果想讓自定義的 class 變成 hashable (就可以當dictionary key 或 set 的 element)，最終， hash() 會 return 一個整數，這個整數就是對象的 hash 值。\n",
    "\n",
    "__eq__() 用來定義對象之間的相等比較行為。\n",
    "\n",
    "如果想要讓一個對象可以被 hash (即使是字典的鍵或集合的元素)，那麼這個對象必須同時實現 __hash__()：用於計算哈希值。__eq__()：用於比較相等性。\n",
    "\n",
    "為什麼需要兩者一起實現？因為 Python 要確保在字典或集合中，如果兩個對象被認為是相等的（通過 __eq__()），那麼它們的 hash 值也必須相同（由 __hash__() 提供）。這樣可以保證對象的唯一性。"
   ]
  },
  {
   "cell_type": "code",
   "execution_count": 2,
   "metadata": {},
   "outputs": [
    {
     "name": "stdout",
     "output_type": "stream",
     "text": [
      "True\n"
     ]
    }
   ],
   "source": [
    "# 單純的情況下，不寫__hash__，class 還是可以當作 dictionary 的 key 來使用。\n",
    "# 但在有寫__eq__的情況下，寫__hash__其必要性。\n",
    "# 至於__hash__的撰寫方式，在 Python 的 documentation也有說明，通常是將屬性放入 tuple 內部，用內建的hash()去運算數值。\n",
    "\n",
    "class Robot():\n",
    "    def __init__(self, name, age, address):\n",
    "        self.name = name\n",
    "        self.age = age \n",
    "        self.address = address\n",
    "\n",
    "    # define a private method __key()\n",
    "    def __key(self):\n",
    "        return (self.name, self.age, self.address) # 將屬性放入 tuple 內部\n",
    "\n",
    "    # implement hash function\n",
    "    def __hash__(self):\n",
    "        return hash(self.__key()) # 用內建的hash()去運算數值\n",
    "    \n",
    "    def __eq__(self, other): # 定義 \"==\" 比較的特殊方法\n",
    "        if isinstance(other, Robot): #  other 是否為 Robot 的 instance\n",
    "            return self.__key() == other.__key()\n",
    "        return NotImplemented # 特殊的返回值, 如果某個操作符或方法不支持兩個對象之間的操作，返回 NotImplemented 可以告訴 Python 該操作未實現\n",
    "    \n",
    "robot1 = Robot(\"Benny\", 25, \"Taiwan\")\n",
    "robot2 = Robot(\"Benny\", 25, \"Taiwan\")\n",
    "print(robot1 == robot2)\n",
    "\n",
    "\n"
   ]
  }
 ],
 "metadata": {
  "kernelspec": {
   "display_name": "base",
   "language": "python",
   "name": "python3"
  },
  "language_info": {
   "codemirror_mode": {
    "name": "ipython",
    "version": 3
   },
   "file_extension": ".py",
   "mimetype": "text/x-python",
   "name": "python",
   "nbconvert_exporter": "python",
   "pygments_lexer": "ipython3",
   "version": "3.11.5"
  }
 },
 "nbformat": 4,
 "nbformat_minor": 2
}
