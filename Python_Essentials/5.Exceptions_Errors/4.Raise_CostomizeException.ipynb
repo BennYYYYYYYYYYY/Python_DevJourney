{
 "cells": [
  {
   "cell_type": "markdown",
   "metadata": {},
   "source": []
  },
  {
   "cell_type": "markdown",
   "metadata": {},
   "source": [
    "## Raise an Exception\n",
    "If we were trying to write codes for other people to use, they might misuse our functions; then, we should raise an exception for them to catch.\n",
    "\n",
    "In Python, all exceptions must be instances of a class derived from BaseException. Therefore, when defining our own exception class, we need to at least make it inherit from BaseException. (Otherwise, we will get TypeError.)\n",
    "\n",
    "If a function wants to throw an exception, then we use the keyword `raise`."
   ]
  },
  {
   "cell_type": "code",
   "execution_count": 5,
   "metadata": {},
   "outputs": [
    {
     "name": "stdout",
     "output_type": "stream",
     "text": [
      "This is not a valid age.\n",
      "\n",
      "Something went wrong here...\n",
      "Your age is an even number.\n"
     ]
    }
   ],
   "source": [
    "import something\n",
    "\n",
    "num = [-25, \"fifty\", 20]\n",
    "\n",
    "for i in num:\n",
    "    try:\n",
    "        something.enter_age(i)\n",
    "    except something.NegativeNumberError as e:\n",
    "        print(e)\n",
    "    except:\n",
    "        print(\"Something went wrong here...\")"
   ]
  }
 ],
 "metadata": {
  "kernelspec": {
   "display_name": "base",
   "language": "python",
   "name": "python3"
  },
  "language_info": {
   "codemirror_mode": {
    "name": "ipython",
    "version": 3
   },
   "file_extension": ".py",
   "mimetype": "text/x-python",
   "name": "python",
   "nbconvert_exporter": "python",
   "pygments_lexer": "ipython3",
   "version": "3.11.5"
  }
 },
 "nbformat": 4,
 "nbformat_minor": 2
}
