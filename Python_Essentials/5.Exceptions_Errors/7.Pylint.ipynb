{
 "cells": [
  {
   "cell_type": "markdown",
   "metadata": {},
   "source": [
    "## Pylint\n",
    "Pylint is a Python static code analysis tool that looks for programming errors, helps enforce a coding standard, sniffs for code smells, and offers simple refactoring suggestions.\n",
    "\n",
    "If we are coding in Java or C++, the compiler will usually lend a helping hand. But if we are coding in a dynamic language like Python, we are on our own: we don’t have a compiler to catch bugs. \n",
    "\n",
    "Pylint uses heuristics to catch bugs in your code. If we run this code with Pylint, it would show we have unused variables. (Heuristic Algorithm is a technique to solve a problem faster than classic methods, or to find an approximate solution when classic methods cannot.)"
   ]
  },
  {
   "cell_type": "markdown",
   "metadata": {},
   "source": [
    "## How to use Pylint\n",
    "```\n",
    "# terminal\n",
    "pip install pylint\n",
    "\n",
    "# terminal\n",
    "pylint .\\main_program.py -r y\n",
    "\n",
    "```"
   ]
  },
  {
   "cell_type": "markdown",
   "metadata": {},
   "source": [
    "## Why don't use Pylint?\n",
    "Pylint is helpful, but many projects don’t use it. For example, neither Twisted, Django, Flask, or Sphinx seem to use Pylint. Why wouldn’t these large, sophisticated Python projects use it?\n",
    "\n",
    "Well, it’s because Pylint has particular styles and rules of how we should write our codes. If our project is huge, it will give many useless suggestions.\n",
    "\n",
    "Then, how should we use Pylint? \n",
    "\n",
    "We can create a `.pylintrc` file in our project folder and then disable all unnecessary functionalities in Pylint."
   ]
  }
 ],
 "metadata": {
  "kernelspec": {
   "display_name": "base",
   "language": "python",
   "name": "python3"
  },
  "language_info": {
   "name": "python",
   "version": "3.11.5"
  }
 },
 "nbformat": 4,
 "nbformat_minor": 2
}
