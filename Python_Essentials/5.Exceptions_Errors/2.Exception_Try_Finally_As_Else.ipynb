{
 "cells": [
  {
   "cell_type": "markdown",
   "metadata": {},
   "source": [
    "### Each Python exception is an object of its exception class. \n",
    "Python exception classes are based on the OOP principle; that means that one exception would inherit from another exception. (Can check it on docs)\n",
    "\n",
    "### General Syntax of Exception Handling\n",
    "```\n",
    "try:\n",
    "    # main code\n",
    "except ExcpetionName1 as variable 1:\n",
    "    # exception handling code \n",
    "except ExcpetionName2 as variable 2:\n",
    "    # exception handling code\n",
    "else:\n",
    "    # some code\n",
    "finally:\n",
    "    # some other code\n",
    "```"
   ]
  },
  {
   "cell_type": "code",
   "execution_count": null,
   "metadata": {},
   "outputs": [],
   "source": [
    "def ask_for_int():\n",
    "    while True:\n",
    "        try:\n",
    "            result = int(input(\"Please enter a number: \"))\n",
    "        except ValueError as e:\n",
    "            print(e)\n",
    "            print(\"Please try again.\")\n",
    "        else:\n",
    "            print(\"Good job\")\n",
    "            return result\n",
    "        \n",
    "x = ask_for_int() "
   ]
  },
  {
   "cell_type": "markdown",
   "metadata": {},
   "source": [
    "Please enter a number: five <br>\n",
    "invalid literal for int() with base 10: 'five' <br>\n",
    "Please try again.<br>\n",
    "Please enter a number: 5<br>\n",
    "Good job\n"
   ]
  }
 ],
 "metadata": {
  "kernelspec": {
   "display_name": "base",
   "language": "python",
   "name": "python3"
  },
  "language_info": {
   "codemirror_mode": {
    "name": "ipython",
    "version": 3
   },
   "file_extension": ".py",
   "mimetype": "text/x-python",
   "name": "python",
   "nbconvert_exporter": "python",
   "pygments_lexer": "ipython3",
   "version": "3.11.5"
  }
 },
 "nbformat": 4,
 "nbformat_minor": 2
}
