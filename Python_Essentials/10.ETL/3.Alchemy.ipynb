{
 "cells": [
  {
   "cell_type": "markdown",
   "metadata": {},
   "source": [
    "# ORM (Object Relational Mapper)\n",
    "Until now, we have been writing raw SQL statements; there are some disadvantages when working with data:\n",
    "\n",
    "Different SQL databases have implemented SQL in subtly different ways. That means, for example, the SQL statement we write for SQLite won’t necessarily always work for MySQL. The local development is done with sqlite3, but production is in MySQL or PostgreSQL. Then, we will have to switch SQL statements accordingly. If we have 500 SQL statements, we have to change and test them one by one.\n",
    "\n",
    "Including SQL statements in our code can make our code more difficult to maintain, particularly if we have a lot of them. For example, if I change the table name from people to user, then we have to go ahead and change all SQL statements. We should have something simple that generates SQL statements for us!\n",
    "\n",
    "Given those issues, people wanted a way to handle databases in Python that was easier to manage and didn’t require anything more than writing regular Python code. \n",
    "\n",
    "The solution is an `Object Relational Mapper (ORM)`, which converts, or maps, relational database types and structures to objects in Python. Two of the most common ORMs in the Python world are the Django ORM and SQLAlchemy, although of course, there are many others. "
   ]
  },
  {
   "cell_type": "code",
   "execution_count": null,
   "metadata": {},
   "outputs": [],
   "source": [
    "!pip install sqlalchemy==1.4.22"
   ]
  },
  {
   "cell_type": "code",
   "execution_count": 8,
   "metadata": {},
   "outputs": [
    {
     "name": "stdout",
     "output_type": "stream",
     "text": [
      "1 Benny 60\n",
      "2 Benny 5\n",
      "3 Juno 10\n",
      "4 B 50\n",
      "5 J 100\n"
     ]
    }
   ],
   "source": [
    "from sqlalchemy import create_engine, select, MetaData, Table, Column, Integer, String \n",
    "from sqlalchemy.orm import sessionmaker\n",
    "from sqlalchemy.ext.declarative import declarative_base\n",
    " \n",
    "\n",
    "dbpath = r\"C:\\Users\\user\\Desktop\\Python\\Python_Essentials\\10.ETL\\database.db\"\n",
    "engine = create_engine('sqlite:///%s' % dbpath) # 創建了與 SQLite 資料庫的連線\n",
    "metadata = MetaData(engine)  # 用來管理資料庫中的表結構和元數據\n",
    "\n",
    "Base = declarative_base() # ORM 模型的基礎，所有 ORM 表格的類別都需要繼承它。\n",
    "class People(Base): # must inherit from declarative_base (Base)\n",
    "    __tablename__ = 'people' # this has to match the table name up there\n",
    "    id = Column(Integer, primary_key=True)\n",
    "    name = Column(String)\n",
    "    count = Column(Integer)\n",
    "\n",
    "Session = sessionmaker(bind=engine) # 與資料庫互動\n",
    "session = Session() # 與資料庫互動的實例。\n",
    "metadata.create_all(engine) # 創建所有定義的表結構（如 people）\n",
    "\n",
    "new1 = People(name='Benny', count=5)\n",
    "new2 = People(name='Juno', count=10)\n",
    "new3 = People(name='B', count=50)\n",
    "new4 = People(name='J', count=100)\n",
    "\n",
    "session.add(new1)\n",
    "session.add(new2)\n",
    "session.add(new3)\n",
    "session.add(new4)\n",
    "\n",
    "session.commit() # 將插入的資料永久儲存到資料庫中\n",
    "\n",
    "for row in session.query(People).all():\n",
    "    print(row.id, row.name, row.count)\n",
    "\n",
    "\n",
    "\n"
   ]
  }
 ],
 "metadata": {
  "kernelspec": {
   "display_name": "base",
   "language": "python",
   "name": "python3"
  },
  "language_info": {
   "codemirror_mode": {
    "name": "ipython",
    "version": 3
   },
   "file_extension": ".py",
   "mimetype": "text/x-python",
   "name": "python",
   "nbconvert_exporter": "python",
   "pygments_lexer": "ipython3",
   "version": "3.11.5"
  }
 },
 "nbformat": 4,
 "nbformat_minor": 2
}
