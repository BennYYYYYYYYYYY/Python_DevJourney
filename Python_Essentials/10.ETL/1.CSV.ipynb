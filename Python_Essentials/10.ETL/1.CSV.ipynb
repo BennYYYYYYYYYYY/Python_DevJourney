{
 "cells": [
  {
   "cell_type": "code",
   "execution_count": null,
   "metadata": {},
   "outputs": [
    {
     "name": "stdout",
     "output_type": "stream",
     "text": [
      "['id', 'name', 'year of birth']\n",
      "['1', 'albert einstein', '1879']\n",
      "['2', 'isaac newton', '1643']\n",
      "['3', 'marie curie', '1867']\n",
      "['4', 'galilée', '1564']\n",
      "<class '_io.TextIOWrapper'>\n",
      "<class '_csv.reader'>\n"
     ]
    }
   ],
   "source": [
    "import csv\n",
    "\n",
    "path = r\"C:\\Users\\user\\Desktop\\Python\\Python_Essentials\\10.ETL\\file.csv\"\n",
    "\n",
    "with open(path, newline='', encoding = \"utf-8\") as f: # deault mode = 'r'\n",
    "    csv_data = csv.reader(f) # reader object, and perform iteration on this object.\n",
    "    for row in csv_data:\n",
    "        print(row)\n",
    "\n",
    "print(type(f))\n",
    "print(type(csv_data))"
   ]
  },
  {
   "cell_type": "code",
   "execution_count": null,
   "metadata": {},
   "outputs": [
    {
     "name": "stdout",
     "output_type": "stream",
     "text": [
      "['1', '2', '3']\n"
     ]
    }
   ],
   "source": [
    "with open(path, mode='w', newline='', encoding=\"utf-8\") as f:\n",
    "    csv_writer = csv.writer(f, delimiter=\",\") # csv.writer() function to create an writer object.\n",
    "    csv_writer.writerow([1, 2, 3]) # writerow: input list for one row\n",
    "\n",
    "with open(path, newline='') as f:\n",
    "    r = csv.reader(f)\n",
    "    for row in r:\n",
    "        print(row)\n"
   ]
  },
  {
   "cell_type": "code",
   "execution_count": 5,
   "metadata": {},
   "outputs": [
    {
     "name": "stdout",
     "output_type": "stream",
     "text": [
      "['1', '2', '3']\n",
      "['4', '5', '6']\n",
      "['7', '8', '9']\n"
     ]
    }
   ],
   "source": [
    "with open(path, mode='w', newline='', encoding=\"utf-8\") as f:\n",
    "    csv_writer = csv.writer(f, delimiter=\",\") # csv.writer() function to create an writer object.\n",
    "    csv_writer.writerows([[1, 2, 3], [4, 5, 6], [7, 8, 9]])  # writerows: input a list with lists for lots of rows\n",
    "\n",
    "with open(path, newline='') as f:\n",
    "    r = csv.reader(f)\n",
    "    for row in r:\n",
    "        print(row)\n"
   ]
  }
 ],
 "metadata": {
  "kernelspec": {
   "display_name": "base",
   "language": "python",
   "name": "python3"
  },
  "language_info": {
   "codemirror_mode": {
    "name": "ipython",
    "version": 3
   },
   "file_extension": ".py",
   "mimetype": "text/x-python",
   "name": "python",
   "nbconvert_exporter": "python",
   "pygments_lexer": "ipython3",
   "version": "3.11.5"
  }
 },
 "nbformat": 4,
 "nbformat_minor": 2
}
