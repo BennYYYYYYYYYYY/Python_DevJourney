{
 "cells": [
  {
   "cell_type": "markdown",
   "metadata": {},
   "source": [
    "If filename is `“:memory:”` then the database will be created in our RAM, not disk.\n",
    "\n",
    "Each `commit` is also a history of the database. That means, if one change happened with error, then we can roll back to the last version of our commit.\n",
    "\n"
   ]
  },
  {
   "cell_type": "code",
   "execution_count": 6,
   "metadata": {},
   "outputs": [
    {
     "name": "stdout",
     "output_type": "stream",
     "text": [
      "<class 'sqlite3.Connection'>\n",
      "<class 'sqlite3.Cursor'>\n"
     ]
    }
   ],
   "source": [
    "import sqlite3\n",
    "\n",
    "conn = sqlite3.connect(\"database.db\")  # :memory: will store in RAM (temporary)\n",
    "print(type(conn)) # Connection object\n",
    "\n",
    "cursor = conn.cursor()\n",
    "print(type(cursor)) # Cursor object (for sql code), manipulate the database\n",
    "\n",
    "cursor.execute(\"\"\"\n",
    "    create table people (id integer primary key,\n",
    "    name text,\n",
    "    count interger)\"\"\"\n",
    ")\n",
    "\n",
    "cursor.execute(\"\"\"\n",
    "    insert into people (name, count) values (:username, :usercount)\"\"\", {\"username\":\"Benny\", \"usercount\":15}\n",
    ")\n",
    "\n",
    "conn.commit()\n",
    "conn.close()\n",
    "\n"
   ]
  },
  {
   "cell_type": "markdown",
   "metadata": {},
   "source": [
    "A cursor in SQLite3 is an object which helps to execute the query and fetch the records from the database. After we invoke the function `cursor.execute()`, we can save the cursor object in a variable result, and then do:\n",
    "\n",
    "`result.fetchall()` returns a list of tuples; each row of data in the database in stored in one tuple.\n",
    "\n",
    "`result.fetchmany(n)` returns a list of the first nth tuples.\n",
    "\n",
    "`result.fetchone()` returns a tuple of the first match for the SQL statement.\n"
   ]
  },
  {
   "cell_type": "code",
   "execution_count": 2,
   "metadata": {},
   "outputs": [
    {
     "name": "stdout",
     "output_type": "stream",
     "text": [
      "[(1, 'Benny', 60)]\n"
     ]
    }
   ],
   "source": [
    "import sqlite3\n",
    "\n",
    "conn = sqlite3.connect(\"database.db\")\n",
    "cursor = conn.cursor()\n",
    "\n",
    "# result = cursor.execute(\"\"\"\n",
    "#     select * from people\n",
    "# \"\"\")\n",
    "\n",
    "# print(type(result)) # Cursor object\n",
    "\n",
    "# print(result.fetchall())\n",
    "# print(result.fetchmany(2))\n",
    "# print(result.fetchone())\n",
    "\n",
    "cursor.execute(\"\"\"\n",
    "    update people set count = :usercount where name = :username\"\"\", \n",
    "    {\"usercount\":60, \"username\":\"Benny\"}\n",
    ")\n",
    "\n",
    "\n",
    "result = cursor.execute(\"\"\"\n",
    "    select * from people\n",
    "\"\"\")\n",
    "\n",
    "print(result.fetchall())\n",
    "\n",
    "conn.commit()\n",
    "conn.close()"
   ]
  },
  {
   "cell_type": "markdown",
   "metadata": {},
   "source": [
    "# SQL Injection\n",
    "SQL injection is a code injection technique used to attack data-driven applications, in which malicious SQL statements are inserted into an entry field for execution (e.g., to dump the database contents to the attacker).\n",
    "\n",
    "One of the most effective ways to prevent SQL injection is to use `parameterized queries`. We use parameters to give value when connecting and accessing the database rows.\n",
    "\n",
    "The mechanism behind the parameterized query is that the `database management system doesn’t take the content of the parameters as parts of the SQL statement`; instead, it will `understand the SQL statement first, put the parameter in, and execute the statement.` Therefore, even though the parameter contains attacking commands, it won’t affect the query because the database already knows what the query will do.\n"
   ]
  },
  {
   "cell_type": "code",
   "execution_count": null,
   "metadata": {},
   "outputs": [],
   "source": [
    "# Prevent the input like:  '1 OR '1' = '1\n",
    " \n",
    "conn = sqlite3.connect()\n",
    "cursor = conn.cursor()\n",
    "\n",
    "name = input(\"Type the name\")\n",
    "result = cursor.execute(\"\"\"\n",
    "    select * from people where name = :name \"\"\",\n",
    "    {\"name\":name}\n",
    ")\n",
    "\n",
    "print(result.fetchall())\n",
    "\n",
    "conn.close()\n"
   ]
  }
 ],
 "metadata": {
  "kernelspec": {
   "display_name": "base",
   "language": "python",
   "name": "python3"
  },
  "language_info": {
   "codemirror_mode": {
    "name": "ipython",
    "version": 3
   },
   "file_extension": ".py",
   "mimetype": "text/x-python",
   "name": "python",
   "nbconvert_exporter": "python",
   "pygments_lexer": "ipython3",
   "version": "3.11.5"
  }
 },
 "nbformat": 4,
 "nbformat_minor": 2
}
