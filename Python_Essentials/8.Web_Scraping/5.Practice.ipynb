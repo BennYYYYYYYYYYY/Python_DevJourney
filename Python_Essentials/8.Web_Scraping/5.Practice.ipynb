{
 "cells": [
  {
   "cell_type": "code",
   "execution_count": 2,
   "metadata": {},
   "outputs": [
    {
     "name": "stdout",
     "output_type": "stream",
     "text": [
      "0\n",
      "//upload.wikimedia.org/wikipedia/commons/thumb/c/cd/Zh_conversion_icon_m.svg/35px-Zh_conversion_icon_m.svg.png\n",
      "1\n",
      "//upload.wikimedia.org/wikipedia/commons/thumb/5/5f/Disambig_gray.svg/25px-Disambig_gray.svg.png\n",
      "2\n",
      "//upload.wikimedia.org/wikipedia/commons/thumb/6/6e/Harry_Potter_wordmark.svg/220px-Harry_Potter_wordmark.svg.png\n",
      "3\n",
      "//upload.wikimedia.org/wikipedia/commons/thumb/8/8a/OOjs_UI_icon_edit-ltr-progressive.svg/10px-OOjs_UI_icon_edit-ltr-progressive.svg.png\n",
      "4\n",
      "//upload.wikimedia.org/wikipedia/commons/thumb/8/8a/OOjs_UI_icon_edit-ltr-progressive.svg/10px-OOjs_UI_icon_edit-ltr-progressive.svg.png\n",
      "5\n",
      "//upload.wikimedia.org/wikipedia/commons/thumb/a/a5/Flag_of_the_United_Kingdom_%281-2%29.svg/22px-Flag_of_the_United_Kingdom_%281-2%29.svg.png\n",
      "6\n",
      "//upload.wikimedia.org/wikipedia/commons/thumb/a/a4/Flag_of_the_United_States.svg/22px-Flag_of_the_United_States.svg.png\n",
      "7\n",
      "//upload.wikimedia.org/wikipedia/commons/thumb/d/d9/Flag_of_Canada_%28Pantone%29.svg/22px-Flag_of_Canada_%28Pantone%29.svg.png\n",
      "8\n",
      "//upload.wikimedia.org/wikipedia/commons/thumb/a/a5/Flag_of_the_United_Kingdom_%281-2%29.svg/22px-Flag_of_the_United_Kingdom_%281-2%29.svg.png\n",
      "9\n",
      "//upload.wikimedia.org/wikipedia/commons/thumb/7/72/Flag_of_the_Republic_of_China.svg/22px-Flag_of_the_Republic_of_China.svg.png\n",
      "10\n",
      "//upload.wikimedia.org/wikipedia/commons/thumb/5/5b/Flag_of_Hong_Kong.svg/22px-Flag_of_Hong_Kong.svg.png\n",
      "11\n",
      "//upload.wikimedia.org/wikipedia/commons/thumb/f/fa/Flag_of_the_People%27s_Republic_of_China.svg/22px-Flag_of_the_People%27s_Republic_of_China.svg.png\n",
      "12\n",
      "//upload.wikimedia.org/wikipedia/commons/thumb/9/9b/HP_-_Harry_Potter_wordmark.svg/26px-HP_-_Harry_Potter_wordmark.svg.png\n",
      "13\n",
      "//upload.wikimedia.org/wikipedia/commons/thumb/0/04/Kings_Cross_Platform_9%2C75.jpg/220px-Kings_Cross_Platform_9%2C75.jpg\n",
      "14\n",
      "//upload.wikimedia.org/wikipedia/commons/thumb/4/4a/Commons-logo.svg/30px-Commons-logo.svg.png\n",
      "15\n",
      "//upload.wikimedia.org/wikipedia/commons/thumb/f/fa/Wikiquote-logo.svg/34px-Wikiquote-logo.svg.png\n",
      "16\n",
      "//upload.wikimedia.org/wikipedia/commons/thumb/9/96/Symbol_category_class.svg/16px-Symbol_category_class.svg.png\n",
      "17\n",
      "//upload.wikimedia.org/wikipedia/commons/thumb/4/4a/Commons-logo.svg/12px-Commons-logo.svg.png\n",
      "18\n",
      "//upload.wikimedia.org/wikipedia/commons/thumb/e/e2/Symbol_portal_class.svg/16px-Symbol_portal_class.svg.png\n",
      "19\n",
      "//upload.wikimedia.org/wikipedia/commons/thumb/8/8c/Symbol_information_vote.svg/16px-Symbol_information_vote.svg.png\n",
      "20\n",
      "//upload.wikimedia.org/wikipedia/commons/thumb/8/8a/OOjs_UI_icon_edit-ltr-progressive.svg/10px-OOjs_UI_icon_edit-ltr-progressive.svg.png\n",
      "21\n",
      "//upload.wikimedia.org/wikipedia/commons/thumb/4/4a/Dragon-149393.svg/20px-Dragon-149393.svg.png\n",
      "22\n",
      "//upload.wikimedia.org/wikipedia/commons/thumb/9/9b/HP_-_Harry_Potter_wordmark.svg/19px-HP_-_Harry_Potter_wordmark.svg.png\n",
      "23\n",
      "//upload.wikimedia.org/wikipedia/commons/thumb/8/83/Flag_of_the_United_Kingdom_%283-5%29.svg/24px-Flag_of_the_United_Kingdom_%283-5%29.svg.png\n"
     ]
    }
   ],
   "source": [
    "import requests\n",
    "import bs4\n",
    "result = requests.get(\"https://zh.wikipedia.org/zh-tw/%E5%93%88%E5%88%A9%C2%B7%E6%B3%A2%E7%89%B9\")\n",
    "\n",
    "soup = bs4.BeautifulSoup(result.text, 'lxml') \n",
    "image = soup.select(\"img.mw-file-element\") # <img class=\"mw-file-element\">\n",
    "for i in range(len(image)):    \n",
    "    print(i)    \n",
    "    print(image[i][\"src\"]) # attr=src"
   ]
  },
  {
   "cell_type": "code",
   "execution_count": 3,
   "metadata": {},
   "outputs": [],
   "source": [
    "# 13\n",
    "# //upload.wikimedia.org/wikipedia/commons/thumb/0/04/Kings_Cross_Platform_9%2C75.jpg/220px-Kings_Cross_Platform_9%2C75.jpg\n",
    "\n",
    "image = soup.select(\"img.mw-file-element\")  # <img class=\"mw-file-element\">\n",
    "\n",
    "result = requests.get(\"https:\" + image[13]['src']) # index=13, attrs=\"src\" (source)\n",
    "\n",
    "with open(\"harry_image.png\", \"wb\") as f:    \n",
    "    f.write(result.content)  # 二進制  "
   ]
  }
 ],
 "metadata": {
  "kernelspec": {
   "display_name": "base",
   "language": "python",
   "name": "python3"
  },
  "language_info": {
   "codemirror_mode": {
    "name": "ipython",
    "version": 3
   },
   "file_extension": ".py",
   "mimetype": "text/x-python",
   "name": "python",
   "nbconvert_exporter": "python",
   "pygments_lexer": "ipython3",
   "version": "3.11.5"
  }
 },
 "nbformat": 4,
 "nbformat_minor": 2
}
