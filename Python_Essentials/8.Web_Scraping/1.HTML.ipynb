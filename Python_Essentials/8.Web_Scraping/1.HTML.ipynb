{
 "cells": [
  {
   "cell_type": "markdown",
   "metadata": {},
   "source": [
    "## HTML skeleton:\n",
    "```\n",
    "<!DOCTYPE html>\n",
    "<html>\n",
    "    <head></head>\n",
    "    <body></body>\n",
    "</html>\n",
    "```\n",
    "The DOCTYPE stands for the document type. Each HTML tag consists of 2 parts – starting tag and the closing tag.\n",
    "___\n"
   ]
  },
  {
   "cell_type": "markdown",
   "metadata": {},
   "source": [
    "## Head tag \n",
    "```\n",
    "<!DOCTYPE html>\n",
    "<html>\n",
    "    <head> \n",
    "        <meta charset=\"UTF-8\" >\t\t \n",
    "        <meta name=\"viewport\" content=\"width=device-width, initial-scale=1.0\" />\n",
    "        <title>Document</title>\t\n",
    "    </head>\t\n",
    "    <body>\n",
    "    </body>\n",
    "</html>\n",
    "```\n",
    "\n",
    "The `<meta>` tag defines the metadata of the webpage, such as encoding and viewport size. The `<title>` tag defines the webpage title on the browser’s tab.\n",
    "___\n"
   ]
  },
  {
   "cell_type": "markdown",
   "metadata": {},
   "source": [
    "## Simple Tags\n",
    "* `<h1>`, `<h2>`, … ,`<h6>` are used to define the headings of a page.\n",
    "\n",
    "* `<p>` are used to define a paragraph.\n",
    "\n",
    "* `<ul>`, `<ol>` stands for unordered list and ordered list.\n",
    "\n",
    "* `<li>` stands for list, and it’s used inside `<ul>`, `<ol>`.\n",
    "\n",
    "* `<table>`, `<tr>`, `<th>`, `<td>` defines a table. `tr` stands for table row, `th` stands for table heading, and `td` stands for table data.\n",
    "___\n"
   ]
  },
  {
   "cell_type": "markdown",
   "metadata": {},
   "source": [
    "## Tags with Attributes\n",
    "When using some special tags, we need to give attributes to the tag. This concept is from Object-Oriented Programming. \n",
    "\n",
    "`<a href=“…”>` tag defines a hyperlink, which is used to link from one page to another. The `<a>` stands for anchor.\n",
    "\n",
    "`<img src=“…”>` defines an image on the page. `Src` stands for source.\n",
    "\n",
    "`<input type=“…”>` defines an area to take user input. Input of different types look very different in the webpage.\n",
    "\n",
    "\n",
    "<br>\n",
    "\n",
    "\n",
    "The `anchor tag`, `image tag`, `input tags` don’t have a closing tag. Those tags are called `self-closing tags`. \n",
    "\n"
   ]
  }
 ],
 "metadata": {
  "kernelspec": {
   "display_name": "base",
   "language": "python",
   "name": "python3"
  },
  "language_info": {
   "name": "python",
   "version": "3.11.5"
  }
 },
 "nbformat": 4,
 "nbformat_minor": 2
}
