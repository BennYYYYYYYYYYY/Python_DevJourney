{
 "cells": [
  {
   "cell_type": "markdown",
   "metadata": {},
   "source": [
    "# CSS and Soup_object.select()\n",
    "CSS stands for Cascading Style Sheets. It describes how HTML elements are displayed on the screen, paper, or in other media. The focus of this course is not to make you a web development master; therefore, we won’t talk about any CSS syntax here.\n",
    "\n",
    "In CSS, there’s CSS Selector syntax to select specific HTML elements, and apply styling on those elements. Here’s some rules:\n",
    "\n",
    "* `#someId` – will select all HTML elements with id=“someId”\n",
    "* `.someClass` – will select all HTML elements with class=“someClass”\n",
    "* `p.someClass` – will select all p tags with class=“someClass”\n"
   ]
  },
  {
   "cell_type": "code",
   "execution_count": 3,
   "metadata": {},
   "outputs": [],
   "source": [
    "import requests\n",
    "import bs4\n",
    "import lxml\n",
    "\n",
    "response = requests.get(\"https://www.ccu.edu.tw/\") \n",
    "soup = bs4.BeautifulSoup(response.text, \"lxml\")"
   ]
  },
  {
   "cell_type": "code",
   "execution_count": 7,
   "metadata": {},
   "outputs": [
    {
     "name": "stdout",
     "output_type": "stream",
     "text": [
      "[<div class=\"mpopdiv\" id=\"_pop_login\">\n",
      "<div class=\"mpopbg\"></div>\n",
      "<div class=\"mbox\">\n",
      "</div>\n",
      "<div class=\"alert alert-success\" id=\"_pop_login_alert\">登入成功</div>\n",
      "</div>]\n"
     ]
    }
   ],
   "source": [
    "print(soup.select(\"#_pop_login\")) # id=\"_pop_login\""
   ]
  },
  {
   "cell_type": "code",
   "execution_count": 9,
   "metadata": {},
   "outputs": [
    {
     "name": "stdout",
     "output_type": "stream",
     "text": [
      "[<div class=\"mpopbg\"></div>]\n"
     ]
    }
   ],
   "source": [
    "print(soup.select(\".mpopbg\")) # class=\"mpopbg\""
   ]
  },
  {
   "cell_type": "code",
   "execution_count": 10,
   "metadata": {},
   "outputs": [
    {
     "name": "stdout",
     "output_type": "stream",
     "text": [
      "[<div class=\"mpopbg\"></div>]\n"
     ]
    }
   ],
   "source": [
    "print(soup.select(\"div.mpopbg\")) # <div> class=\"mpopbg\""
   ]
  },
  {
   "cell_type": "markdown",
   "metadata": {},
   "source": [
    "### Since CSS Selector is widely known, beautiful soup also provides a function that accepts a CSS Selector syntax string and returns a list of TAG that matches the selector.\n",
    "\n",
    "`soup.select(CSSSelector)` returns a list of TAG objects by using CSS Selector syntax.\n"
   ]
  },
  {
   "cell_type": "code",
   "execution_count": 12,
   "metadata": {},
   "outputs": [
    {
     "name": "stdout",
     "output_type": "stream",
     "text": [
      "<meta content=\"text/html; charset=utf-8\" http-equiv=\"Content-Type\"/>\n",
      "<meta content=\"IE=edge,chrome=1\" http-equiv=\"X-UA-Compatible\"/>\n",
      "<meta content=\"initial-scale=1.0, user-scalable=1, minimum-scale=1.0, maximum-scale=3.0\" name=\"viewport\"/>\n",
      "<meta content=\"yes\" name=\"apple-mobile-web-app-capable\"/>\n",
      "<meta content=\"black\" name=\"apple-mobile-web-app-status-bar-style\"/>\n",
      "<meta content=\"請填寫網站關鍵記事，用半角逗號(,)隔開\" name=\"keywords\"/>\n",
      "<meta content=\"請填寫網站簡述\" name=\"description\"/>\n",
      "<meta content=\"index,follow\" name=\"robots\"/>\n",
      "<meta content=\"default-src 'self';img-src 'self' data: base64; script-src 'self' 'unsafe-inline' 'unsafe-eval' ;style-src 'self' 'unsafe-inline';frame-src 'self' https://www.google.com https://www.youtube.com\" http-equiv=\"content-security-policy\"/>\n"
     ]
    }
   ],
   "source": [
    "for i in soup.select(\"meta\"):\n",
    "    print(i)"
   ]
  }
 ],
 "metadata": {
  "kernelspec": {
   "display_name": "base",
   "language": "python",
   "name": "python3"
  },
  "language_info": {
   "codemirror_mode": {
    "name": "ipython",
    "version": 3
   },
   "file_extension": ".py",
   "mimetype": "text/x-python",
   "name": "python",
   "nbconvert_exporter": "python",
   "pygments_lexer": "ipython3",
   "version": "3.11.5"
  }
 },
 "nbformat": 4,
 "nbformat_minor": 2
}
