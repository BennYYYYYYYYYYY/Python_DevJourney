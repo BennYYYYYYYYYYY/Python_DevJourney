{
 "cells": [
  {
   "cell_type": "markdown",
   "metadata": {},
   "source": [
    "# Beautiful Soup and lxml\n",
    "Once we have the HTML file as a string, we can search for the things we need in this string. We can do:\n",
    "\n",
    "1. Use a for loop to go through the string and write codes that get the stuff we need from the r.text string. (Requires some programming skills, and a lot of time)\n",
    "\n",
    "2. Use a `regex` to search in the string. (Require some time to write the regex)\n",
    "\n",
    "3. Use some external modules to search things for us automatically, The module is called `Beautiful Soup`.\n"
   ]
  },
  {
   "cell_type": "code",
   "execution_count": 24,
   "metadata": {},
   "outputs": [
    {
     "name": "stdout",
     "output_type": "stream",
     "text": [
      "<class 'str'>\n"
     ]
    }
   ],
   "source": [
    "import requests\n",
    "response = requests.get(\"https://example.com/\") # Response Object\n",
    "response_html_str = response.text # str, 無法查找或操作 HTML 標籤內的特定元素\n",
    "print(type(response_html_str))"
   ]
  },
  {
   "cell_type": "markdown",
   "metadata": {},
   "source": [
    "#### `Beautiful Soup` is a Python library for getting data out of HTML and some other markup languages. <br>\n",
    "#### `Lxml` is a parser for interpreting the HTML.\n",
    "\n",
    "`BeautifulSoup(string, parser)` method in bs4 module takes a string and one parser as inputs and return a special `BeautifulSoup object`.\n"
   ]
  },
  {
   "cell_type": "code",
   "execution_count": 26,
   "metadata": {},
   "outputs": [
    {
     "name": "stdout",
     "output_type": "stream",
     "text": [
      "<class 'bs4.BeautifulSoup'>\n",
      "<!DOCTYPE html>\n",
      "<html>\n",
      "<head>\n",
      "<title>Example Domain</title>\n",
      "<meta charset=\"utf-8\"/>\n",
      "<meta content=\"text/html; charset=utf-8\" http-equiv=\"Content-type\"/>\n",
      "<meta content=\"width=device-width, initial-scale=1\" name=\"viewport\"/>\n",
      "<style type=\"text/css\">\n",
      "    body {\n",
      "        background-color: #f0f0f2;\n",
      "        margin: 0;\n",
      "        padding: 0;\n",
      "        font-family: -apple-system, system-ui, BlinkMacSystemFont, \"Segoe UI\", \"Open Sans\", \"Helvetica Neue\", Helvetica, Arial, sans-serif;\n",
      "        \n",
      "    }\n",
      "    div {\n",
      "        width: 600px;\n",
      "        margin: 5em auto;\n",
      "        padding: 2em;\n",
      "        background-color: #fdfdff;\n",
      "        border-radius: 0.5em;\n",
      "        box-shadow: 2px 3px 7px 2px rgba(0,0,0,0.02);\n",
      "    }\n",
      "    a:link, a:visited {\n",
      "        color: #38488f;\n",
      "        text-decoration: none;\n",
      "    }\n",
      "    @media (max-width: 700px) {\n",
      "        div {\n",
      "            margin: 0 auto;\n",
      "            width: auto;\n",
      "        }\n",
      "    }\n",
      "    </style>\n",
      "</head>\n",
      "<body>\n",
      "<div>\n",
      "<h1>Example Domain</h1>\n",
      "<p>This domain is for use in illustrative examples in documents. You may use this\n",
      "    domain in literature without prior coordination or asking for permission.</p>\n",
      "<p><a href=\"https://www.iana.org/domains/example\">More information...</a></p>\n",
      "</div>\n",
      "</body>\n",
      "</html>\n",
      "\n"
     ]
    }
   ],
   "source": [
    "import bs4\n",
    "import lxml\n",
    "\n",
    "# 把 HTML str parse 成了一個結構化的對象，就可以使用 Python 的方式來操作和查找其中的元素\n",
    "soup = bs4.BeautifulSoup(response_html_str, \"lxml\") # BeautifulSoup Object\n",
    "print(type(soup)) \n",
    "print(soup)\n"
   ]
  },
  {
   "cell_type": "markdown",
   "metadata": {},
   "source": [
    "## After parse the HTML str...\n",
    "* `soup.find(name, attribute)` returns a TAG object of the first match. We can search by name or attribute, or both.\n",
    "\n",
    "* `soup.find_all(name, attribute)` returns a list of TAG objects.\n",
    "\n",
    "* `tag.get(attributeName)` returns the value in that tag’s attribute.\n",
    "\n",
    "* `tag.getText()` returns the text part of the HTML tag.\n"
   ]
  },
  {
   "cell_type": "code",
   "execution_count": 46,
   "metadata": {},
   "outputs": [
    {
     "name": "stdout",
     "output_type": "stream",
     "text": [
      "<class 'bs4.element.Tag'>\n",
      "2 <class 'bs4.element.Tag'>\n",
      "<p><a href=\"https://www.iana.org/domains/example\">More information...</a></p>\n",
      "{'href': 'https://www.iana.org/domains/example'}\n",
      "https://www.iana.org/domains/example\n",
      "<p>This domain is for use in illustrative examples in documents. You may use this\n",
      "    domain in literature without prior coordination or asking for permission.</p>\n",
      "This domain is for use in illustrative examples in documents. You may use this\n",
      "    domain in literature without prior coordination or asking for permission.\n",
      "<a href=\"https://www.iana.org/domains/example\">More information...</a>\n",
      "More information...\n"
     ]
    }
   ],
   "source": [
    "# BeautifulSoup_Object.find()\n",
    "tag_obj = soup.find(\"p\") \n",
    "print(type(tag_obj)) \n",
    "\n",
    "# BeautifulSoup_Object.find_all()\n",
    "tag_obj_list = soup.find_all(\"p\")\n",
    "print(len(tag_obj_list), type(tag_obj_list[0]))\n",
    "\n",
    "print(tag_obj_list[1])\n",
    "a_tag = tag_obj_list[1].find('a')\n",
    "print(a_tag.attrs) # 獲取所有 attribute\n",
    "\n",
    "# Tag_Object.get\n",
    "print(a_tag.get(\"href\")) \n",
    "\n",
    "# Tag_getText()\n",
    "print(tag_obj)\n",
    "print(tag_obj.getText())\n",
    "\n",
    "print(a_tag)\n",
    "print(a_tag.getText())"
   ]
  }
 ],
 "metadata": {
  "kernelspec": {
   "display_name": "base",
   "language": "python",
   "name": "python3"
  },
  "language_info": {
   "codemirror_mode": {
    "name": "ipython",
    "version": 3
   },
   "file_extension": ".py",
   "mimetype": "text/x-python",
   "name": "python",
   "nbconvert_exporter": "python",
   "pygments_lexer": "ipython3",
   "version": "3.11.5"
  }
 },
 "nbformat": 4,
 "nbformat_minor": 2
}
