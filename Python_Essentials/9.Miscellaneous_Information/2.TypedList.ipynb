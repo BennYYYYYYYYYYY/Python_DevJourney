{
 "cells": [
  {
   "cell_type": "markdown",
   "metadata": {},
   "source": [
    "# TypedList\n",
    "In many other programming languages, all elements inside one list must be the same type. The advantage of a one-type list includes tracking errors and making the list stable. If we add something that shouldn’t be in the list, we can quickly figure it out at the beginning of our development.\n",
    "\n",
    "In languages like Java or C++, we can only create lists of a specific type at a time. However, we don’t have that built-in in Python; therefore, we have to build it on our own. Now, let’s learn how to create this data type `TypedList`.\n"
   ]
  },
  {
   "cell_type": "code",
   "execution_count": null,
   "metadata": {},
   "outputs": [],
   "source": [
    "class TypedList(list): # inherit list\n",
    "    def __init__(self, example_element, intial_list): # 指定的 element type\n",
    "        self.type = type(example_element)\n",
    "        if not isinstance(intial_list, list): # 檢查是否為list\n",
    "            raise TypeError(\"Second argument of TypedList must be a list.\")\n",
    "        for element in intial_list:\n",
    "            self.__check(element) # 下面定義\n",
    "        super().__init__(intial_list)\n",
    "\n",
    "    def __check(self, element):\n",
    "        if type(element) != self.type:\n",
    "            raise TypeError(\"Attempt to add an element of incorrect type to a TypedList\")\n",
    "        \n",
    "    def __setitem__(self, i, element):\n",
    "        self.__check(element)\n",
    "        super().__setitem__(i, element)\n",
    "\n",
    "    def __getitem__(self, i):\n",
    "        return super().__getitem__(i)"
   ]
  },
  {
   "cell_type": "code",
   "execution_count": 2,
   "metadata": {},
   "outputs": [
    {
     "ename": "TypeError",
     "evalue": "Attempt to add an element of incorrect type to a TypedList",
     "output_type": "error",
     "traceback": [
      "\u001b[1;31m---------------------------------------------------------------------------\u001b[0m",
      "\u001b[1;31mTypeError\u001b[0m                                 Traceback (most recent call last)",
      "Cell \u001b[1;32mIn[2], line 1\u001b[0m\n\u001b[1;32m----> 1\u001b[0m x \u001b[38;5;241m=\u001b[39m TypedList(\u001b[38;5;124m\"\u001b[39m\u001b[38;5;124mHello\u001b[39m\u001b[38;5;124m\"\u001b[39m, [\u001b[38;5;124m\"\u001b[39m\u001b[38;5;124m123\u001b[39m\u001b[38;5;124m\"\u001b[39m, \u001b[38;5;241m123\u001b[39m, \u001b[38;5;124m\"\u001b[39m\u001b[38;5;124m@#$\u001b[39m\u001b[38;5;124m\"\u001b[39m])\n",
      "Cell \u001b[1;32mIn[1], line 7\u001b[0m, in \u001b[0;36mTypedList.__init__\u001b[1;34m(self, example_element, intial_list)\u001b[0m\n\u001b[0;32m      5\u001b[0m     \u001b[38;5;28;01mraise\u001b[39;00m \u001b[38;5;167;01mTypeError\u001b[39;00m(\u001b[38;5;124m\"\u001b[39m\u001b[38;5;124mSecond argument of TypedList must be a list.\u001b[39m\u001b[38;5;124m\"\u001b[39m)\n\u001b[0;32m      6\u001b[0m \u001b[38;5;28;01mfor\u001b[39;00m element \u001b[38;5;129;01min\u001b[39;00m intial_list:\n\u001b[1;32m----> 7\u001b[0m     \u001b[38;5;28mself\u001b[39m\u001b[38;5;241m.\u001b[39m__check(element) \u001b[38;5;66;03m# 下面定義\u001b[39;00m\n\u001b[0;32m      8\u001b[0m \u001b[38;5;28msuper\u001b[39m()\u001b[38;5;241m.\u001b[39m\u001b[38;5;21m__init__\u001b[39m(intial_list)\n",
      "Cell \u001b[1;32mIn[1], line 12\u001b[0m, in \u001b[0;36mTypedList.__check\u001b[1;34m(self, element)\u001b[0m\n\u001b[0;32m     10\u001b[0m \u001b[38;5;28;01mdef\u001b[39;00m \u001b[38;5;21m__check\u001b[39m(\u001b[38;5;28mself\u001b[39m, element):\n\u001b[0;32m     11\u001b[0m     \u001b[38;5;28;01mif\u001b[39;00m \u001b[38;5;28mtype\u001b[39m(element) \u001b[38;5;241m!=\u001b[39m \u001b[38;5;28mself\u001b[39m\u001b[38;5;241m.\u001b[39mtype:\n\u001b[1;32m---> 12\u001b[0m         \u001b[38;5;28;01mraise\u001b[39;00m \u001b[38;5;167;01mTypeError\u001b[39;00m(\u001b[38;5;124m\"\u001b[39m\u001b[38;5;124mAttempt to add an element of incorrect type to a TypedList\u001b[39m\u001b[38;5;124m\"\u001b[39m)\n",
      "\u001b[1;31mTypeError\u001b[0m: Attempt to add an element of incorrect type to a TypedList"
     ]
    }
   ],
   "source": [
    "x = TypedList(\"Hello\", [\"123\", 123, \"@#$\"])"
   ]
  },
  {
   "cell_type": "code",
   "execution_count": 4,
   "metadata": {},
   "outputs": [
    {
     "name": "stdout",
     "output_type": "stream",
     "text": [
      "1.0\n"
     ]
    }
   ],
   "source": [
    "x = TypedList(1.0, [1.1, 1.0, 1.11111])\n",
    "print(x[1])"
   ]
  }
 ],
 "metadata": {
  "kernelspec": {
   "display_name": "base",
   "language": "python",
   "name": "python3"
  },
  "language_info": {
   "codemirror_mode": {
    "name": "ipython",
    "version": 3
   },
   "file_extension": ".py",
   "mimetype": "text/x-python",
   "name": "python",
   "nbconvert_exporter": "python",
   "pygments_lexer": "ipython3",
   "version": "3.11.5"
  }
 },
 "nbformat": 4,
 "nbformat_minor": 2
}
