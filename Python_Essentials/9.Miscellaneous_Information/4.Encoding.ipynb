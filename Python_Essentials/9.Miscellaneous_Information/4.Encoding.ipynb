{
 "cells": [
  {
   "cell_type": "markdown",
   "metadata": {},
   "source": [
    "# Encoding\n",
    "Since computers can only understand 0 and 1, in order to show characters in computers, we need a way to map 0 and 1 into characters. \n",
    "___\n",
    "# ASCII\n",
    "`ASCII` (American Standard Code for Information Interchange) is a character encoding standard for electronic communication.\n",
    "\n",
    "`ASCII` codes represent text in computers, telecommunications equipment, and other devices. Most modern character-encoding schemes are based on ASCII, although they support many additional characters.\n",
    "\n",
    "`ASCII` uses 1 byte (8 bits) to do encoding, but actually only 7 bits are used. Therefore, `it encodes 128 (which is 2^7) different characters`, including both upper- and lower-case English letters, numbers from 0 to 9, and symbols such as !@#$%.\n",
    "\n",
    "However, it doesn’t include characters from other languages, such as Chinese or Korean letters. \n",
    "Therefore, we need something more capable, something that can deal with more letters.\n",
    "___\n",
    "\n"
   ]
  },
  {
   "cell_type": "markdown",
   "metadata": {},
   "source": [
    "# Unicode \n",
    "`Unicode` is a set of characters (a superset of ASCII.) \n",
    "\n",
    "The standard, which the Unicode Consortium maintains, `defines 144,697 characters covering 159 modern and historic scripts, as well as symbols, emoji, and non-visual control and formatting codes.`\n",
    "___\n",
    "# UTF-8\n",
    "Binary digits mapping to Unicode can be implemented in different ways. The most commonly used encoding is `UTF-8`. \n",
    "`UTF-8 is a variable-length encoding with a minimum of 8 bits per character`. Characters with higher code points will take up to 32 bits. `So UTF-8 can encode Unicode characters in a range of 1 to 4 bytes.`\n",
    "\n",
    "Ideally, the maximum of 4 bytes should be able to map 2^32=4294967296 characters. However, the algorithm we need for `UTF8 encoding support a range of 1 to 4 bytes in memory` puts a limit to this number.\n",
    "\n",
    "How does that work? Each byte starts with a few bits that tell you whether it's a single-byte code-point, a multi-byte code point, or a continuation of a multi-byte code point. For example, a single byte code-point is:\n",
    "```\n",
    "0xxx xxxx (A single-byte ASCII code forms the first 127 characters)\n",
    "```\n",
    "The multi-byte code-points each start with a few bits that essentially say, \"hey, you need to also read the next byte (or two, or three) to figure out what I am.\" They are:\n",
    "```\n",
    "110x xxxx One more byte follows \n",
    "1110 xxxx Two more bytes follow \n",
    "1111 0xxx Three more bytes follow\n",
    "```\n",
    "Finally, the bytes that follow those start codes all look like this:\n",
    "10xx xxxx (A continuation of one of the multi-byte characters)\n",
    "___\n",
    "\n",
    "\n"
   ]
  },
  {
   "cell_type": "markdown",
   "metadata": {},
   "source": [
    "# bytes \n",
    "bytes is a data structure used to store binary data, which can be understood as a sequence of bytes. `Each byte consists of 8 bits` (an integer ranging from 0 to 255). The values of the bytes type can typically be represented in multiple formats, such as binary or hexadecimal.\n",
    "\n",
    "___"
   ]
  },
  {
   "cell_type": "markdown",
   "metadata": {},
   "source": [
    "# str.encode(), byte.decode()\n",
    "In Python 3, `a string is an immutable sequence of Unicode characters`. This is the true meaning behind each string. (That means we can put emojis in Python strings!!!)\n",
    "\n",
    "Python supports changing Unicode characters to its bytes, and bytes to Unicode characters. The encoding could be utf-8 or utf-16, or something else.\n",
    "\n",
    "* `string.encode(encoding)` returns the bytes that the string maps to based on the encoding.<br>\n",
    "* `byte.decode(encoding)` returns the string that the byte maps to based on the encoding.\n"
   ]
  },
  {
   "cell_type": "code",
   "execution_count": null,
   "metadata": {},
   "outputs": [
    {
     "name": "stdout",
     "output_type": "stream",
     "text": [
      "b'\\xe7\\xa7\\x9f'\n"
     ]
    }
   ],
   "source": [
    "unicode_string = \"租\"\n",
    "utf_bytes = unicode_string.encode(\"utf-8\") # bytes\n",
    "print(utf_bytes)"
   ]
  },
  {
   "cell_type": "code",
   "execution_count": 3,
   "metadata": {},
   "outputs": [
    {
     "name": "stdout",
     "output_type": "stream",
     "text": [
      "租\n"
     ]
    }
   ],
   "source": [
    "result_string = utf_bytes.decode(\"utf-8\")\n",
    "print(result_string)"
   ]
  }
 ],
 "metadata": {
  "kernelspec": {
   "display_name": "base",
   "language": "python",
   "name": "python3"
  },
  "language_info": {
   "codemirror_mode": {
    "name": "ipython",
    "version": 3
   },
   "file_extension": ".py",
   "mimetype": "text/x-python",
   "name": "python",
   "nbconvert_exporter": "python",
   "pygments_lexer": "ipython3",
   "version": "3.11.5"
  }
 },
 "nbformat": 4,
 "nbformat_minor": 2
}
