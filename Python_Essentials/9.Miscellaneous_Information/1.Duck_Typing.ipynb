{
 "cells": [
  {
   "cell_type": "markdown",
   "metadata": {},
   "source": [
    "# Duck Typing\n",
    "Even though we have the `type()`, `isinstance()` and `issubclass()` functions to check an object’s type and inheritance relations, we don’t usually use them in Python (unless for debugging purposes.)\n",
    "\n",
    "Python also has a feature that makes using objects even easier; that is – `Duck Typing`. This name originates from American writer and poet James Whitcomb Riley, who came up with the idea of the Duck Test. The Duck test is a form of abductive reasoning, and it says that:\n",
    "\n",
    "*If it looks like a duck, swims like a duck, and quacks like a duck, then it probably is a duck.*\n",
    "___\n"
   ]
  },
  {
   "cell_type": "markdown",
   "metadata": {},
   "source": [
    "Duck typing refers to Python’s way of determining whether an object is a required type for an operation, focusing on its interface rather than its type.\n",
    "\n",
    "If an operation needs an iterator, for example, the object used doesn’t need to be a subclass of any particular iterator or any iterator at all. All that matters is that the object used as an iterator is able to yield a series of objects in an expected way. By contrast, stricter rules of inheritance are enforced in a language like Java.\n",
    "\n",
    "Basically, we don’t necessarily need to know the data type of an object, as long as the object has the functionality we need.\n"
   ]
  },
  {
   "cell_type": "code",
   "execution_count": 5,
   "metadata": {},
   "outputs": [
    {
     "name": "stdout",
     "output_type": "stream",
     "text": [
      "['hello', 'hi', 'yo']\n",
      "['hello', 'hi', 'yo']\n",
      "['key1']\n",
      "['e', 'h', 'h', 'i', 'l', 'l', 'o', 'o', 'y']\n"
     ]
    }
   ],
   "source": [
    "# The sorted function is using the principle of duck typing\n",
    "# This is the Duck Typing style design\n",
    "\n",
    "print(sorted([\"hi\", \"hello\", \"yo\"])) # list\n",
    "print(sorted({\"hi\", \"hello\", \"yo\"})) # set \n",
    "print(sorted({\"key1\": \"hi\", \"key1\": \"hello\", \"key1\": \"yo\"})) # dict\n",
    "print(sorted(\"hihelloyo\")) # str"
   ]
  },
  {
   "cell_type": "code",
   "execution_count": 8,
   "metadata": {},
   "outputs": [
    {
     "name": "stdout",
     "output_type": "stream",
     "text": [
      "14\n",
      "BennyJunoBennyJunoBennyJunoBennyJuno\n",
      "['Benny', 'Juno', 'Ju, Ni', 'Benny', 'Juno', 'Ju, Ni', 'Benny', 'Juno', 'Ju, Ni', 'Benny', 'Juno', 'Ju, Ni']\n",
      "Error occurred..\n"
     ]
    }
   ],
   "source": [
    "def calculate(x, y, z):\n",
    "    return (x + y) * z\n",
    "\n",
    "print(calculate(2, 5, 2)) # maybe that's the \"correct way\" to use this function?\n",
    "print(calculate(\"Benny\", \"Juno\", 4)) # but it works\n",
    "print(calculate([\"Benny\", \"Juno\"], [\"Ju, Ni\"], 4)) # and it works as well\n",
    "\n",
    "# So what if we want to handle the exception?\n",
    "try:\n",
    "    print(calculate([1, 3], 5, 2)) # can't add list with a int\n",
    "except:\n",
    "    print(\"Error occurred..\")"
   ]
  },
  {
   "cell_type": "markdown",
   "metadata": {},
   "source": [
    "### `type()`, `isinstance()`, `issubclass()`"
   ]
  },
  {
   "cell_type": "code",
   "execution_count": 4,
   "metadata": {},
   "outputs": [
    {
     "name": "stdout",
     "output_type": "stream",
     "text": [
      "<class 'str'>\n",
      "True\n",
      "True\n",
      "True\n",
      "False\n",
      "False\n",
      "True\n"
     ]
    }
   ],
   "source": [
    "# type()\n",
    "print(type(\"hi\"))\n",
    "\n",
    "# isinstance()\n",
    "class C:\n",
    "    pass\n",
    "\n",
    "class B(C):\n",
    "    pass\n",
    "\n",
    "class A(B):\n",
    "    pass\n",
    "\n",
    "a = A()\n",
    "b = B()\n",
    "c = C()\n",
    "\n",
    "print(isinstance(a, A))\n",
    "print(isinstance(a, B))\n",
    "print(isinstance(a, C))\n",
    "\n",
    "# issubclass()\n",
    "print(issubclass(C, A))\n",
    "print(issubclass(B, A))\n",
    "print(issubclass(A, A)) # 自己會是自己的集和"
   ]
  }
 ],
 "metadata": {
  "kernelspec": {
   "display_name": "base",
   "language": "python",
   "name": "python3"
  },
  "language_info": {
   "codemirror_mode": {
    "name": "ipython",
    "version": 3
   },
   "file_extension": ".py",
   "mimetype": "text/x-python",
   "name": "python",
   "nbconvert_exporter": "python",
   "pygments_lexer": "ipython3",
   "version": "3.11.5"
  }
 },
 "nbformat": 4,
 "nbformat_minor": 2
}
