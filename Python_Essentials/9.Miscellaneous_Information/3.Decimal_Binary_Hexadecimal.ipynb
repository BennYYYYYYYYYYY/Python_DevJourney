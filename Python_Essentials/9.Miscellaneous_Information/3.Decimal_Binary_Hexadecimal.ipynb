{
 "cells": [
  {
   "cell_type": "markdown",
   "metadata": {},
   "source": [
    "# Decimal, Binary, and Hexadecimal\n",
    "Human beings use decimal number systems; however, computers use binary number systems (due to the nature of electricity.) On top of that, computer hardware (including CPUs and memories) uses a  hexadecimal number system.\n",
    "\n",
    "When working with files in Python, we might come across raw data (such as images or music); then, Python byte comes in handy. Before heading to the concept of byte, let’s spend time learning the different number systems.\n",
    "___\n"
   ]
  },
  {
   "cell_type": "markdown",
   "metadata": {},
   "source": [
    "# Decimal\n",
    "In decimal number system, the number set is:\n",
    "`{0, 1, 2, 3, 4, 5, 6, 7, 8, 9}`\n",
    "___\n",
    "# Binary\n",
    "In binary number system, the number set is:\n",
    "`{0, 1}`\n",
    "\n",
    "When converting binary digits (or bits) to decimal numbers, we can do:<br>\n",
    "`𝑑𝑒𝑐𝑖𝑚𝑎𝑙= 𝑑_0*2^0 + 𝑑_1×2^1 + 𝑑_2×2^2 +…+ 𝑑_𝑘×2^𝑘 ` \n",
    "\n",
    "where the 𝑛th bit is 𝑑_(𝑛−1).<br>\n",
    "For example, if we try to convert 11011001 to decimal, then we do:<br>\n",
    "`1×2^0 + 0×2^1 + 0×2^2 + 1×2^3 + 1×2^4 + 0×2^5 + 1×2^6 + 1×2^7 `\n",
    "\n",
    "That will be `1+8+16+64+128=217`\n",
    "\n",
    "Finally, if we have 1 bit, then it can present have 0 and 1. If we have 2 bits, we can present 00, 01, 10, 11.<br> \n",
    "If we have 3 bits, we can have `000, 001, 010, 011, 100, 101, 110, 111`, a totally 8 different possibilities.\n",
    "\n",
    "If we have n bits, then it can present 2^𝑛 different numbers. That means, If we have n bits, then it can present<br>\n",
    "decimal numbers from 0 to `2^𝑛−1.`\n",
    "\n",
    "For example, if we have 8 bits, then it can present integers from 0 to 255. \n",
    "___\n",
    "# Hexadecimal\n",
    "The Hexadecimal number system's number set is:\n",
    "`{0, 1, 2, 3, 4, 5, 6, 7, 8, 9, A, B, C, D, E, F}`\n",
    "___"
   ]
  },
  {
   "cell_type": "markdown",
   "metadata": {},
   "source": [
    "## `hex(number)` \n",
    "converts the specified integer number into a hexadecimal value. The return string always starts with the prefix `0x`.\n",
    "\n",
    "## `bin(number)` \n",
    "returns the binary version of a specified integer number. The result will always start with the prefix `0b`.\n"
   ]
  },
  {
   "cell_type": "code",
   "execution_count": 1,
   "metadata": {},
   "outputs": [
    {
     "name": "stdout",
     "output_type": "stream",
     "text": [
      "0xfa\n",
      "0b11111010\n"
     ]
    }
   ],
   "source": [
    "print(hex(250))\n",
    "print(bin(250))"
   ]
  }
 ],
 "metadata": {
  "kernelspec": {
   "display_name": "base",
   "language": "python",
   "name": "python3"
  },
  "language_info": {
   "codemirror_mode": {
    "name": "ipython",
    "version": 3
   },
   "file_extension": ".py",
   "mimetype": "text/x-python",
   "name": "python",
   "nbconvert_exporter": "python",
   "pygments_lexer": "ipython3",
   "version": "3.11.5"
  }
 },
 "nbformat": 4,
 "nbformat_minor": 2
}
