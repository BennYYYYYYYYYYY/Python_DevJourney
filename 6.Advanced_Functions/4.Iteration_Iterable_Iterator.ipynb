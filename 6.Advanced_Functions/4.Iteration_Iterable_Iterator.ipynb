{
 "cells": [
  {
   "cell_type": "markdown",
   "metadata": {},
   "source": [
    "# Iteration, Iterable, Iterator"
   ]
  },
  {
   "cell_type": "markdown",
   "metadata": {},
   "source": [
    "## Iteration\n",
    "Iteration is a general term for taking each item of something, one after another. Any time you use a loop, explicit or implicit, to go over a group of items, that is iteration. Iteration is just a `concept`.\n"
   ]
  },
  {
   "cell_type": "markdown",
   "metadata": {},
   "source": [
    "## Iterable\n",
    "According to the Python documentation, an iterable is an object that has an `__iter__` method which returns an `iterator`, or which defines a `__getitem__` method that can take sequential indexes starting from zero (and raises an IndexError when the indexes are no longer valid).\n",
    "\n",
    "When an iterable object is passed as an argument to the built-in function iter(), it returns an iterator for the object. (Python automatically does this for us.)\n",
    "\n",
    "*Any generator is an iterator"
   ]
  },
  {
   "cell_type": "code",
   "execution_count": 7,
   "metadata": {},
   "outputs": [
    {
     "name": "stdout",
     "output_type": "stream",
     "text": [
      "5\n",
      "0\n"
     ]
    }
   ],
   "source": [
    "# iterable => (1) __iter__() method returns an iterator\n",
    "# iterable => (2) implements __getitem__() \n",
    "\n",
    "# (1) __iter__()\n",
    "class Something:\n",
    "    def __iter__(self):\n",
    "        yield 5\n",
    "        for x in range(1):\n",
    "            yield x\n",
    "\n",
    "s = Something()\n",
    "# s is an iterable\n",
    "# iter(iterable) return an iterator\n",
    "for i in s:\n",
    "    print(i)"
   ]
  },
  {
   "cell_type": "code",
   "execution_count": 15,
   "metadata": {},
   "outputs": [
    {
     "name": "stdout",
     "output_type": "stream",
     "text": [
      "DEF Inc\n"
     ]
    }
   ],
   "source": [
    "# iterable => (1) __iter__() method returns an iterator\n",
    "# iterable => (2) implements __getitem__() \n",
    "\n",
    "# (2) __getitem__()\n",
    "class Building():\n",
    "    def __init__(self, floors):\n",
    "        self.__floors = [None] * floors # [None, None,...]\n",
    "\n",
    "    def __setitem__(self, floor_number, data): # __setitem__: 讓對象可以像列表、字典等內建類型一樣使用方括號 [] 進行索引。\n",
    "        self.__floors[floor_number] = data\n",
    "\n",
    "    def __getitem__(self, floor_number): # __getitem__: 定義使用 [] 來獲取對象中的元素的行為。\n",
    "        return self.__floors[floor_number]\n",
    "    \n",
    "\n",
    "building1 = Building(4) \n",
    "building1[0] = 'Reception' # __setitem__(0, 'Reception')\n",
    "building1[1] = 'ABC Corp'\n",
    "building1[2] = 'DEF Inc'\n",
    "\n",
    "print(building1[2]) # __getitem__(2)"
   ]
  },
  {
   "cell_type": "markdown",
   "metadata": {},
   "source": [
    "## Iterator\n",
    "An iterator is an object that has `__iter__` method that returns self (because the `__iter__` method is always supposed to return an iterator), and has `__next__` method implemented."
   ]
  },
  {
   "cell_type": "code",
   "execution_count": 13,
   "metadata": {},
   "outputs": [
    {
     "name": "stdout",
     "output_type": "stream",
     "text": [
      "['__add__', '__class__', '__class_getitem__', '__contains__', '__delattr__', '__delitem__', '__dir__', '__doc__', '__eq__', '__format__', '__ge__', '__getattribute__', '__getitem__', '__getstate__', '__gt__', '__hash__', '__iadd__', '__imul__', '__init__', '__init_subclass__', '__iter__', '__le__', '__len__', '__lt__', '__mul__', '__ne__', '__new__', '__reduce__', '__reduce_ex__', '__repr__', '__reversed__', '__rmul__', '__setattr__', '__setitem__', '__sizeof__', '__str__', '__subclasshook__', 'append', 'clear', 'copy', 'count', 'extend', 'index', 'insert', 'pop', 'remove', 'reverse', 'sort']\n",
      "['__class__', '__delattr__', '__dir__', '__doc__', '__eq__', '__format__', '__ge__', '__getattribute__', '__getstate__', '__gt__', '__hash__', '__init__', '__init_subclass__', '__iter__', '__le__', '__length_hint__', '__lt__', '__ne__', '__new__', '__next__', '__reduce__', '__reduce_ex__', '__repr__', '__setattr__', '__setstate__', '__sizeof__', '__str__', '__subclasshook__']\n",
      "1\n",
      "2\n"
     ]
    }
   ],
   "source": [
    "# iterator is a subset of iterable\n",
    "\n",
    "x = [1, 2]\n",
    "print(dir(x)) # list is not iterator (do not have __next__)\n",
    "# __iter__() returns a iterator \n",
    "\n",
    "print(dir(iter(x))) # iter(x) is a iterator (have __iter__ and __next__)\n",
    "\n",
    "list_iterator = iter(x)\n",
    "print(next(list_iterator)) # 1\n",
    "print(next(list_iterator)) # 2"
   ]
  },
  {
   "cell_type": "code",
   "execution_count": 14,
   "metadata": {},
   "outputs": [
    {
     "name": "stdout",
     "output_type": "stream",
     "text": [
      "0\n",
      "1\n",
      "2\n",
      "3\n",
      "4\n"
     ]
    }
   ],
   "source": [
    "# self made iterator\n",
    "\n",
    "class MyIterator:\n",
    "    def __init__(self, max_num):\n",
    "        self.max_num = max_num\n",
    "        self.index = 0\n",
    "\n",
    "    def __iter__(self):\n",
    "        return self # return self as an iterator object\n",
    "    \n",
    "    def __next__(self):\n",
    "        if self.index < self.max_num:\n",
    "            value = self.index\n",
    "            self.index += 1\n",
    "            return value\n",
    "        else:\n",
    "            self.index = 0\n",
    "            raise StopIteration\n",
    "        \n",
    "my_iterator = MyIterator(5)\n",
    "for item in my_iterator:\n",
    "    print(item)\n"
   ]
  },
  {
   "cell_type": "markdown",
   "metadata": {},
   "source": [
    "## For statement\n",
    "When using iterables, it is usually not necessary to call iter() or deal with iterator objects ourselves. The for statement does that automatically for us, creating an unnamed temporary variable to hold the iterator for the duration of the loop.\n",
    "Therefore, the secret mechanism of for loop behind the scene is - Python for loop creates an iterator object and executes the next() method for each loop.\n"
   ]
  }
 ],
 "metadata": {
  "kernelspec": {
   "display_name": "base",
   "language": "python",
   "name": "python3"
  },
  "language_info": {
   "codemirror_mode": {
    "name": "ipython",
    "version": 3
   },
   "file_extension": ".py",
   "mimetype": "text/x-python",
   "name": "python",
   "nbconvert_exporter": "python",
   "pygments_lexer": "ipython3",
   "version": "3.11.5"
  }
 },
 "nbformat": 4,
 "nbformat_minor": 2
}
