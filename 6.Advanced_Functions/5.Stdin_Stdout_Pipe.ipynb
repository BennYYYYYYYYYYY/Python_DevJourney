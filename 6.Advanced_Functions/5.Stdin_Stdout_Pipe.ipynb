{
 "cells": [
  {
   "cell_type": "markdown",
   "metadata": {},
   "source": [
    "# Stdin, Stdout, Pipe"
   ]
  },
  {
   "cell_type": "markdown",
   "metadata": {},
   "source": [
    "When executing Python codes in the terminal or command prompt, it’s very common to use `stdin` (standard input), `stdout` (standard output) and `pipe`.\n",
    "\n",
    "In Python, `input()` and `print()` can be used to take stdin and stdout; however, we can also redirect them. If we redirect our output to a file, then we are able to write the result of a program to a file. With the same idea, we can redirect a file as our input.\n",
    "\n",
    "Therefore, our program has the ability to read and write to a file through command line arguments.\n"
   ]
  },
  {
   "cell_type": "markdown",
   "metadata": {},
   "source": [
    "# `>`, `<`, `>>`\n",
    "`>`, `<`, and `>>` are used to redirect the standard input, and output.\n",
    "\n",
    "`>` means to overwrite.\n",
    "`>>` means to append. \n",
    "`<` means to read.\n",
    "`|` means to pipe\n",
    "\n",
    "Also, we can use the pipe functionality to  transfer an output of a program to be an input of another program.\n",
    "```\n",
    "python 5.Stdin_Stdout_Pipe.py zero 0 < infile.txt > outfile.txt\n",
    "```\n",
    "```\n",
    "python 5.Stdin_Stdout_Pipe.py zero 0 < infile.txt | 5.Stdin_Stdout_Pipe.py 1 one > outfile2.txt\n",
    "\n",
    "```\n"
   ]
  }
 ],
 "metadata": {
  "kernelspec": {
   "display_name": "base",
   "language": "python",
   "name": "python3"
  },
  "language_info": {
   "name": "python",
   "version": "3.11.5"
  }
 },
 "nbformat": 4,
 "nbformat_minor": 2
}
