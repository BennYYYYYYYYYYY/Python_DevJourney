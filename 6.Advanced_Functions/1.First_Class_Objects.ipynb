{
 "cells": [
  {
   "cell_type": "markdown",
   "metadata": {},
   "source": [
    "## First Class Objects\n",
    "Python functions are first-class objects. A programming language has First-class functions if functions in that language are treated like other objects or variables.\n",
    "\n",
    "Therefore, a function can be:\n",
    "\n",
    "1. assigned to a variable.\n",
    "2. passed as an argument into another function. \n",
    "3. returned by another function.\n",
    "4. Put into a list, tuple, or dictionary.\n",
    "\n",
    "JavaScript, Python, and other programming languages treat functions as a first-class citizens; therefore, functions have the same privilege as strings, numbers, and other objects.\n",
    "\n",
    "On the other hand, in Java or C++, functions are second-class objects. Therefore, none of the 4 points we mentioned are available in Java or C++.\n",
    "\n",
    "A function that takes another function as an input is called a higher-order function."
   ]
  },
  {
   "cell_type": "markdown",
   "metadata": {},
   "source": [
    "## 1. Assigned to a variable."
   ]
  },
  {
   "cell_type": "code",
   "execution_count": 1,
   "metadata": {},
   "outputs": [
    {
     "name": "stdout",
     "output_type": "stream",
     "text": [
      "hello\n"
     ]
    }
   ],
   "source": [
    "def hello():\n",
    "    print(\"hello\")\n",
    "\n",
    "greet = hello # 傳遞 function 不需要()\n",
    "greet()"
   ]
  },
  {
   "cell_type": "markdown",
   "metadata": {},
   "source": [
    "## 2. Passed as an argument into another function"
   ]
  },
  {
   "cell_type": "code",
   "execution_count": 2,
   "metadata": {},
   "outputs": [
    {
     "name": "stdout",
     "output_type": "stream",
     "text": [
      "hello\n"
     ]
    }
   ],
   "source": [
    "def hello():\n",
    "    print(\"hello\")\n",
    "\n",
    "def call_another_function(func):\n",
    "    func()\n",
    "\n",
    "call_another_function(hello)"
   ]
  },
  {
   "cell_type": "markdown",
   "metadata": {},
   "source": [
    "## 3. Returned by another function "
   ]
  },
  {
   "cell_type": "code",
   "execution_count": 5,
   "metadata": {},
   "outputs": [
    {
     "name": "stdout",
     "output_type": "stream",
     "text": [
      "greet, Benny\n"
     ]
    }
   ],
   "source": [
    "def hello(name):\n",
    "    def greet(another_name):\n",
    "        print(\"greet, \" + another_name)\n",
    "    \n",
    "    def bye(another_name):\n",
    "        print(\"bye, \" + another_name)\n",
    "\n",
    "    if name == \"greet\":\n",
    "        return greet\n",
    "    else:\n",
    "        return bye\n",
    "        \n",
    "welcome = hello(\"greet\") # return greet() function to welcome\n",
    "welcome(\"Benny\")\n"
   ]
  },
  {
   "cell_type": "markdown",
   "metadata": {},
   "source": [
    "## 4. Put into a list, tuple or dictionary"
   ]
  },
  {
   "cell_type": "code",
   "execution_count": 6,
   "metadata": {},
   "outputs": [
    {
     "name": "stdout",
     "output_type": "stream",
     "text": [
      "hello one\n",
      "hello_two\n"
     ]
    }
   ],
   "source": [
    "def hello_one():\n",
    "    print(\"hello one\")\n",
    "\n",
    "def hello_two():\n",
    "    print(\"hello_two\")\n",
    "\n",
    "for i in [hello_one, hello_two]:\n",
    "    i()"
   ]
  }
 ],
 "metadata": {
  "kernelspec": {
   "display_name": "base",
   "language": "python",
   "name": "python3"
  },
  "language_info": {
   "codemirror_mode": {
    "name": "ipython",
    "version": 3
   },
   "file_extension": ".py",
   "mimetype": "text/x-python",
   "name": "python",
   "nbconvert_exporter": "python",
   "pygments_lexer": "ipython3",
   "version": "3.11.5"
  }
 },
 "nbformat": 4,
 "nbformat_minor": 2
}
