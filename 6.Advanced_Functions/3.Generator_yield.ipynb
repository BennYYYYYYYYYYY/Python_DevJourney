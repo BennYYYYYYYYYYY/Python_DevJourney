{
 "cells": [
  {
   "cell_type": "markdown",
   "metadata": {},
   "source": [
    "## Generator\n",
    "Recall the generator syntax that we learned. (The one that is very similar to comprehension.)\n",
    "\n",
    "However, we need a better (or general) way to create a generator. When defining a generator, a `yield` statement is used rather than a return statement.\n",
    "\n",
    "Also, in Python 3.3, they introduced a new keyword `yield from`. Yield from works just like yield, but it only passes the generator into another generator."
   ]
  },
  {
   "cell_type": "markdown",
   "metadata": {},
   "source": [
    "### Without `yield` statement"
   ]
  },
  {
   "cell_type": "code",
   "execution_count": 4,
   "metadata": {},
   "outputs": [
    {
     "name": "stdout",
     "output_type": "stream",
     "text": [
      "0\n",
      "1\n",
      "8\n",
      "27\n",
      "64\n"
     ]
    }
   ],
   "source": [
    "def cube(n):\n",
    "    result = []\n",
    "    for i in range(n):\n",
    "        result.append(i ** 3)\n",
    "    return result\n",
    "\n",
    "for i in cube(5):\n",
    "    print(i)\n"
   ]
  },
  {
   "cell_type": "markdown",
   "metadata": {},
   "source": [
    "### With `yield` statement"
   ]
  },
  {
   "cell_type": "code",
   "execution_count": 3,
   "metadata": {},
   "outputs": [
    {
     "name": "stdout",
     "output_type": "stream",
     "text": [
      "<generator object cube at 0x0000016D32373100>\n",
      "0\n",
      "1\n",
      "8\n",
      "27\n",
      "64\n"
     ]
    }
   ],
   "source": [
    "def cube(n):\n",
    "    for x in range(n):\n",
    "        yield x ** 3  # return a generator object \n",
    "\n",
    "print(cube(5)) # generator object\n",
    "\n",
    "for element in cube(5):\n",
    "    print(element)"
   ]
  },
  {
   "cell_type": "markdown",
   "metadata": {},
   "source": [
    "### `yield from`"
   ]
  },
  {
   "cell_type": "code",
   "execution_count": 10,
   "metadata": {},
   "outputs": [
    {
     "name": "stdout",
     "output_type": "stream",
     "text": [
      "0\n",
      "1\n",
      "4\n",
      "9\n",
      "16\n"
     ]
    }
   ],
   "source": [
    "# yield from 用來委託另一個生成器或可迭代對象，\n",
    "def sub_generator(x):\n",
    "    for i in range(x):\n",
    "        yield i ** 2\n",
    "\n",
    "def gen(y):\n",
    "    yield from sub_generator(y) # 代理 sub_generator(y) 生成的所有值\n",
    "\n",
    "for num in gen(5):\n",
    "    print(num)"
   ]
  }
 ],
 "metadata": {
  "kernelspec": {
   "display_name": "base",
   "language": "python",
   "name": "python3"
  },
  "language_info": {
   "codemirror_mode": {
    "name": "ipython",
    "version": 3
   },
   "file_extension": ".py",
   "mimetype": "text/x-python",
   "name": "python",
   "nbconvert_exporter": "python",
   "pygments_lexer": "ipython3",
   "version": "3.11.5"
  }
 },
 "nbformat": 4,
 "nbformat_minor": 2
}
