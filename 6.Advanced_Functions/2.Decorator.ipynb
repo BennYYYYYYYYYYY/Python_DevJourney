{
 "cells": [
  {
   "cell_type": "markdown",
   "metadata": {},
   "source": [
    "## Decorator\n",
    "In Python, it’s very common to use a higher-order function to wrap a function. \n",
    "```\n",
    "def higherOrder(inner):\n",
    "    def func():\n",
    "        # some code\n",
    "        inner()\n",
    "        # some code\n",
    "    return func\n",
    "\n",
    "def someFunc():\n",
    "    # somecode\n",
    "\n",
    "finalFunc = higherOrder(someFunc)\n",
    "finalFunc()\n",
    "\n",
    "```"
   ]
  },
  {
   "cell_type": "code",
   "execution_count": 1,
   "metadata": {},
   "outputs": [
    {
     "name": "stdout",
     "output_type": "stream",
     "text": [
      "Here is some code before the original function.\n",
      "Hello\n",
      "Here is some code after the original function.\n"
     ]
    }
   ],
   "source": [
    "def new_decorator(original_func):\n",
    "    def wrap_func():\n",
    "        print(\"Here is some code before the original function.\")\n",
    "        original_func()\n",
    "        print(\"Here is some code after the original function.\")\n",
    "    return wrap_func # 傳遞 function 不需要 ()\n",
    "\n",
    "def hello():\n",
    "    print(\"Hello\")\n",
    "\n",
    "decorated_function = new_decorator(hello) # return wrap_func in new_decorator \n",
    "decorated_function()"
   ]
  },
  {
   "cell_type": "markdown",
   "metadata": {},
   "source": [
    "## Decorator\n",
    "Python has a syntax sugar called decorator that allows us to simplify this process:\n",
    "```\n",
    "def higherOrder(inner):\n",
    "    def func():\n",
    "        # some code\n",
    "        inner()\n",
    "        # some code\n",
    "    return func\n",
    "\n",
    "@higherOrder\n",
    "def someFunc():\n",
    "    # somecode\n",
    "    \n",
    "someFunc()\n",
    "```\n"
   ]
  },
  {
   "cell_type": "code",
   "execution_count": 2,
   "metadata": {},
   "outputs": [
    {
     "name": "stdout",
     "output_type": "stream",
     "text": [
      "Here is some code before the original function.\n",
      "Hello\n",
      "Here is some code after the original function.\n"
     ]
    }
   ],
   "source": [
    "def new_decorator(original_func):\n",
    "    def wrap_func():\n",
    "        print(\"Here is some code before the original function.\")\n",
    "        original_func()\n",
    "        print(\"Here is some code after the original function.\")\n",
    "    return wrap_func # 傳遞 function 不需要 ()\n",
    "\n",
    "\n",
    "@new_decorator # decorator 不需要 ()\n",
    "def hello():\n",
    "    print(\"Hello\")\n",
    "\n",
    "# decorated_function = new_decorator(hello) # return wrap_func in new_decorator \n",
    "decorated_function()"
   ]
  }
 ],
 "metadata": {
  "kernelspec": {
   "display_name": "base",
   "language": "python",
   "name": "python3"
  },
  "language_info": {
   "codemirror_mode": {
    "name": "ipython",
    "version": 3
   },
   "file_extension": ".py",
   "mimetype": "text/x-python",
   "name": "python",
   "nbconvert_exporter": "python",
   "pygments_lexer": "ipython3",
   "version": "3.11.5"
  }
 },
 "nbformat": 4,
 "nbformat_minor": 2
}
